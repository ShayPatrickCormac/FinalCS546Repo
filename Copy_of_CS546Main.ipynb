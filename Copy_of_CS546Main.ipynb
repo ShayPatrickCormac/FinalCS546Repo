{
  "cells": [
    {
      "cell_type": "code",
      "execution_count": null,
      "metadata": {
        "id": "zbUB23KlYE_L"
      },
      "outputs": [],
      "source": [
        "from google.colab import drive\n",
        "import os\n",
        "import json\n",
        "import nltk\n",
        "from nltk.stem import WordNetLemmatizer\n",
        "from nltk.corpus import stopwords\n",
        "from nltk.corpus import wordnet\n",
        "from nltk.tokenize import RegexpTokenizer\n",
        "from nltk import pos_tag"
      ]
    },
    {
      "cell_type": "code",
      "execution_count": null,
      "metadata": {
        "colab": {
          "base_uri": "https://localhost:8080/"
        },
        "id": "zfknm0Y_YGHQ",
        "outputId": "c2e8f9d0-a06e-4ecf-9261-5da089526fd9"
      },
      "outputs": [
        {
          "output_type": "stream",
          "name": "stdout",
          "text": [
            "Mounted at /content/drive\n"
          ]
        }
      ],
      "source": [
        "drive.mount('/content/drive')\n",
        "datadir = \"/content/drive/My Drive/CS546Data/\""
      ]
    },
    {
      "cell_type": "code",
      "source": [
        "import re\n",
        "\n",
        "def parse_entities_from_file(file_path):\n",
        "    entities = []\n",
        "    with open(file_path, 'r', encoding='utf-8') as file:\n",
        "        for line in file:\n",
        "            # Skip lines that don't contain entity definitions\n",
        "            if line.startswith(\"<\") or line.strip() == '':\n",
        "                continue\n",
        "            # Extract entity, ignoring hierarchy indentation\n",
        "            entity = line.strip().split('\\t')[-1]\n",
        "            entities.append(entity)\n",
        "    return entities\n",
        "\n",
        "paths_to_ontology_files = [\n",
        "    # datadir + 'Ontology/hierarchy.txt',\n",
        "    datadir + 'Ontology/listEntities.txt'\n",
        "    # datadir + 'Ontology/listEvents.txt',\n",
        "    # datadir + 'Ontology/listPredicates.txt',\n",
        "    # datadir + 'Ontology/listFacts.txt'\n",
        "]\n",
        "all_entities = set()\n",
        "\n",
        "for file_path in paths_to_ontology_files:\n",
        "    entities_in_file = parse_entities_from_file(file_path)\n",
        "    all_entities.update(entities_in_file)\n",
        "\n",
        "# Convert the set to a list and sort it\n",
        "entities_list = sorted(list(all_entities))\n",
        "\n",
        "# Write the entities to a text file\n",
        "with open('entities_list.txt', 'w', encoding='utf-8') as f:\n",
        "    for entity in entities_list:\n",
        "        f.write(f\"{entity}\\n\")"
      ],
      "metadata": {
        "id": "DtZrIwFBnHle"
      },
      "execution_count": null,
      "outputs": []
    },
    {
      "cell_type": "code",
      "source": [
        "def load_entities(file_path):\n",
        "    with open(file_path, 'r', encoding='utf-8') as file:\n",
        "        entities = [line.strip() for line in file.readlines()]\n",
        "    return entities\n",
        "\n",
        "entities_list = load_entities('./entities_list.txt')"
      ],
      "metadata": {
        "id": "iVz1NvXjmvja"
      },
      "execution_count": null,
      "outputs": []
    },
    {
      "cell_type": "code",
      "source": [
        "def tag_entities_in_text(text, entities):\n",
        "    for entity in entities:\n",
        "        # Create a pattern that matches the entity\n",
        "        pattern = re.compile(re.escape(entity), re.IGNORECASE)\n",
        "        # Replace with the tagged version\n",
        "        text = pattern.sub(f'[ENTITY]{entity}[/ENTITY]', text)\n",
        "    return text"
      ],
      "metadata": {
        "id": "3BUKrzz7m4Ts"
      },
      "execution_count": null,
      "outputs": []
    },
    {
      "cell_type": "code",
      "source": [
        "def read_and_tag_data(file_path, entities):\n",
        "    with open(file_path, 'r', encoding='utf-8') as file:\n",
        "        data = json.load(file)\n",
        "\n",
        "    for key, value in data.items():\n",
        "        tagged_text = tag_entities_in_text(value['description'], entities)\n",
        "        data[key]['description'] = tagged_text\n",
        "\n",
        "    return data\n",
        "\n",
        "tagged_data = read_and_tag_data('path_to_your_minecraft_data.json', entities_list)"
      ],
      "metadata": {
        "id": "sVfAXaPgm63T"
      },
      "execution_count": null,
      "outputs": []
    },
    {
      "cell_type": "code",
      "execution_count": null,
      "metadata": {
        "id": "BqZkIM5QYHPG"
      },
      "outputs": [],
      "source": [
        "def tag_entities(text, entities):\n",
        "    tagged_text = text.lower()  # Convert text to lowercase for matching\n",
        "    for entity in entities:\n",
        "        # Convert entity to lowercase for matching\n",
        "        lower_entity = entity.lower()\n",
        "        # Escape special characters in entity names for regex\n",
        "        escaped_entity = re.escape(lower_entity)\n",
        "        # Replace entity with tagged version, use word boundaries to match whole words\n",
        "        tagged_text = re.sub(rf'\\b{escaped_entity}\\b', f'[ENTITY]{entity}[/ENTITY]', tagged_text)\n",
        "    return tagged_text\n",
        "\n",
        "def read_files_to_json(folder_paths, entity_list):\n",
        "    data_dict = {}\n",
        "\n",
        "    if os.path.exists('/content/minecraft_data.json'):\n",
        "        with open('/content/minecraft_data.json', 'r', encoding='utf-8') as json_file:\n",
        "            data_dict = json.load(json_file)\n",
        "\n",
        "    for folder_path in folder_paths:\n",
        "        for filename in os.listdir(folder_path):\n",
        "            if filename.endswith(\".txt\"):\n",
        "                topic = filename.replace(\".txt\", \"\")\n",
        "                with open(os.path.join(folder_path, filename), 'r', encoding='utf-8') as file:\n",
        "                    content = file.read()\n",
        "                    # Tag the entities in the content\n",
        "                    content_with_entities = tag_entities_in_text(content, entity_list)\n",
        "\n",
        "                data_dict[topic] = {\n",
        "                    'description': content_with_entities  # Store the content with entities tagged\n",
        "                }\n",
        "\n",
        "    data_json = json.dumps(data_dict, indent=4)\n",
        "\n",
        "    with open('/content/minecraft_data.json', 'w', encoding='utf-8') as json_file:\n",
        "        json_file.write(data_json)\n",
        "\n",
        "    return data_dict\n",
        "\n",
        "# Now call the function with the entity list\n",
        "folder_paths = [\n",
        "    datadir + 'KnowledgeDatabase/GamepediaTxt/Blocks',\n",
        "    datadir + 'KnowledgeDatabase/GamepediaTxt/Entity',\n",
        "    datadir + 'KnowledgeDatabase/GamepediaTxt/Items',\n",
        "    datadir + 'KnowledgeDatabase/GamepediaTxt/Other'\n",
        "]\n",
        "minecraft_data = read_files_to_json(folder_paths, entities_list)\n"
      ]
    },
    {
      "cell_type": "code",
      "source": [
        "import re\n",
        "from nltk import pos_tag\n",
        "from nltk.corpus import stopwords\n",
        "from nltk.tokenize import RegexpTokenizer\n",
        "from nltk.stem import WordNetLemmatizer\n",
        "from nltk.corpus import wordnet\n",
        "\n",
        "# Function to extract entities from ontology files\n",
        "def parse_entities_from_file(file_path):\n",
        "    entities = []\n",
        "    with open(file_path, 'r', encoding='utf-8') as file:\n",
        "        for line in file:\n",
        "            # Skip lines that don't contain entity definitions\n",
        "            if line.startswith(\"<\") or line.strip() == '':\n",
        "                continue\n",
        "            # Extract entity, ignoring hierarchy indentation\n",
        "            entity = line.strip().split('\\t')[-1]\n",
        "            entities.append(entity)\n",
        "    return entities\n",
        "\n",
        "# Function to get the wordnet POS tag\n",
        "def get_wordnet_pos(treebank_tag):\n",
        "    if treebank_tag.startswith('J'):\n",
        "        return wordnet.ADJ\n",
        "    elif treebank_tag.startswith('V'):\n",
        "        return wordnet.VERB\n",
        "    elif treebank_tag.startswith('N'):\n",
        "        return wordnet.NOUN\n",
        "    elif treebank_tag.startswith('R'):\n",
        "        return wordnet.ADV\n",
        "    else:\n",
        "        return wordnet.NOUN  # Default to noun\n",
        "\n",
        "# Function to preprocess text\n",
        "def preprocess_text(text, entity_list):\n",
        "    lemmatizer = WordNetLemmatizer()\n",
        "    tokenizer = RegexpTokenizer(r'\\w+|[ENTITY][^/]+[/ENTITY]')  # Adjust the tokenizer to capture entity tags as single tokens\n",
        "    tokens = tokenizer.tokenize(text)\n",
        "\n",
        "    processed_tokens = []\n",
        "    for token in tokens:\n",
        "        if token.startswith('[ENTITY]'):\n",
        "            processed_tokens.append(token)  # Keep the entity as is\n",
        "        else:\n",
        "            # Lowercase non-entity tokens\n",
        "            token = token.lower()\n",
        "            if token not in stopwords.words('english'):\n",
        "                # Get POS tags for lemmatization\n",
        "                pos = pos_tag([token])[0][1]\n",
        "                wordnet_pos = get_wordnet_pos(pos)  # Convert the tag to wordnet format\n",
        "                # Lemmatize the token\n",
        "                lemmatized_token = lemmatizer.lemmatize(token, wordnet_pos)\n",
        "                processed_tokens.append(lemmatized_token)\n",
        "    return ' '.join(processed_tokens)\n",
        "\n",
        "# Example usage\n",
        "# entities_list = parse_entities_from_file('ontology.txt')  # Assuming 'ontology.txt' contains your ontology entities\n",
        "sample_text = \"To create a [ENTITY]Nether Portal[/ENTITY], you need [ENTITY]Obsidian[/ENTITY] which can be mined with a [ENTITY]Diamond Pickaxe[/ENTITY].\"\n",
        "preprocessed_sample = preprocess_text(sample_text, entities_list)\n",
        "print(preprocessed_sample)"
      ],
      "metadata": {
        "colab": {
          "base_uri": "https://localhost:8080/"
        },
        "id": "T3ZhSlOjbuKE",
        "outputId": "0bc0c433-f264-40b2-e325-40537cb88540"
      },
      "execution_count": null,
      "outputs": [
        {
          "output_type": "stream",
          "name": "stdout",
          "text": [
            "create nether portal need entity obsidian entity mine entity diamond pickaxe entity\n"
          ]
        }
      ]
    },
    {
      "cell_type": "code",
      "execution_count": null,
      "metadata": {
        "colab": {
          "base_uri": "https://localhost:8080/"
        },
        "id": "PmFddVreZPqC",
        "outputId": "c5387deb-c7e1-4ffc-ce70-868099a84537"
      },
      "outputs": [
        {
          "output_type": "stream",
          "name": "stderr",
          "text": [
            "[nltk_data] Downloading package punkt to /root/nltk_data...\n",
            "[nltk_data]   Unzipping tokenizers/punkt.zip.\n",
            "[nltk_data] Downloading package wordnet to /root/nltk_data...\n",
            "[nltk_data] Downloading package stopwords to /root/nltk_data...\n",
            "[nltk_data]   Unzipping corpora/stopwords.zip.\n",
            "[nltk_data] Downloading package averaged_perceptron_tagger to\n",
            "[nltk_data]     /root/nltk_data...\n",
            "[nltk_data]   Unzipping taggers/averaged_perceptron_tagger.zip.\n"
          ]
        }
      ],
      "source": [
        "nltk.download('punkt')\n",
        "nltk.download('wordnet')\n",
        "nltk.download('stopwords')\n",
        "nltk.download('averaged_perceptron_tagger')\n",
        "\n",
        "def get_wordnet_pos(treebank_tag):\n",
        "    if treebank_tag.startswith('J'):\n",
        "        return wordnet.ADJ\n",
        "    elif treebank_tag.startswith('V'):\n",
        "        return wordnet.VERB\n",
        "    elif treebank_tag.startswith('N'):\n",
        "        return wordnet.NOUN\n",
        "    elif treebank_tag.startswith('R'):\n",
        "        return wordnet.ADV\n",
        "    else:\n",
        "        return wordnet.NOUN  # Default to noun\n",
        "\n",
        "def preprocess_text(text):\n",
        "    lemmatizer = WordNetLemmatizer()\n",
        "    tokenizer = RegexpTokenizer(r'\\w+')\n",
        "    tokens = tokenizer.tokenize(text.lower())\n",
        "    tokens = [t for t in tokens if t not in stopwords.words('english')]\n",
        "    pos_tags = pos_tag(tokens)  # Get POS tags\n",
        "    tokens = [lemmatizer.lemmatize(word, get_wordnet_pos(pos)) for word, pos in pos_tags]  # Lemmatize with POS tags\n",
        "    return ' '.join(tokens)\n",
        "\n",
        "with open('minecraft_data.json', 'r', encoding='utf-8') as f:\n",
        "    minecraft_data = json.load(f)\n",
        "\n",
        "preprocessed_data = {key: preprocess_text(value['description']) for key, value in minecraft_data.items()}\n",
        "\n",
        "with open('preprocessed_minecraft_data.json', 'w', encoding='utf-8') as f:\n",
        "    json.dump(preprocessed_data, f, indent=4)"
      ]
    },
    {
      "cell_type": "code",
      "source": [
        "!pip install elasticsearch"
      ],
      "metadata": {
        "colab": {
          "base_uri": "https://localhost:8080/"
        },
        "id": "i6oNLV5CIJ9D",
        "outputId": "f90eb504-a8fd-40ca-c6c0-99803c1d2b6e"
      },
      "execution_count": null,
      "outputs": [
        {
          "output_type": "stream",
          "name": "stdout",
          "text": [
            "Requirement already satisfied: elasticsearch in /usr/local/lib/python3.10/dist-packages (8.10.1)\n",
            "Requirement already satisfied: elastic-transport<9,>=8 in /usr/local/lib/python3.10/dist-packages (from elasticsearch) (8.10.0)\n",
            "Requirement already satisfied: urllib3<3,>=1.26.2 in /usr/local/lib/python3.10/dist-packages (from elastic-transport<9,>=8->elasticsearch) (2.0.7)\n",
            "Requirement already satisfied: certifi in /usr/local/lib/python3.10/dist-packages (from elastic-transport<9,>=8->elasticsearch) (2023.7.22)\n"
          ]
        }
      ]
    },
    {
      "cell_type": "code",
      "source": [
        "es_url = \"https://134.209.74.243:9200/\"\n",
        "from elasticsearch import Elasticsearch\n",
        "\n",
        "es = Elasticsearch(\n",
        "    ['https://134.209.74.243:9200'],\n",
        "    verify_certs=False,\n",
        "    http_auth=('elastic', 'mmjIugA2iaP=y0q2*5=4')\n",
        ")\n",
        "# es = Elasticsearch(hosts = [ES_NODES])\n"
      ],
      "metadata": {
        "colab": {
          "base_uri": "https://localhost:8080/"
        },
        "id": "WIIQ9NB1J9SY",
        "outputId": "e6eb766c-429d-49a2-a2c3-7180d2042ee4"
      },
      "execution_count": null,
      "outputs": [
        {
          "output_type": "stream",
          "name": "stderr",
          "text": [
            "/usr/local/lib/python3.10/dist-packages/elasticsearch/_sync/client/__init__.py:397: SecurityWarning: Connecting to 'https://134.209.74.243:9200' using TLS with verify_certs=False is insecure\n",
            "  _transport = transport_class(\n",
            "<ipython-input-6-5c3c09fe588c>:4: DeprecationWarning: The 'http_auth' parameter is deprecated. Use 'basic_auth' or 'bearer_auth' parameters instead\n",
            "  es = Elasticsearch(\n"
          ]
        }
      ]
    },
    {
      "cell_type": "code",
      "source": [
        "es.indices.create(index='minecraft')"
      ],
      "metadata": {
        "colab": {
          "base_uri": "https://localhost:8080/"
        },
        "id": "QrWjO_KdKI1e",
        "outputId": "6a267a47-f8b9-4a8b-e705-77c9b86848ab"
      },
      "execution_count": null,
      "outputs": [
        {
          "output_type": "stream",
          "name": "stderr",
          "text": [
            "/usr/local/lib/python3.10/dist-packages/urllib3/connectionpool.py:1100: InsecureRequestWarning: Unverified HTTPS request is being made to host '134.209.74.243'. Adding certificate verification is strongly advised. See: https://urllib3.readthedocs.io/en/latest/advanced-usage.html#tls-warnings\n",
            "  warnings.warn(\n"
          ]
        },
        {
          "output_type": "execute_result",
          "data": {
            "text/plain": [
              "ObjectApiResponse({'acknowledged': True, 'shards_acknowledged': True, 'index': 'minecraft'})"
            ]
          },
          "metadata": {},
          "execution_count": 7
        }
      ]
    },
    {
      "cell_type": "code",
      "source": [
        "for topic, description in preprocessed_data.items():\n",
        "    print(f\"Topic: {topic}\")\n",
        "    print(f\"Description: {description[:50]}...\")\n",
        "\n",
        "    doc = {\n",
        "        'topic': topic,\n",
        "        'description': description\n",
        "    }\n",
        "\n",
        "    try:\n",
        "        res = es.index(index='minecraft', id=topic, body=doc)\n",
        "        print(f\"Indexed {topic}\")\n",
        "    except Exception as e:\n",
        "        print(f\"Failed to index {topic}: {e}\")"
      ],
      "metadata": {
        "colab": {
          "base_uri": "https://localhost:8080/"
        },
        "id": "dR5r4bLGKOZ_",
        "outputId": "be12c702-24cf-40c6-8901-98272f46db99"
      },
      "execution_count": null,
      "outputs": [
        {
          "output_type": "stream",
          "name": "stdout",
          "text": [
            "Topic: Cauldron\n",
            "Description: cauldron block hold water cauldron mine use pickax...\n",
            "Indexed Cauldron\n",
            "Topic: Banner\n",
            "Description: banner flag tall decorative block feature field hi...\n"
          ]
        },
        {
          "output_type": "stream",
          "name": "stderr",
          "text": [
            "/usr/local/lib/python3.10/dist-packages/urllib3/connectionpool.py:1100: InsecureRequestWarning: Unverified HTTPS request is being made to host '134.209.74.243'. Adding certificate verification is strongly advised. See: https://urllib3.readthedocs.io/en/latest/advanced-usage.html#tls-warnings\n",
            "  warnings.warn(\n",
            "/usr/local/lib/python3.10/dist-packages/urllib3/connectionpool.py:1100: InsecureRequestWarning: Unverified HTTPS request is being made to host '134.209.74.243'. Adding certificate verification is strongly advised. See: https://urllib3.readthedocs.io/en/latest/advanced-usage.html#tls-warnings\n",
            "  warnings.warn(\n"
          ]
        },
        {
          "output_type": "stream",
          "name": "stdout",
          "text": [
            "Indexed Banner\n",
            "Topic: Andesite\n",
            "Description: andesite type igneous rock polish andesite polish ...\n",
            "Indexed Andesite\n",
            "Topic: Block_of_Coal\n",
            "Description: block coal also know coal block mineral block also...\n",
            "Indexed Block_of_Coal\n",
            "Topic: Block_of_Iron\n",
            "Description: block iron also know iron block decorative mineral...\n"
          ]
        },
        {
          "output_type": "stream",
          "name": "stderr",
          "text": [
            "/usr/local/lib/python3.10/dist-packages/urllib3/connectionpool.py:1100: InsecureRequestWarning: Unverified HTTPS request is being made to host '134.209.74.243'. Adding certificate verification is strongly advised. See: https://urllib3.readthedocs.io/en/latest/advanced-usage.html#tls-warnings\n",
            "  warnings.warn(\n",
            "/usr/local/lib/python3.10/dist-packages/urllib3/connectionpool.py:1100: InsecureRequestWarning: Unverified HTTPS request is being made to host '134.209.74.243'. Adding certificate verification is strongly advised. See: https://urllib3.readthedocs.io/en/latest/advanced-usage.html#tls-warnings\n",
            "  warnings.warn(\n",
            "/usr/local/lib/python3.10/dist-packages/urllib3/connectionpool.py:1100: InsecureRequestWarning: Unverified HTTPS request is being made to host '134.209.74.243'. Adding certificate verification is strongly advised. See: https://urllib3.readthedocs.io/en/latest/advanced-usage.html#tls-warnings\n",
            "  warnings.warn(\n"
          ]
        },
        {
          "output_type": "stream",
          "name": "stdout",
          "text": [
            "Indexed Block_of_Iron\n",
            "Topic: Cake\n",
            "Description: cake food block eat player place cake cannot recol...\n",
            "Indexed Cake\n",
            "Topic: Chest\n",
            "Description: chest block store item chest obtain craft break pr...\n",
            "Indexed Chest\n",
            "Topic: Cactus\n",
            "Description: cactus plural cactus cactus plant occur naturally ...\n"
          ]
        },
        {
          "output_type": "stream",
          "name": "stderr",
          "text": [
            "/usr/local/lib/python3.10/dist-packages/urllib3/connectionpool.py:1100: InsecureRequestWarning: Unverified HTTPS request is being made to host '134.209.74.243'. Adding certificate verification is strongly advised. See: https://urllib3.readthedocs.io/en/latest/advanced-usage.html#tls-warnings\n",
            "  warnings.warn(\n",
            "/usr/local/lib/python3.10/dist-packages/urllib3/connectionpool.py:1100: InsecureRequestWarning: Unverified HTTPS request is being made to host '134.209.74.243'. Adding certificate verification is strongly advised. See: https://urllib3.readthedocs.io/en/latest/advanced-usage.html#tls-warnings\n",
            "  warnings.warn(\n",
            "/usr/local/lib/python3.10/dist-packages/urllib3/connectionpool.py:1100: InsecureRequestWarning: Unverified HTTPS request is being made to host '134.209.74.243'. Adding certificate verification is strongly advised. See: https://urllib3.readthedocs.io/en/latest/advanced-usage.html#tls-warnings\n",
            "  warnings.warn(\n"
          ]
        },
        {
          "output_type": "stream",
          "name": "stdout",
          "text": [
            "Indexed Cactus\n",
            "Topic: Air\n",
            "Description: air block minecraft use represent unoccupied space...\n",
            "Indexed Air\n",
            "Topic: Carpet\n",
            "Description: carpet thin block mainly use decoration carpet min...\n",
            "Indexed Carpet\n",
            "Topic: Block_of_Emerald\n",
            "Description: block emerald also know emerald block decorative m...\n"
          ]
        },
        {
          "output_type": "stream",
          "name": "stderr",
          "text": [
            "/usr/local/lib/python3.10/dist-packages/urllib3/connectionpool.py:1100: InsecureRequestWarning: Unverified HTTPS request is being made to host '134.209.74.243'. Adding certificate verification is strongly advised. See: https://urllib3.readthedocs.io/en/latest/advanced-usage.html#tls-warnings\n",
            "  warnings.warn(\n",
            "/usr/local/lib/python3.10/dist-packages/urllib3/connectionpool.py:1100: InsecureRequestWarning: Unverified HTTPS request is being made to host '134.209.74.243'. Adding certificate verification is strongly advised. See: https://urllib3.readthedocs.io/en/latest/advanced-usage.html#tls-warnings\n",
            "  warnings.warn(\n",
            "/usr/local/lib/python3.10/dist-packages/urllib3/connectionpool.py:1100: InsecureRequestWarning: Unverified HTTPS request is being made to host '134.209.74.243'. Adding certificate verification is strongly advised. See: https://urllib3.readthedocs.io/en/latest/advanced-usage.html#tls-warnings\n",
            "  warnings.warn(\n"
          ]
        },
        {
          "output_type": "stream",
          "name": "stdout",
          "text": [
            "Indexed Block_of_Emerald\n",
            "Topic: Beacon\n",
            "Description: beacon unique block project light beam skyward pro...\n",
            "Indexed Beacon\n",
            "Topic: Block_of_Quartz\n",
            "Description: block quartz also know quartz block mineral block ...\n",
            "Indexed Block_of_Quartz\n",
            "Topic: Activator_Rail\n",
            "Description: activator rail type rail activate certain minecart...\n"
          ]
        },
        {
          "output_type": "stream",
          "name": "stderr",
          "text": [
            "/usr/local/lib/python3.10/dist-packages/urllib3/connectionpool.py:1100: InsecureRequestWarning: Unverified HTTPS request is being made to host '134.209.74.243'. Adding certificate verification is strongly advised. See: https://urllib3.readthedocs.io/en/latest/advanced-usage.html#tls-warnings\n",
            "  warnings.warn(\n",
            "/usr/local/lib/python3.10/dist-packages/urllib3/connectionpool.py:1100: InsecureRequestWarning: Unverified HTTPS request is being made to host '134.209.74.243'. Adding certificate verification is strongly advised. See: https://urllib3.readthedocs.io/en/latest/advanced-usage.html#tls-warnings\n",
            "  warnings.warn(\n",
            "/usr/local/lib/python3.10/dist-packages/urllib3/connectionpool.py:1100: InsecureRequestWarning: Unverified HTTPS request is being made to host '134.209.74.243'. Adding certificate verification is strongly advised. See: https://urllib3.readthedocs.io/en/latest/advanced-usage.html#tls-warnings\n",
            "  warnings.warn(\n"
          ]
        },
        {
          "output_type": "stream",
          "name": "stdout",
          "text": [
            "Indexed Activator_Rail\n",
            "Topic: Carrot\n",
            "Description: carrot food item eat player carrot farm harvested ...\n",
            "Indexed Carrot\n",
            "Topic: Blocks\n",
            "Description: block basic unit structure minecraft together buil...\n",
            "Indexed Blocks\n",
            "Topic: Clay_(block)\n",
            "Description: clay block find water clay block mine anything sho...\n"
          ]
        },
        {
          "output_type": "stream",
          "name": "stderr",
          "text": [
            "/usr/local/lib/python3.10/dist-packages/urllib3/connectionpool.py:1100: InsecureRequestWarning: Unverified HTTPS request is being made to host '134.209.74.243'. Adding certificate verification is strongly advised. See: https://urllib3.readthedocs.io/en/latest/advanced-usage.html#tls-warnings\n",
            "  warnings.warn(\n",
            "/usr/local/lib/python3.10/dist-packages/urllib3/connectionpool.py:1100: InsecureRequestWarning: Unverified HTTPS request is being made to host '134.209.74.243'. Adding certificate verification is strongly advised. See: https://urllib3.readthedocs.io/en/latest/advanced-usage.html#tls-warnings\n",
            "  warnings.warn(\n",
            "/usr/local/lib/python3.10/dist-packages/urllib3/connectionpool.py:1100: InsecureRequestWarning: Unverified HTTPS request is being made to host '134.209.74.243'. Adding certificate verification is strongly advised. See: https://urllib3.readthedocs.io/en/latest/advanced-usage.html#tls-warnings\n",
            "  warnings.warn(\n"
          ]
        },
        {
          "output_type": "stream",
          "name": "stdout",
          "text": [
            "Indexed Clay_(block)\n",
            "Topic: Brewing_Stand\n",
            "Description: brewing stand block use brewing potion splash poti...\n",
            "Indexed Brewing_Stand\n",
            "Topic: Block_of_Redstone\n",
            "Description: block redstone also know redstone block act piston...\n",
            "Indexed Block_of_Redstone\n",
            "Topic: Block_of_Diamond\n",
            "Description: block diamond also know diamond block decorative m...\n"
          ]
        },
        {
          "output_type": "stream",
          "name": "stderr",
          "text": [
            "/usr/local/lib/python3.10/dist-packages/urllib3/connectionpool.py:1100: InsecureRequestWarning: Unverified HTTPS request is being made to host '134.209.74.243'. Adding certificate verification is strongly advised. See: https://urllib3.readthedocs.io/en/latest/advanced-usage.html#tls-warnings\n",
            "  warnings.warn(\n",
            "/usr/local/lib/python3.10/dist-packages/urllib3/connectionpool.py:1100: InsecureRequestWarning: Unverified HTTPS request is being made to host '134.209.74.243'. Adding certificate verification is strongly advised. See: https://urllib3.readthedocs.io/en/latest/advanced-usage.html#tls-warnings\n",
            "  warnings.warn(\n",
            "/usr/local/lib/python3.10/dist-packages/urllib3/connectionpool.py:1100: InsecureRequestWarning: Unverified HTTPS request is being made to host '134.209.74.243'. Adding certificate verification is strongly advised. See: https://urllib3.readthedocs.io/en/latest/advanced-usage.html#tls-warnings\n",
            "  warnings.warn(\n"
          ]
        },
        {
          "output_type": "stream",
          "name": "stdout",
          "text": [
            "Indexed Block_of_Diamond\n",
            "Topic: Button\n",
            "Description: button non solid block provide temporary redstone ...\n",
            "Indexed Button\n",
            "Topic: Bedrock\n",
            "Description: bedrock indestructible unmineable block bedrock ca...\n",
            "Indexed Bedrock\n",
            "Topic: Bookshelf\n",
            "Description: bookshelf block primarily serve enhance enchant en...\n"
          ]
        },
        {
          "output_type": "stream",
          "name": "stderr",
          "text": [
            "/usr/local/lib/python3.10/dist-packages/urllib3/connectionpool.py:1100: InsecureRequestWarning: Unverified HTTPS request is being made to host '134.209.74.243'. Adding certificate verification is strongly advised. See: https://urllib3.readthedocs.io/en/latest/advanced-usage.html#tls-warnings\n",
            "  warnings.warn(\n",
            "/usr/local/lib/python3.10/dist-packages/urllib3/connectionpool.py:1100: InsecureRequestWarning: Unverified HTTPS request is being made to host '134.209.74.243'. Adding certificate verification is strongly advised. See: https://urllib3.readthedocs.io/en/latest/advanced-usage.html#tls-warnings\n",
            "  warnings.warn(\n",
            "/usr/local/lib/python3.10/dist-packages/urllib3/connectionpool.py:1100: InsecureRequestWarning: Unverified HTTPS request is being made to host '134.209.74.243'. Adding certificate verification is strongly advised. See: https://urllib3.readthedocs.io/en/latest/advanced-usage.html#tls-warnings\n",
            "  warnings.warn(\n"
          ]
        },
        {
          "output_type": "stream",
          "name": "stdout",
          "text": [
            "Indexed Bookshelf\n",
            "Topic: Block_of_Gold\n",
            "Description: block gold also know gold block decorative mineral...\n",
            "Indexed Block_of_Gold\n",
            "Topic: Bed\n",
            "Description: bed block allow player sleep reset spawn point wit...\n",
            "Indexed Bed\n",
            "Topic: Beetroot_Seeds\n",
            "Description: pocket edition beetroot seed item exclusive pocket...\n"
          ]
        },
        {
          "output_type": "stream",
          "name": "stderr",
          "text": [
            "/usr/local/lib/python3.10/dist-packages/urllib3/connectionpool.py:1100: InsecureRequestWarning: Unverified HTTPS request is being made to host '134.209.74.243'. Adding certificate verification is strongly advised. See: https://urllib3.readthedocs.io/en/latest/advanced-usage.html#tls-warnings\n",
            "  warnings.warn(\n",
            "/usr/local/lib/python3.10/dist-packages/urllib3/connectionpool.py:1100: InsecureRequestWarning: Unverified HTTPS request is being made to host '134.209.74.243'. Adding certificate verification is strongly advised. See: https://urllib3.readthedocs.io/en/latest/advanced-usage.html#tls-warnings\n",
            "  warnings.warn(\n",
            "/usr/local/lib/python3.10/dist-packages/urllib3/connectionpool.py:1100: InsecureRequestWarning: Unverified HTTPS request is being made to host '134.209.74.243'. Adding certificate verification is strongly advised. See: https://urllib3.readthedocs.io/en/latest/advanced-usage.html#tls-warnings\n",
            "  warnings.warn(\n"
          ]
        },
        {
          "output_type": "stream",
          "name": "stdout",
          "text": [
            "Indexed Beetroot_Seeds\n",
            "Topic: Barrier\n",
            "Description: barrier invisible block appear transparent mixed p...\n",
            "Indexed Barrier\n",
            "Topic: Coal_Ore\n",
            "Description: coal ore mineral block drop coal mine coal ore blo...\n",
            "Indexed Coal_Ore\n",
            "Topic: Anvil\n",
            "Description: anvil block use item repair interface repair renam...\n"
          ]
        },
        {
          "output_type": "stream",
          "name": "stderr",
          "text": [
            "/usr/local/lib/python3.10/dist-packages/urllib3/connectionpool.py:1100: InsecureRequestWarning: Unverified HTTPS request is being made to host '134.209.74.243'. Adding certificate verification is strongly advised. See: https://urllib3.readthedocs.io/en/latest/advanced-usage.html#tls-warnings\n",
            "  warnings.warn(\n",
            "/usr/local/lib/python3.10/dist-packages/urllib3/connectionpool.py:1100: InsecureRequestWarning: Unverified HTTPS request is being made to host '134.209.74.243'. Adding certificate verification is strongly advised. See: https://urllib3.readthedocs.io/en/latest/advanced-usage.html#tls-warnings\n",
            "  warnings.warn(\n",
            "/usr/local/lib/python3.10/dist-packages/urllib3/connectionpool.py:1100: InsecureRequestWarning: Unverified HTTPS request is being made to host '134.209.74.243'. Adding certificate verification is strongly advised. See: https://urllib3.readthedocs.io/en/latest/advanced-usage.html#tls-warnings\n",
            "  warnings.warn(\n"
          ]
        },
        {
          "output_type": "stream",
          "name": "stdout",
          "text": [
            "Indexed Anvil\n",
            "Topic: Cobblestone\n",
            "Description: cobblestone common block obtain mine stone texture...\n",
            "Indexed Cobblestone\n",
            "Topic: Bricks\n",
            "Description: brick decorative building block brick mine use pic...\n",
            "Indexed Bricks\n",
            "Topic: Ladder\n",
            "Description: ladder wooden block use climb wall either vertical...\n"
          ]
        },
        {
          "output_type": "stream",
          "name": "stderr",
          "text": [
            "/usr/local/lib/python3.10/dist-packages/urllib3/connectionpool.py:1100: InsecureRequestWarning: Unverified HTTPS request is being made to host '134.209.74.243'. Adding certificate verification is strongly advised. See: https://urllib3.readthedocs.io/en/latest/advanced-usage.html#tls-warnings\n",
            "  warnings.warn(\n",
            "/usr/local/lib/python3.10/dist-packages/urllib3/connectionpool.py:1100: InsecureRequestWarning: Unverified HTTPS request is being made to host '134.209.74.243'. Adding certificate verification is strongly advised. See: https://urllib3.readthedocs.io/en/latest/advanced-usage.html#tls-warnings\n",
            "  warnings.warn(\n",
            "/usr/local/lib/python3.10/dist-packages/urllib3/connectionpool.py:1100: InsecureRequestWarning: Unverified HTTPS request is being made to host '134.209.74.243'. Adding certificate verification is strongly advised. See: https://urllib3.readthedocs.io/en/latest/advanced-usage.html#tls-warnings\n",
            "  warnings.warn(\n"
          ]
        },
        {
          "output_type": "stream",
          "name": "stdout",
          "text": [
            "Indexed Ladder\n",
            "Topic: Emerald_Ore\n",
            "Description: emerald ore rare mineral block game drop emerald m...\n",
            "Indexed Emerald_Ore\n",
            "Topic: Mob_head\n",
            "Description: mob head decorative block mob head break use anyth...\n",
            "Indexed Mob_head\n",
            "Topic: Lapis_Lazuli_Block\n",
            "Description: lapis lazuli block decorative mineral block craft ...\n"
          ]
        },
        {
          "output_type": "stream",
          "name": "stderr",
          "text": [
            "/usr/local/lib/python3.10/dist-packages/urllib3/connectionpool.py:1100: InsecureRequestWarning: Unverified HTTPS request is being made to host '134.209.74.243'. Adding certificate verification is strongly advised. See: https://urllib3.readthedocs.io/en/latest/advanced-usage.html#tls-warnings\n",
            "  warnings.warn(\n",
            "/usr/local/lib/python3.10/dist-packages/urllib3/connectionpool.py:1100: InsecureRequestWarning: Unverified HTTPS request is being made to host '134.209.74.243'. Adding certificate verification is strongly advised. See: https://urllib3.readthedocs.io/en/latest/advanced-usage.html#tls-warnings\n",
            "  warnings.warn(\n",
            "/usr/local/lib/python3.10/dist-packages/urllib3/connectionpool.py:1100: InsecureRequestWarning: Unverified HTTPS request is being made to host '134.209.74.243'. Adding certificate verification is strongly advised. See: https://urllib3.readthedocs.io/en/latest/advanced-usage.html#tls-warnings\n",
            "  warnings.warn(\n"
          ]
        },
        {
          "output_type": "stream",
          "name": "stdout",
          "text": [
            "Indexed Lapis_Lazuli_Block\n",
            "Topic: Command_Block\n",
            "Description: command block block execute command cannot obtain ...\n",
            "Indexed Command_Block\n",
            "Topic: Enchantment_Table\n",
            "Description: enchantment table block allow player spend experie...\n",
            "Indexed Enchantment_Table\n",
            "Topic: Invisible_Bedrock\n",
            "Description: invisible bedrock invisible indestructible block e...\n"
          ]
        },
        {
          "output_type": "stream",
          "name": "stderr",
          "text": [
            "/usr/local/lib/python3.10/dist-packages/urllib3/connectionpool.py:1100: InsecureRequestWarning: Unverified HTTPS request is being made to host '134.209.74.243'. Adding certificate verification is strongly advised. See: https://urllib3.readthedocs.io/en/latest/advanced-usage.html#tls-warnings\n",
            "  warnings.warn(\n",
            "/usr/local/lib/python3.10/dist-packages/urllib3/connectionpool.py:1100: InsecureRequestWarning: Unverified HTTPS request is being made to host '134.209.74.243'. Adding certificate verification is strongly advised. See: https://urllib3.readthedocs.io/en/latest/advanced-usage.html#tls-warnings\n",
            "  warnings.warn(\n",
            "/usr/local/lib/python3.10/dist-packages/urllib3/connectionpool.py:1100: InsecureRequestWarning: Unverified HTTPS request is being made to host '134.209.74.243'. Adding certificate verification is strongly advised. See: https://urllib3.readthedocs.io/en/latest/advanced-usage.html#tls-warnings\n",
            "  warnings.warn(\n"
          ]
        },
        {
          "output_type": "stream",
          "name": "stdout",
          "text": [
            "Indexed Invisible_Bedrock\n",
            "Topic: Granite\n",
            "Description: granite type igneous rock polish granite polish ve...\n",
            "Indexed Granite\n",
            "Topic: Farmland\n",
            "Description: farmland technical block seed plant grown make blo...\n",
            "Indexed Farmland\n",
            "Topic: Glass\n",
            "Description: glass decorative fully transparent block glass dro...\n"
          ]
        },
        {
          "output_type": "stream",
          "name": "stderr",
          "text": [
            "/usr/local/lib/python3.10/dist-packages/urllib3/connectionpool.py:1100: InsecureRequestWarning: Unverified HTTPS request is being made to host '134.209.74.243'. Adding certificate verification is strongly advised. See: https://urllib3.readthedocs.io/en/latest/advanced-usage.html#tls-warnings\n",
            "  warnings.warn(\n",
            "/usr/local/lib/python3.10/dist-packages/urllib3/connectionpool.py:1100: InsecureRequestWarning: Unverified HTTPS request is being made to host '134.209.74.243'. Adding certificate verification is strongly advised. See: https://urllib3.readthedocs.io/en/latest/advanced-usage.html#tls-warnings\n",
            "  warnings.warn(\n",
            "/usr/local/lib/python3.10/dist-packages/urllib3/connectionpool.py:1100: InsecureRequestWarning: Unverified HTTPS request is being made to host '134.209.74.243'. Adding certificate verification is strongly advised. See: https://urllib3.readthedocs.io/en/latest/advanced-usage.html#tls-warnings\n",
            "  warnings.warn(\n"
          ]
        },
        {
          "output_type": "stream",
          "name": "stdout",
          "text": [
            "Indexed Glass\n",
            "Topic: Jack_o%27Lantern\n",
            "Description: jack lantern solid block provide light jack lanter...\n",
            "Indexed Jack_o%27Lantern\n",
            "Topic: Leaves\n",
            "Description: leaf block grow part tree leave obtained shear sil...\n",
            "Indexed Leaves\n",
            "Topic: Melon_Seeds\n",
            "Description: melon seed item use grow melon plant melon seed fi...\n"
          ]
        },
        {
          "output_type": "stream",
          "name": "stderr",
          "text": [
            "/usr/local/lib/python3.10/dist-packages/urllib3/connectionpool.py:1100: InsecureRequestWarning: Unverified HTTPS request is being made to host '134.209.74.243'. Adding certificate verification is strongly advised. See: https://urllib3.readthedocs.io/en/latest/advanced-usage.html#tls-warnings\n",
            "  warnings.warn(\n",
            "/usr/local/lib/python3.10/dist-packages/urllib3/connectionpool.py:1100: InsecureRequestWarning: Unverified HTTPS request is being made to host '134.209.74.243'. Adding certificate verification is strongly advised. See: https://urllib3.readthedocs.io/en/latest/advanced-usage.html#tls-warnings\n",
            "  warnings.warn(\n",
            "/usr/local/lib/python3.10/dist-packages/urllib3/connectionpool.py:1100: InsecureRequestWarning: Unverified HTTPS request is being made to host '134.209.74.243'. Adding certificate verification is strongly advised. See: https://urllib3.readthedocs.io/en/latest/advanced-usage.html#tls-warnings\n",
            "  warnings.warn(\n"
          ]
        },
        {
          "output_type": "stream",
          "name": "stdout",
          "text": [
            "Indexed Melon_Seeds\n",
            "Topic: End_Portal_(block)\n",
            "Description: end portal end portal frame console edition block ...\n",
            "Indexed End_Portal_(block)\n",
            "Topic: Fence\n",
            "Description: fence wall block cannot jump wood fence broken qui...\n",
            "Indexed Fence\n",
            "Topic: Hopper\n",
            "Description: hopper block use catch item entity transfer item c...\n"
          ]
        },
        {
          "output_type": "stream",
          "name": "stderr",
          "text": [
            "/usr/local/lib/python3.10/dist-packages/urllib3/connectionpool.py:1100: InsecureRequestWarning: Unverified HTTPS request is being made to host '134.209.74.243'. Adding certificate verification is strongly advised. See: https://urllib3.readthedocs.io/en/latest/advanced-usage.html#tls-warnings\n",
            "  warnings.warn(\n",
            "/usr/local/lib/python3.10/dist-packages/urllib3/connectionpool.py:1100: InsecureRequestWarning: Unverified HTTPS request is being made to host '134.209.74.243'. Adding certificate verification is strongly advised. See: https://urllib3.readthedocs.io/en/latest/advanced-usage.html#tls-warnings\n",
            "  warnings.warn(\n",
            "/usr/local/lib/python3.10/dist-packages/urllib3/connectionpool.py:1100: InsecureRequestWarning: Unverified HTTPS request is being made to host '134.209.74.243'. Adding certificate verification is strongly advised. See: https://urllib3.readthedocs.io/en/latest/advanced-usage.html#tls-warnings\n",
            "  warnings.warn(\n"
          ]
        },
        {
          "output_type": "stream",
          "name": "stdout",
          "text": [
            "Indexed Hopper\n",
            "Topic: Dead_Bush\n",
            "Description: dead bush also know shrubs transparent block form ...\n",
            "Indexed Dead_Bush\n",
            "Topic: Diamond_Ore\n",
            "Description: diamond ore mineral block one valuable elusive blo...\n",
            "Indexed Diamond_Ore\n",
            "Topic: Moss_Stone\n",
            "Description: moss stone block resemble cobblestone moss grow cr...\n"
          ]
        },
        {
          "output_type": "stream",
          "name": "stderr",
          "text": [
            "/usr/local/lib/python3.10/dist-packages/urllib3/connectionpool.py:1100: InsecureRequestWarning: Unverified HTTPS request is being made to host '134.209.74.243'. Adding certificate verification is strongly advised. See: https://urllib3.readthedocs.io/en/latest/advanced-usage.html#tls-warnings\n",
            "  warnings.warn(\n",
            "/usr/local/lib/python3.10/dist-packages/urllib3/connectionpool.py:1100: InsecureRequestWarning: Unverified HTTPS request is being made to host '134.209.74.243'. Adding certificate verification is strongly advised. See: https://urllib3.readthedocs.io/en/latest/advanced-usage.html#tls-warnings\n",
            "  warnings.warn(\n",
            "/usr/local/lib/python3.10/dist-packages/urllib3/connectionpool.py:1100: InsecureRequestWarning: Unverified HTTPS request is being made to host '134.209.74.243'. Adding certificate verification is strongly advised. See: https://urllib3.readthedocs.io/en/latest/advanced-usage.html#tls-warnings\n",
            "  warnings.warn(\n"
          ]
        },
        {
          "output_type": "stream",
          "name": "stdout",
          "text": [
            "Indexed Moss_Stone\n",
            "Topic: Liquid\n",
            "Description: liquid block name suggest flow spread currently tw...\n",
            "Indexed Liquid\n",
            "Topic: Dropper\n",
            "Description: dropper block use eject item push item another con...\n",
            "Indexed Dropper\n",
            "Topic: Daylight_Sensor\n",
            "Description: daylight sensor block output redstone signal base ...\n"
          ]
        },
        {
          "output_type": "stream",
          "name": "stderr",
          "text": [
            "/usr/local/lib/python3.10/dist-packages/urllib3/connectionpool.py:1100: InsecureRequestWarning: Unverified HTTPS request is being made to host '134.209.74.243'. Adding certificate verification is strongly advised. See: https://urllib3.readthedocs.io/en/latest/advanced-usage.html#tls-warnings\n",
            "  warnings.warn(\n",
            "/usr/local/lib/python3.10/dist-packages/urllib3/connectionpool.py:1100: InsecureRequestWarning: Unverified HTTPS request is being made to host '134.209.74.243'. Adding certificate verification is strongly advised. See: https://urllib3.readthedocs.io/en/latest/advanced-usage.html#tls-warnings\n",
            "  warnings.warn(\n",
            "/usr/local/lib/python3.10/dist-packages/urllib3/connectionpool.py:1100: InsecureRequestWarning: Unverified HTTPS request is being made to host '134.209.74.243'. Adding certificate verification is strongly advised. See: https://urllib3.readthedocs.io/en/latest/advanced-usage.html#tls-warnings\n",
            "  warnings.warn(\n"
          ]
        },
        {
          "output_type": "stream",
          "name": "stdout",
          "text": [
            "Indexed Daylight_Sensor\n",
            "Topic: Iron_Bars\n",
            "Description: iron bar block serve similar purpose fence 1 block...\n",
            "Indexed Iron_Bars\n",
            "Topic: End_Stone\n",
            "Description: end stone sometimes call ender stone block appear ...\n",
            "Indexed End_Stone\n",
            "Topic: Cobweb\n",
            "Description: cobweb block slow movement cobweb obtain mine use ...\n"
          ]
        },
        {
          "output_type": "stream",
          "name": "stderr",
          "text": [
            "/usr/local/lib/python3.10/dist-packages/urllib3/connectionpool.py:1100: InsecureRequestWarning: Unverified HTTPS request is being made to host '134.209.74.243'. Adding certificate verification is strongly advised. See: https://urllib3.readthedocs.io/en/latest/advanced-usage.html#tls-warnings\n",
            "  warnings.warn(\n",
            "/usr/local/lib/python3.10/dist-packages/urllib3/connectionpool.py:1100: InsecureRequestWarning: Unverified HTTPS request is being made to host '134.209.74.243'. Adding certificate verification is strongly advised. See: https://urllib3.readthedocs.io/en/latest/advanced-usage.html#tls-warnings\n",
            "  warnings.warn(\n",
            "/usr/local/lib/python3.10/dist-packages/urllib3/connectionpool.py:1100: InsecureRequestWarning: Unverified HTTPS request is being made to host '134.209.74.243'. Adding certificate verification is strongly advised. See: https://urllib3.readthedocs.io/en/latest/advanced-usage.html#tls-warnings\n",
            "  warnings.warn(\n"
          ]
        },
        {
          "output_type": "stream",
          "name": "stdout",
          "text": [
            "Indexed Cobweb\n",
            "Topic: Lapis_Lazuli_Ore\n",
            "Description: lapis lazuli ore ore block lapis lazuli obtain sto...\n",
            "Indexed Lapis_Lazuli_Ore\n",
            "Topic: Lily_Pad\n",
            "Description: lily pad collectable block find grow water swampla...\n",
            "Indexed Lily_Pad\n",
            "Topic: Lava\n",
            "Description: lava fluid block lava cannot obtain item retrieve ...\n"
          ]
        },
        {
          "output_type": "stream",
          "name": "stderr",
          "text": [
            "/usr/local/lib/python3.10/dist-packages/urllib3/connectionpool.py:1100: InsecureRequestWarning: Unverified HTTPS request is being made to host '134.209.74.243'. Adding certificate verification is strongly advised. See: https://urllib3.readthedocs.io/en/latest/advanced-usage.html#tls-warnings\n",
            "  warnings.warn(\n",
            "/usr/local/lib/python3.10/dist-packages/urllib3/connectionpool.py:1100: InsecureRequestWarning: Unverified HTTPS request is being made to host '134.209.74.243'. Adding certificate verification is strongly advised. See: https://urllib3.readthedocs.io/en/latest/advanced-usage.html#tls-warnings\n",
            "  warnings.warn(\n",
            "/usr/local/lib/python3.10/dist-packages/urllib3/connectionpool.py:1100: InsecureRequestWarning: Unverified HTTPS request is being made to host '134.209.74.243'. Adding certificate verification is strongly advised. See: https://urllib3.readthedocs.io/en/latest/advanced-usage.html#tls-warnings\n",
            "  warnings.warn(\n"
          ]
        },
        {
          "output_type": "stream",
          "name": "stdout",
          "text": [
            "Indexed Lava\n",
            "Topic: Monster_Spawner\n",
            "Description: monster spawner block spawn mob spawner cannot obt...\n",
            "Indexed Monster_Spawner\n",
            "Topic: Jukebox\n",
            "Description: jukebox block use play music disc jukebox broken u...\n",
            "Indexed Jukebox\n",
            "Topic: Grass_Block\n",
            "Description: grass block block generates naturally overworld gr...\n"
          ]
        },
        {
          "output_type": "stream",
          "name": "stderr",
          "text": [
            "/usr/local/lib/python3.10/dist-packages/urllib3/connectionpool.py:1100: InsecureRequestWarning: Unverified HTTPS request is being made to host '134.209.74.243'. Adding certificate verification is strongly advised. See: https://urllib3.readthedocs.io/en/latest/advanced-usage.html#tls-warnings\n",
            "  warnings.warn(\n",
            "/usr/local/lib/python3.10/dist-packages/urllib3/connectionpool.py:1100: InsecureRequestWarning: Unverified HTTPS request is being made to host '134.209.74.243'. Adding certificate verification is strongly advised. See: https://urllib3.readthedocs.io/en/latest/advanced-usage.html#tls-warnings\n",
            "  warnings.warn(\n",
            "/usr/local/lib/python3.10/dist-packages/urllib3/connectionpool.py:1100: InsecureRequestWarning: Unverified HTTPS request is being made to host '134.209.74.243'. Adding certificate verification is strongly advised. See: https://urllib3.readthedocs.io/en/latest/advanced-usage.html#tls-warnings\n",
            "  warnings.warn(\n"
          ]
        },
        {
          "output_type": "stream",
          "name": "stdout",
          "text": [
            "Indexed Grass_Block\n",
            "Topic: Hardened_Clay\n",
            "Description: harden clay block blast resistance comparable ston...\n",
            "Indexed Hardened_Clay\n",
            "Topic: Lever\n",
            "Description: lever non solid block provide switchable redstone ...\n",
            "Indexed Lever\n",
            "Topic: Door\n",
            "Description: door block use switchable barrier seven different ...\n"
          ]
        },
        {
          "output_type": "stream",
          "name": "stderr",
          "text": [
            "/usr/local/lib/python3.10/dist-packages/urllib3/connectionpool.py:1100: InsecureRequestWarning: Unverified HTTPS request is being made to host '134.209.74.243'. Adding certificate verification is strongly advised. See: https://urllib3.readthedocs.io/en/latest/advanced-usage.html#tls-warnings\n",
            "  warnings.warn(\n",
            "/usr/local/lib/python3.10/dist-packages/urllib3/connectionpool.py:1100: InsecureRequestWarning: Unverified HTTPS request is being made to host '134.209.74.243'. Adding certificate verification is strongly advised. See: https://urllib3.readthedocs.io/en/latest/advanced-usage.html#tls-warnings\n",
            "  warnings.warn(\n",
            "/usr/local/lib/python3.10/dist-packages/urllib3/connectionpool.py:1100: InsecureRequestWarning: Unverified HTTPS request is being made to host '134.209.74.243'. Adding certificate verification is strongly advised. See: https://urllib3.readthedocs.io/en/latest/advanced-usage.html#tls-warnings\n",
            "  warnings.warn(\n"
          ]
        },
        {
          "output_type": "stream",
          "name": "stdout",
          "text": [
            "Indexed Door\n",
            "Topic: Locked_chest\n",
            "Description: lock chest april fool block introduce block indest...\n",
            "Indexed Locked_chest\n",
            "Topic: Cobblestone_Wall\n",
            "Description: cobblestone wall decorative block 2 type cobblesto...\n",
            "Indexed Cobblestone_Wall\n",
            "Topic: Dispenser\n",
            "Description: dispenser solid block use redstone component dispe...\n"
          ]
        },
        {
          "output_type": "stream",
          "name": "stderr",
          "text": [
            "/usr/local/lib/python3.10/dist-packages/urllib3/connectionpool.py:1100: InsecureRequestWarning: Unverified HTTPS request is being made to host '134.209.74.243'. Adding certificate verification is strongly advised. See: https://urllib3.readthedocs.io/en/latest/advanced-usage.html#tls-warnings\n",
            "  warnings.warn(\n",
            "/usr/local/lib/python3.10/dist-packages/urllib3/connectionpool.py:1100: InsecureRequestWarning: Unverified HTTPS request is being made to host '134.209.74.243'. Adding certificate verification is strongly advised. See: https://urllib3.readthedocs.io/en/latest/advanced-usage.html#tls-warnings\n",
            "  warnings.warn(\n",
            "/usr/local/lib/python3.10/dist-packages/urllib3/connectionpool.py:1100: InsecureRequestWarning: Unverified HTTPS request is being made to host '134.209.74.243'. Adding certificate verification is strongly advised. See: https://urllib3.readthedocs.io/en/latest/advanced-usage.html#tls-warnings\n",
            "  warnings.warn(\n"
          ]
        },
        {
          "output_type": "stream",
          "name": "stdout",
          "text": [
            "Indexed Dispenser\n",
            "Topic: Hay_Bale\n",
            "Description: hay bale decorative flammable block also feed hors...\n",
            "Indexed Hay_Bale\n",
            "Topic: Ender_Chest\n",
            "Description: ender chest type chest store item ender chest obta...\n",
            "Indexed Ender_Chest\n",
            "Topic: Melon_(block)\n",
            "Description: melon block grow fully grow melon seed melon mine ...\n"
          ]
        },
        {
          "output_type": "stream",
          "name": "stderr",
          "text": [
            "/usr/local/lib/python3.10/dist-packages/urllib3/connectionpool.py:1100: InsecureRequestWarning: Unverified HTTPS request is being made to host '134.209.74.243'. Adding certificate verification is strongly advised. See: https://urllib3.readthedocs.io/en/latest/advanced-usage.html#tls-warnings\n",
            "  warnings.warn(\n",
            "/usr/local/lib/python3.10/dist-packages/urllib3/connectionpool.py:1100: InsecureRequestWarning: Unverified HTTPS request is being made to host '134.209.74.243'. Adding certificate verification is strongly advised. See: https://urllib3.readthedocs.io/en/latest/advanced-usage.html#tls-warnings\n",
            "  warnings.warn(\n",
            "/usr/local/lib/python3.10/dist-packages/urllib3/connectionpool.py:1100: InsecureRequestWarning: Unverified HTTPS request is being made to host '134.209.74.243'. Adding certificate verification is strongly advised. See: https://urllib3.readthedocs.io/en/latest/advanced-usage.html#tls-warnings\n",
            "  warnings.warn(\n"
          ]
        },
        {
          "output_type": "stream",
          "name": "stdout",
          "text": [
            "Indexed Melon_(block)\n",
            "Topic: Glowing_Obsidian\n",
            "Description: pocket edition glow obsidian pocket edition exclus...\n",
            "Indexed Glowing_Obsidian\n",
            "Topic: Fence_Gate\n",
            "Description: fence gate block share function door fence fence g...\n",
            "Indexed Fence_Gate\n",
            "Topic: Crafting_Table\n",
            "Description: craft table originally call workbench one essentia...\n"
          ]
        },
        {
          "output_type": "stream",
          "name": "stderr",
          "text": [
            "/usr/local/lib/python3.10/dist-packages/urllib3/connectionpool.py:1100: InsecureRequestWarning: Unverified HTTPS request is being made to host '134.209.74.243'. Adding certificate verification is strongly advised. See: https://urllib3.readthedocs.io/en/latest/advanced-usage.html#tls-warnings\n",
            "  warnings.warn(\n",
            "/usr/local/lib/python3.10/dist-packages/urllib3/connectionpool.py:1100: InsecureRequestWarning: Unverified HTTPS request is being made to host '134.209.74.243'. Adding certificate verification is strongly advised. See: https://urllib3.readthedocs.io/en/latest/advanced-usage.html#tls-warnings\n",
            "  warnings.warn(\n",
            "/usr/local/lib/python3.10/dist-packages/urllib3/connectionpool.py:1100: InsecureRequestWarning: Unverified HTTPS request is being made to host '134.209.74.243'. Adding certificate verification is strongly advised. See: https://urllib3.readthedocs.io/en/latest/advanced-usage.html#tls-warnings\n",
            "  warnings.warn(\n"
          ]
        },
        {
          "output_type": "stream",
          "name": "stdout",
          "text": [
            "Indexed Crafting_Table\n",
            "Topic: Iron_Ore\n",
            "Description: iron ore mineral block find underground common min...\n",
            "Indexed Iron_Ore\n",
            "Topic: Dirt\n",
            "Description: dirt block find abundantly overworld coarse dirt v...\n",
            "Indexed Dirt\n",
            "Topic: Nether_Quartz_Ore\n",
            "Description: nether quartz ore ore available nether nether quar...\n"
          ]
        },
        {
          "output_type": "stream",
          "name": "stderr",
          "text": [
            "/usr/local/lib/python3.10/dist-packages/urllib3/connectionpool.py:1100: InsecureRequestWarning: Unverified HTTPS request is being made to host '134.209.74.243'. Adding certificate verification is strongly advised. See: https://urllib3.readthedocs.io/en/latest/advanced-usage.html#tls-warnings\n",
            "  warnings.warn(\n",
            "/usr/local/lib/python3.10/dist-packages/urllib3/connectionpool.py:1100: InsecureRequestWarning: Unverified HTTPS request is being made to host '134.209.74.243'. Adding certificate verification is strongly advised. See: https://urllib3.readthedocs.io/en/latest/advanced-usage.html#tls-warnings\n",
            "  warnings.warn(\n",
            "/usr/local/lib/python3.10/dist-packages/urllib3/connectionpool.py:1100: InsecureRequestWarning: Unverified HTTPS request is being made to host '134.209.74.243'. Adding certificate verification is strongly advised. See: https://urllib3.readthedocs.io/en/latest/advanced-usage.html#tls-warnings\n",
            "  warnings.warn(\n"
          ]
        },
        {
          "output_type": "stream",
          "name": "stdout",
          "text": [
            "Indexed Nether_Quartz_Ore\n",
            "Topic: Fire\n",
            "Description: fire harmful non solid block fire cannot obtain it...\n",
            "Indexed Fire\n",
            "Topic: Dragon_Egg\n",
            "Description: dragon egg rarest block survival minecraft single ...\n",
            "Indexed Dragon_Egg\n",
            "Topic: Mycelium\n",
            "Description: mycelium block particle effect resemble tiny spore...\n"
          ]
        },
        {
          "output_type": "stream",
          "name": "stderr",
          "text": [
            "/usr/local/lib/python3.10/dist-packages/urllib3/connectionpool.py:1100: InsecureRequestWarning: Unverified HTTPS request is being made to host '134.209.74.243'. Adding certificate verification is strongly advised. See: https://urllib3.readthedocs.io/en/latest/advanced-usage.html#tls-warnings\n",
            "  warnings.warn(\n",
            "/usr/local/lib/python3.10/dist-packages/urllib3/connectionpool.py:1100: InsecureRequestWarning: Unverified HTTPS request is being made to host '134.209.74.243'. Adding certificate verification is strongly advised. See: https://urllib3.readthedocs.io/en/latest/advanced-usage.html#tls-warnings\n",
            "  warnings.warn(\n",
            "/usr/local/lib/python3.10/dist-packages/urllib3/connectionpool.py:1100: InsecureRequestWarning: Unverified HTTPS request is being made to host '134.209.74.243'. Adding certificate verification is strongly advised. See: https://urllib3.readthedocs.io/en/latest/advanced-usage.html#tls-warnings\n",
            "  warnings.warn(\n"
          ]
        },
        {
          "output_type": "stream",
          "name": "stdout",
          "text": [
            "Indexed Mycelium\n",
            "Topic: Glowstone\n",
            "Description: glowstone light emit block appear nether break wit...\n",
            "Indexed Glowstone\n",
            "Topic: Flower_Pot\n",
            "Description: flower pot decorative block allow plant flower pot...\n",
            "Indexed Flower_Pot\n",
            "Topic: Grass\n",
            "Description: grass commonly name tall grass long grass non soli...\n"
          ]
        },
        {
          "output_type": "stream",
          "name": "stderr",
          "text": [
            "/usr/local/lib/python3.10/dist-packages/urllib3/connectionpool.py:1100: InsecureRequestWarning: Unverified HTTPS request is being made to host '134.209.74.243'. Adding certificate verification is strongly advised. See: https://urllib3.readthedocs.io/en/latest/advanced-usage.html#tls-warnings\n",
            "  warnings.warn(\n",
            "/usr/local/lib/python3.10/dist-packages/urllib3/connectionpool.py:1100: InsecureRequestWarning: Unverified HTTPS request is being made to host '134.209.74.243'. Adding certificate verification is strongly advised. See: https://urllib3.readthedocs.io/en/latest/advanced-usage.html#tls-warnings\n",
            "  warnings.warn(\n",
            "/usr/local/lib/python3.10/dist-packages/urllib3/connectionpool.py:1100: InsecureRequestWarning: Unverified HTTPS request is being made to host '134.209.74.243'. Adding certificate verification is strongly advised. See: https://urllib3.readthedocs.io/en/latest/advanced-usage.html#tls-warnings\n",
            "  warnings.warn(\n"
          ]
        },
        {
          "output_type": "stream",
          "name": "stdout",
          "text": [
            "Indexed Grass\n",
            "Topic: Grass_Path\n",
            "Description: pocket edition grass path decorative block current...\n",
            "Indexed Grass_Path\n",
            "Topic: Flower\n",
            "Description: flower naturally occur plant come variety shape co...\n",
            "Indexed Flower\n",
            "Topic: Nether_Brick\n",
            "Description: nether brick block use form nether fortresses neth...\n"
          ]
        },
        {
          "output_type": "stream",
          "name": "stderr",
          "text": [
            "/usr/local/lib/python3.10/dist-packages/urllib3/connectionpool.py:1100: InsecureRequestWarning: Unverified HTTPS request is being made to host '134.209.74.243'. Adding certificate verification is strongly advised. See: https://urllib3.readthedocs.io/en/latest/advanced-usage.html#tls-warnings\n",
            "  warnings.warn(\n",
            "/usr/local/lib/python3.10/dist-packages/urllib3/connectionpool.py:1100: InsecureRequestWarning: Unverified HTTPS request is being made to host '134.209.74.243'. Adding certificate verification is strongly advised. See: https://urllib3.readthedocs.io/en/latest/advanced-usage.html#tls-warnings\n",
            "  warnings.warn(\n",
            "/usr/local/lib/python3.10/dist-packages/urllib3/connectionpool.py:1100: InsecureRequestWarning: Unverified HTTPS request is being made to host '134.209.74.243'. Adding certificate verification is strongly advised. See: https://urllib3.readthedocs.io/en/latest/advanced-usage.html#tls-warnings\n",
            "  warnings.warn(\n"
          ]
        },
        {
          "output_type": "stream",
          "name": "stdout",
          "text": [
            "Indexed Nether_Brick\n",
            "Topic: Gravel\n",
            "Description: gravel uncommon type block affect gravity gravel b...\n",
            "Indexed Gravel\n",
            "Topic: Mushroom\n",
            "Description: mushroom fungi grow spread dark area mushroom inst...\n",
            "Indexed Mushroom\n",
            "Topic: Diorite\n",
            "Description: diorite type igneous rock polish diorite polish ve...\n"
          ]
        },
        {
          "output_type": "stream",
          "name": "stderr",
          "text": [
            "/usr/local/lib/python3.10/dist-packages/urllib3/connectionpool.py:1100: InsecureRequestWarning: Unverified HTTPS request is being made to host '134.209.74.243'. Adding certificate verification is strongly advised. See: https://urllib3.readthedocs.io/en/latest/advanced-usage.html#tls-warnings\n",
            "  warnings.warn(\n",
            "/usr/local/lib/python3.10/dist-packages/urllib3/connectionpool.py:1100: InsecureRequestWarning: Unverified HTTPS request is being made to host '134.209.74.243'. Adding certificate verification is strongly advised. See: https://urllib3.readthedocs.io/en/latest/advanced-usage.html#tls-warnings\n",
            "  warnings.warn(\n",
            "/usr/local/lib/python3.10/dist-packages/urllib3/connectionpool.py:1100: InsecureRequestWarning: Unverified HTTPS request is being made to host '134.209.74.243'. Adding certificate verification is strongly advised. See: https://urllib3.readthedocs.io/en/latest/advanced-usage.html#tls-warnings\n",
            "  warnings.warn(\n"
          ]
        },
        {
          "output_type": "stream",
          "name": "stdout",
          "text": [
            "Indexed Diorite\n",
            "Topic: Glass_Pane\n",
            "Description: glass pane transparent block use alternative glass...\n",
            "Indexed Glass_Pane\n",
            "Topic: Monster_Egg\n",
            "Description: monster egg also know silverfish block call silver...\n",
            "Indexed Monster_Egg\n",
            "Topic: Gold_Ore\n",
            "Description: gold ore one rarest type mineral block find underg...\n"
          ]
        },
        {
          "output_type": "stream",
          "name": "stderr",
          "text": [
            "/usr/local/lib/python3.10/dist-packages/urllib3/connectionpool.py:1100: InsecureRequestWarning: Unverified HTTPS request is being made to host '134.209.74.243'. Adding certificate verification is strongly advised. See: https://urllib3.readthedocs.io/en/latest/advanced-usage.html#tls-warnings\n",
            "  warnings.warn(\n",
            "/usr/local/lib/python3.10/dist-packages/urllib3/connectionpool.py:1100: InsecureRequestWarning: Unverified HTTPS request is being made to host '134.209.74.243'. Adding certificate verification is strongly advised. See: https://urllib3.readthedocs.io/en/latest/advanced-usage.html#tls-warnings\n",
            "  warnings.warn(\n",
            "/usr/local/lib/python3.10/dist-packages/urllib3/connectionpool.py:1100: InsecureRequestWarning: Unverified HTTPS request is being made to host '134.209.74.243'. Adding certificate verification is strongly advised. See: https://urllib3.readthedocs.io/en/latest/advanced-usage.html#tls-warnings\n",
            "  warnings.warn(\n"
          ]
        },
        {
          "output_type": "stream",
          "name": "stdout",
          "text": [
            "Indexed Gold_Ore\n",
            "Topic: Ice\n",
            "Description: ice translucent solid block ice easily destroy wit...\n",
            "Indexed Ice\n",
            "Topic: Cocoa\n",
            "Description: cocoa pod growable fruit jungle tree cocoa pod min...\n",
            "Indexed Cocoa\n",
            "Topic: Nether_Wart\n",
            "Description: nether wart know nether stalk coding plant grow ne...\n"
          ]
        },
        {
          "output_type": "stream",
          "name": "stderr",
          "text": [
            "/usr/local/lib/python3.10/dist-packages/urllib3/connectionpool.py:1100: InsecureRequestWarning: Unverified HTTPS request is being made to host '134.209.74.243'. Adding certificate verification is strongly advised. See: https://urllib3.readthedocs.io/en/latest/advanced-usage.html#tls-warnings\n",
            "  warnings.warn(\n",
            "/usr/local/lib/python3.10/dist-packages/urllib3/connectionpool.py:1100: InsecureRequestWarning: Unverified HTTPS request is being made to host '134.209.74.243'. Adding certificate verification is strongly advised. See: https://urllib3.readthedocs.io/en/latest/advanced-usage.html#tls-warnings\n",
            "  warnings.warn(\n",
            "/usr/local/lib/python3.10/dist-packages/urllib3/connectionpool.py:1100: InsecureRequestWarning: Unverified HTTPS request is being made to host '134.209.74.243'. Adding certificate verification is strongly advised. See: https://urllib3.readthedocs.io/en/latest/advanced-usage.html#tls-warnings\n",
            "  warnings.warn(\n"
          ]
        },
        {
          "output_type": "stream",
          "name": "stdout",
          "text": [
            "Indexed Nether_Wart\n",
            "Topic: Mushroom_(block)\n",
            "Description: mushroom solid block huge mushroom block quickly b...\n",
            "Indexed Mushroom_(block)\n",
            "Topic: Furnace\n",
            "Description: furnace block use smelt block item convert block i...\n",
            "Indexed Furnace\n",
            "Topic: Netherrack\n",
            "Description: netherrack formerly know netherstone rock like blo...\n"
          ]
        },
        {
          "output_type": "stream",
          "name": "stderr",
          "text": [
            "/usr/local/lib/python3.10/dist-packages/urllib3/connectionpool.py:1100: InsecureRequestWarning: Unverified HTTPS request is being made to host '134.209.74.243'. Adding certificate verification is strongly advised. See: https://urllib3.readthedocs.io/en/latest/advanced-usage.html#tls-warnings\n",
            "  warnings.warn(\n",
            "/usr/local/lib/python3.10/dist-packages/urllib3/connectionpool.py:1100: InsecureRequestWarning: Unverified HTTPS request is being made to host '134.209.74.243'. Adding certificate verification is strongly advised. See: https://urllib3.readthedocs.io/en/latest/advanced-usage.html#tls-warnings\n",
            "  warnings.warn(\n",
            "/usr/local/lib/python3.10/dist-packages/urllib3/connectionpool.py:1100: InsecureRequestWarning: Unverified HTTPS request is being made to host '134.209.74.243'. Adding certificate verification is strongly advised. See: https://urllib3.readthedocs.io/en/latest/advanced-usage.html#tls-warnings\n",
            "  warnings.warn(\n"
          ]
        },
        {
          "output_type": "stream",
          "name": "stdout",
          "text": [
            "Indexed Netherrack\n",
            "Topic: Nether_Reactor_Core\n",
            "Description: nether reactor core block exclusive pocket pi edit...\n",
            "Indexed Nether_Reactor_Core\n",
            "Topic: Detector_Rail\n",
            "Description: detector rail block transport minecarts use switch...\n",
            "Indexed Detector_Rail\n",
            "Topic: Sapling\n",
            "Description: sapling item grown tree sapling break use tool alw...\n"
          ]
        },
        {
          "output_type": "stream",
          "name": "stderr",
          "text": [
            "/usr/local/lib/python3.10/dist-packages/urllib3/connectionpool.py:1100: InsecureRequestWarning: Unverified HTTPS request is being made to host '134.209.74.243'. Adding certificate verification is strongly advised. See: https://urllib3.readthedocs.io/en/latest/advanced-usage.html#tls-warnings\n",
            "  warnings.warn(\n",
            "/usr/local/lib/python3.10/dist-packages/urllib3/connectionpool.py:1100: InsecureRequestWarning: Unverified HTTPS request is being made to host '134.209.74.243'. Adding certificate verification is strongly advised. See: https://urllib3.readthedocs.io/en/latest/advanced-usage.html#tls-warnings\n",
            "  warnings.warn(\n",
            "/usr/local/lib/python3.10/dist-packages/urllib3/connectionpool.py:1100: InsecureRequestWarning: Unverified HTTPS request is being made to host '134.209.74.243'. Adding certificate verification is strongly advised. See: https://urllib3.readthedocs.io/en/latest/advanced-usage.html#tls-warnings\n",
            "  warnings.warn(\n"
          ]
        },
        {
          "output_type": "stream",
          "name": "stdout",
          "text": [
            "Indexed Sapling\n",
            "Topic: Stone\n",
            "Description: stone block find abundance overworld stone require...\n",
            "Indexed Stone\n",
            "Topic: Tripwire_Hook\n",
            "Description: tripwire hook block use detect entity player mob i...\n",
            "Indexed Tripwire_Hook\n",
            "Topic: Stairs\n",
            "Description: stair block allow mob player change elevation with...\n"
          ]
        },
        {
          "output_type": "stream",
          "name": "stderr",
          "text": [
            "/usr/local/lib/python3.10/dist-packages/urllib3/connectionpool.py:1100: InsecureRequestWarning: Unverified HTTPS request is being made to host '134.209.74.243'. Adding certificate verification is strongly advised. See: https://urllib3.readthedocs.io/en/latest/advanced-usage.html#tls-warnings\n",
            "  warnings.warn(\n",
            "/usr/local/lib/python3.10/dist-packages/urllib3/connectionpool.py:1100: InsecureRequestWarning: Unverified HTTPS request is being made to host '134.209.74.243'. Adding certificate verification is strongly advised. See: https://urllib3.readthedocs.io/en/latest/advanced-usage.html#tls-warnings\n",
            "  warnings.warn(\n",
            "/usr/local/lib/python3.10/dist-packages/urllib3/connectionpool.py:1100: InsecureRequestWarning: Unverified HTTPS request is being made to host '134.209.74.243'. Adding certificate verification is strongly advised. See: https://urllib3.readthedocs.io/en/latest/advanced-usage.html#tls-warnings\n",
            "  warnings.warn(\n"
          ]
        },
        {
          "output_type": "stream",
          "name": "stdout",
          "text": [
            "Indexed Stairs\n",
            "Topic: Prismarine\n",
            "Description: prismarine stone like material appear underwater o...\n",
            "Indexed Prismarine\n",
            "Topic: Stained_Glass\n",
            "Description: stain glass dye version glass use decoration purpo...\n",
            "Indexed Stained_Glass\n",
            "Topic: Redstone_Repeater\n",
            "Description: redstone repeater sometimes call diode block use r...\n"
          ]
        },
        {
          "output_type": "stream",
          "name": "stderr",
          "text": [
            "/usr/local/lib/python3.10/dist-packages/urllib3/connectionpool.py:1100: InsecureRequestWarning: Unverified HTTPS request is being made to host '134.209.74.243'. Adding certificate verification is strongly advised. See: https://urllib3.readthedocs.io/en/latest/advanced-usage.html#tls-warnings\n",
            "  warnings.warn(\n",
            "/usr/local/lib/python3.10/dist-packages/urllib3/connectionpool.py:1100: InsecureRequestWarning: Unverified HTTPS request is being made to host '134.209.74.243'. Adding certificate verification is strongly advised. See: https://urllib3.readthedocs.io/en/latest/advanced-usage.html#tls-warnings\n",
            "  warnings.warn(\n",
            "/usr/local/lib/python3.10/dist-packages/urllib3/connectionpool.py:1100: InsecureRequestWarning: Unverified HTTPS request is being made to host '134.209.74.243'. Adding certificate verification is strongly advised. See: https://urllib3.readthedocs.io/en/latest/advanced-usage.html#tls-warnings\n",
            "  warnings.warn(\n"
          ]
        },
        {
          "output_type": "stream",
          "name": "stdout",
          "text": [
            "Indexed Redstone_Repeater\n",
            "Topic: Water\n",
            "Description: water natural fluid water cannot obtain item matte...\n",
            "Indexed Water\n",
            "Topic: Powered_Rail\n",
            "Description: power rail type rail use decrease increase momentu...\n",
            "Indexed Powered_Rail\n",
            "Topic: Snow_(layer)\n",
            "Description: snow cover block commonly cause snowfall destroyin...\n"
          ]
        },
        {
          "output_type": "stream",
          "name": "stderr",
          "text": [
            "/usr/local/lib/python3.10/dist-packages/urllib3/connectionpool.py:1100: InsecureRequestWarning: Unverified HTTPS request is being made to host '134.209.74.243'. Adding certificate verification is strongly advised. See: https://urllib3.readthedocs.io/en/latest/advanced-usage.html#tls-warnings\n",
            "  warnings.warn(\n",
            "/usr/local/lib/python3.10/dist-packages/urllib3/connectionpool.py:1100: InsecureRequestWarning: Unverified HTTPS request is being made to host '134.209.74.243'. Adding certificate verification is strongly advised. See: https://urllib3.readthedocs.io/en/latest/advanced-usage.html#tls-warnings\n",
            "  warnings.warn(\n",
            "/usr/local/lib/python3.10/dist-packages/urllib3/connectionpool.py:1100: InsecureRequestWarning: Unverified HTTPS request is being made to host '134.209.74.243'. Adding certificate verification is strongly advised. See: https://urllib3.readthedocs.io/en/latest/advanced-usage.html#tls-warnings\n",
            "  warnings.warn(\n"
          ]
        },
        {
          "output_type": "stream",
          "name": "stdout",
          "text": [
            "Indexed Snow_(layer)\n",
            "Topic: Sign\n",
            "Description: sign non solid block display text sign broken tool...\n",
            "Indexed Sign\n",
            "Topic: Stained_Clay\n",
            "Description: stain clay also know stain hardened clay color var...\n",
            "Indexed Stained_Clay\n",
            "Topic: Wood_Planks\n",
            "Description: wood plank common block use many craft recipe text...\n"
          ]
        },
        {
          "output_type": "stream",
          "name": "stderr",
          "text": [
            "/usr/local/lib/python3.10/dist-packages/urllib3/connectionpool.py:1100: InsecureRequestWarning: Unverified HTTPS request is being made to host '134.209.74.243'. Adding certificate verification is strongly advised. See: https://urllib3.readthedocs.io/en/latest/advanced-usage.html#tls-warnings\n",
            "  warnings.warn(\n",
            "/usr/local/lib/python3.10/dist-packages/urllib3/connectionpool.py:1100: InsecureRequestWarning: Unverified HTTPS request is being made to host '134.209.74.243'. Adding certificate verification is strongly advised. See: https://urllib3.readthedocs.io/en/latest/advanced-usage.html#tls-warnings\n",
            "  warnings.warn(\n",
            "/usr/local/lib/python3.10/dist-packages/urllib3/connectionpool.py:1100: InsecureRequestWarning: Unverified HTTPS request is being made to host '134.209.74.243'. Adding certificate verification is strongly advised. See: https://urllib3.readthedocs.io/en/latest/advanced-usage.html#tls-warnings\n",
            "  warnings.warn(\n"
          ]
        },
        {
          "output_type": "stream",
          "name": "stdout",
          "text": [
            "Indexed Wood_Planks\n",
            "Topic: Packed_Ice\n",
            "Description: packed ice solid block form ice pack ice obtain us...\n",
            "Indexed Packed_Ice\n",
            "Topic: Redstone\n",
            "Description: redstone flat transparent block transmit power red...\n",
            "Indexed Redstone\n",
            "Topic: Pumpkin_Seeds\n",
            "Description: pumpkin seed item use grow pumpkin plant minecarts...\n"
          ]
        },
        {
          "output_type": "stream",
          "name": "stderr",
          "text": [
            "/usr/local/lib/python3.10/dist-packages/urllib3/connectionpool.py:1100: InsecureRequestWarning: Unverified HTTPS request is being made to host '134.209.74.243'. Adding certificate verification is strongly advised. See: https://urllib3.readthedocs.io/en/latest/advanced-usage.html#tls-warnings\n",
            "  warnings.warn(\n",
            "/usr/local/lib/python3.10/dist-packages/urllib3/connectionpool.py:1100: InsecureRequestWarning: Unverified HTTPS request is being made to host '134.209.74.243'. Adding certificate verification is strongly advised. See: https://urllib3.readthedocs.io/en/latest/advanced-usage.html#tls-warnings\n",
            "  warnings.warn(\n",
            "/usr/local/lib/python3.10/dist-packages/urllib3/connectionpool.py:1100: InsecureRequestWarning: Unverified HTTPS request is being made to host '134.209.74.243'. Adding certificate verification is strongly advised. See: https://urllib3.readthedocs.io/en/latest/advanced-usage.html#tls-warnings\n",
            "  warnings.warn(\n"
          ]
        },
        {
          "output_type": "stream",
          "name": "stdout",
          "text": [
            "Indexed Pumpkin_Seeds\n",
            "Topic: Solid_block\n",
            "Description: solid block include block transparent term block p...\n",
            "Indexed Solid_block\n",
            "Topic: Wood\n",
            "Description: wood also know log naturally occur block find tree...\n",
            "Indexed Wood\n",
            "Topic: Sea_Lantern\n",
            "Description: sea lanterns underwater light source appear ocean ...\n"
          ]
        },
        {
          "output_type": "stream",
          "name": "stderr",
          "text": [
            "/usr/local/lib/python3.10/dist-packages/urllib3/connectionpool.py:1100: InsecureRequestWarning: Unverified HTTPS request is being made to host '134.209.74.243'. Adding certificate verification is strongly advised. See: https://urllib3.readthedocs.io/en/latest/advanced-usage.html#tls-warnings\n",
            "  warnings.warn(\n",
            "/usr/local/lib/python3.10/dist-packages/urllib3/connectionpool.py:1100: InsecureRequestWarning: Unverified HTTPS request is being made to host '134.209.74.243'. Adding certificate verification is strongly advised. See: https://urllib3.readthedocs.io/en/latest/advanced-usage.html#tls-warnings\n",
            "  warnings.warn(\n",
            "/usr/local/lib/python3.10/dist-packages/urllib3/connectionpool.py:1100: InsecureRequestWarning: Unverified HTTPS request is being made to host '134.209.74.243'. Adding certificate verification is strongly advised. See: https://urllib3.readthedocs.io/en/latest/advanced-usage.html#tls-warnings\n",
            "  warnings.warn(\n"
          ]
        },
        {
          "output_type": "stream",
          "name": "stdout",
          "text": [
            "Indexed Sea_Lantern\n",
            "Topic: Sand\n",
            "Description: sand block naturally find coast desert sand low bl...\n",
            "Indexed Sand\n",
            "Topic: Sandstone\n",
            "Description: sandstone solid block available yellow red color y...\n",
            "Indexed Sandstone\n",
            "Topic: Slime_Block\n",
            "Description: slime block transparent block unique property slim...\n"
          ]
        },
        {
          "output_type": "stream",
          "name": "stderr",
          "text": [
            "/usr/local/lib/python3.10/dist-packages/urllib3/connectionpool.py:1100: InsecureRequestWarning: Unverified HTTPS request is being made to host '134.209.74.243'. Adding certificate verification is strongly advised. See: https://urllib3.readthedocs.io/en/latest/advanced-usage.html#tls-warnings\n",
            "  warnings.warn(\n",
            "/usr/local/lib/python3.10/dist-packages/urllib3/connectionpool.py:1100: InsecureRequestWarning: Unverified HTTPS request is being made to host '134.209.74.243'. Adding certificate verification is strongly advised. See: https://urllib3.readthedocs.io/en/latest/advanced-usage.html#tls-warnings\n",
            "  warnings.warn(\n",
            "/usr/local/lib/python3.10/dist-packages/urllib3/connectionpool.py:1100: InsecureRequestWarning: Unverified HTTPS request is being made to host '134.209.74.243'. Adding certificate verification is strongly advised. See: https://urllib3.readthedocs.io/en/latest/advanced-usage.html#tls-warnings\n",
            "  warnings.warn(\n"
          ]
        },
        {
          "output_type": "stream",
          "name": "stdout",
          "text": [
            "Indexed Slime_Block\n",
            "Topic: Stonecutter\n",
            "Description: pocket edition stonecutter pocket edition exclusiv...\n",
            "Indexed Stonecutter\n",
            "Topic: Sponge\n",
            "Description: sponge block use remove water around place turn we...\n",
            "Indexed Sponge\n",
            "Topic: Redstone_Torch\n",
            "Description: redstone torch non solid block use invertible reds...\n"
          ]
        },
        {
          "output_type": "stream",
          "name": "stderr",
          "text": [
            "/usr/local/lib/python3.10/dist-packages/urllib3/connectionpool.py:1100: InsecureRequestWarning: Unverified HTTPS request is being made to host '134.209.74.243'. Adding certificate verification is strongly advised. See: https://urllib3.readthedocs.io/en/latest/advanced-usage.html#tls-warnings\n",
            "  warnings.warn(\n",
            "/usr/local/lib/python3.10/dist-packages/urllib3/connectionpool.py:1100: InsecureRequestWarning: Unverified HTTPS request is being made to host '134.209.74.243'. Adding certificate verification is strongly advised. See: https://urllib3.readthedocs.io/en/latest/advanced-usage.html#tls-warnings\n",
            "  warnings.warn(\n",
            "/usr/local/lib/python3.10/dist-packages/urllib3/connectionpool.py:1100: InsecureRequestWarning: Unverified HTTPS request is being made to host '134.209.74.243'. Adding certificate verification is strongly advised. See: https://urllib3.readthedocs.io/en/latest/advanced-usage.html#tls-warnings\n",
            "  warnings.warn(\n"
          ]
        },
        {
          "output_type": "stream",
          "name": "stdout",
          "text": [
            "Indexed Redstone_Torch\n",
            "Topic: Stone_Bricks\n",
            "Description: stone bricks one material use stronghold crack sto...\n",
            "Indexed Stone_Bricks\n",
            "Topic: Pumpkin\n",
            "Description: pumpkin block appear grass spawn random cluster ov...\n",
            "Indexed Pumpkin\n",
            "Topic: Trapped_Chest\n",
            "Description: trap chest block store item produce redstone power...\n"
          ]
        },
        {
          "output_type": "stream",
          "name": "stderr",
          "text": [
            "/usr/local/lib/python3.10/dist-packages/urllib3/connectionpool.py:1100: InsecureRequestWarning: Unverified HTTPS request is being made to host '134.209.74.243'. Adding certificate verification is strongly advised. See: https://urllib3.readthedocs.io/en/latest/advanced-usage.html#tls-warnings\n",
            "  warnings.warn(\n",
            "/usr/local/lib/python3.10/dist-packages/urllib3/connectionpool.py:1100: InsecureRequestWarning: Unverified HTTPS request is being made to host '134.209.74.243'. Adding certificate verification is strongly advised. See: https://urllib3.readthedocs.io/en/latest/advanced-usage.html#tls-warnings\n",
            "  warnings.warn(\n",
            "/usr/local/lib/python3.10/dist-packages/urllib3/connectionpool.py:1100: InsecureRequestWarning: Unverified HTTPS request is being made to host '134.209.74.243'. Adding certificate verification is strongly advised. See: https://urllib3.readthedocs.io/en/latest/advanced-usage.html#tls-warnings\n",
            "  warnings.warn(\n"
          ]
        },
        {
          "output_type": "stream",
          "name": "stdout",
          "text": [
            "Indexed Trapped_Chest\n",
            "Topic: Note_Block\n",
            "Description: note block musical block note block quickly break ...\n",
            "Indexed Note_Block\n",
            "Topic: Ore\n",
            "Description: ore type block minecraft ore primarily collect cra...\n",
            "Indexed Ore\n",
            "Topic: Torch\n",
            "Description: torch non solid block emit light torch break insta...\n"
          ]
        },
        {
          "output_type": "stream",
          "name": "stderr",
          "text": [
            "/usr/local/lib/python3.10/dist-packages/urllib3/connectionpool.py:1100: InsecureRequestWarning: Unverified HTTPS request is being made to host '134.209.74.243'. Adding certificate verification is strongly advised. See: https://urllib3.readthedocs.io/en/latest/advanced-usage.html#tls-warnings\n",
            "  warnings.warn(\n",
            "/usr/local/lib/python3.10/dist-packages/urllib3/connectionpool.py:1100: InsecureRequestWarning: Unverified HTTPS request is being made to host '134.209.74.243'. Adding certificate verification is strongly advised. See: https://urllib3.readthedocs.io/en/latest/advanced-usage.html#tls-warnings\n",
            "  warnings.warn(\n",
            "/usr/local/lib/python3.10/dist-packages/urllib3/connectionpool.py:1100: InsecureRequestWarning: Unverified HTTPS request is being made to host '134.209.74.243'. Adding certificate verification is strongly advised. See: https://urllib3.readthedocs.io/en/latest/advanced-usage.html#tls-warnings\n",
            "  warnings.warn(\n"
          ]
        },
        {
          "output_type": "stream",
          "name": "stdout",
          "text": [
            "Indexed Torch\n",
            "Topic: Soul_Sand\n",
            "Description: soul sand also know hell sand code slow sand block...\n",
            "Indexed Soul_Sand\n",
            "Topic: Weighted_Pressure_Plate\n",
            "Description: weighted pressure plate block use measure number e...\n",
            "Indexed Weighted_Pressure_Plate\n",
            "Topic: Stained_Glass_Pane\n",
            "Description: stain glass pane dye version regular glass pane us...\n"
          ]
        },
        {
          "output_type": "stream",
          "name": "stderr",
          "text": [
            "/usr/local/lib/python3.10/dist-packages/urllib3/connectionpool.py:1100: InsecureRequestWarning: Unverified HTTPS request is being made to host '134.209.74.243'. Adding certificate verification is strongly advised. See: https://urllib3.readthedocs.io/en/latest/advanced-usage.html#tls-warnings\n",
            "  warnings.warn(\n",
            "/usr/local/lib/python3.10/dist-packages/urllib3/connectionpool.py:1100: InsecureRequestWarning: Unverified HTTPS request is being made to host '134.209.74.243'. Adding certificate verification is strongly advised. See: https://urllib3.readthedocs.io/en/latest/advanced-usage.html#tls-warnings\n",
            "  warnings.warn(\n",
            "/usr/local/lib/python3.10/dist-packages/urllib3/connectionpool.py:1100: InsecureRequestWarning: Unverified HTTPS request is being made to host '134.209.74.243'. Adding certificate verification is strongly advised. See: https://urllib3.readthedocs.io/en/latest/advanced-usage.html#tls-warnings\n",
            "  warnings.warn(\n"
          ]
        },
        {
          "output_type": "stream",
          "name": "stdout",
          "text": [
            "Indexed Stained_Glass_Pane\n",
            "Topic: TNT\n",
            "Description: tnt explosive block tnt break instantly tool witho...\n",
            "Indexed TNT\n",
            "Topic: Wool\n",
            "Description: wool previously know cloth block derive sheep dyed...\n",
            "Indexed Wool\n",
            "Topic: Seeds\n",
            "Description: seed item use farm seed obtain break grass yield 0...\n"
          ]
        },
        {
          "output_type": "stream",
          "name": "stderr",
          "text": [
            "/usr/local/lib/python3.10/dist-packages/urllib3/connectionpool.py:1100: InsecureRequestWarning: Unverified HTTPS request is being made to host '134.209.74.243'. Adding certificate verification is strongly advised. See: https://urllib3.readthedocs.io/en/latest/advanced-usage.html#tls-warnings\n",
            "  warnings.warn(\n",
            "/usr/local/lib/python3.10/dist-packages/urllib3/connectionpool.py:1100: InsecureRequestWarning: Unverified HTTPS request is being made to host '134.209.74.243'. Adding certificate verification is strongly advised. See: https://urllib3.readthedocs.io/en/latest/advanced-usage.html#tls-warnings\n",
            "  warnings.warn(\n",
            "/usr/local/lib/python3.10/dist-packages/urllib3/connectionpool.py:1100: InsecureRequestWarning: Unverified HTTPS request is being made to host '134.209.74.243'. Adding certificate verification is strongly advised. See: https://urllib3.readthedocs.io/en/latest/advanced-usage.html#tls-warnings\n",
            "  warnings.warn(\n"
          ]
        },
        {
          "output_type": "stream",
          "name": "stdout",
          "text": [
            "Indexed Seeds\n",
            "Topic: Pressure_Plate\n",
            "Description: pressure plate non solid block use detect player m...\n",
            "Indexed Pressure_Plate\n",
            "Topic: Technical_blocks\n",
            "Description: technical block block cannot acquire without comma...\n",
            "Indexed Technical_blocks\n",
            "Topic: Rail\n",
            "Description: rail also know minecart track non solid block prov...\n"
          ]
        },
        {
          "output_type": "stream",
          "name": "stderr",
          "text": [
            "/usr/local/lib/python3.10/dist-packages/urllib3/connectionpool.py:1100: InsecureRequestWarning: Unverified HTTPS request is being made to host '134.209.74.243'. Adding certificate verification is strongly advised. See: https://urllib3.readthedocs.io/en/latest/advanced-usage.html#tls-warnings\n",
            "  warnings.warn(\n",
            "/usr/local/lib/python3.10/dist-packages/urllib3/connectionpool.py:1100: InsecureRequestWarning: Unverified HTTPS request is being made to host '134.209.74.243'. Adding certificate verification is strongly advised. See: https://urllib3.readthedocs.io/en/latest/advanced-usage.html#tls-warnings\n",
            "  warnings.warn(\n",
            "/usr/local/lib/python3.10/dist-packages/urllib3/connectionpool.py:1100: InsecureRequestWarning: Unverified HTTPS request is being made to host '134.209.74.243'. Adding certificate verification is strongly advised. See: https://urllib3.readthedocs.io/en/latest/advanced-usage.html#tls-warnings\n",
            "  warnings.warn(\n"
          ]
        },
        {
          "output_type": "stream",
          "name": "stdout",
          "text": [
            "Indexed Rail\n",
            "Topic: Trapdoor\n",
            "Description: trapdoor non solid block use openable barrier wood...\n",
            "Indexed Trapdoor\n",
            "Topic: Plants\n",
            "Description: plant minecraft representation plant life move gro...\n",
            "Indexed Plants\n",
            "Topic: Potato\n",
            "Description: potato food item plant consumed raw cook furnace m...\n"
          ]
        },
        {
          "output_type": "stream",
          "name": "stderr",
          "text": [
            "/usr/local/lib/python3.10/dist-packages/urllib3/connectionpool.py:1100: InsecureRequestWarning: Unverified HTTPS request is being made to host '134.209.74.243'. Adding certificate verification is strongly advised. See: https://urllib3.readthedocs.io/en/latest/advanced-usage.html#tls-warnings\n",
            "  warnings.warn(\n",
            "/usr/local/lib/python3.10/dist-packages/urllib3/connectionpool.py:1100: InsecureRequestWarning: Unverified HTTPS request is being made to host '134.209.74.243'. Adding certificate verification is strongly advised. See: https://urllib3.readthedocs.io/en/latest/advanced-usage.html#tls-warnings\n",
            "  warnings.warn(\n",
            "/usr/local/lib/python3.10/dist-packages/urllib3/connectionpool.py:1100: InsecureRequestWarning: Unverified HTTPS request is being made to host '134.209.74.243'. Adding certificate verification is strongly advised. See: https://urllib3.readthedocs.io/en/latest/advanced-usage.html#tls-warnings\n",
            "  warnings.warn(\n"
          ]
        },
        {
          "output_type": "stream",
          "name": "stdout",
          "text": [
            "Indexed Potato\n",
            "Topic: Slab\n",
            "Description: slabs half version respective block stone type sla...\n",
            "Indexed Slab\n",
            "Topic: Piston\n",
            "Description: piston block capable push block depend direction f...\n",
            "Indexed Piston\n",
            "Topic: Redstone_Comparator\n",
            "Description: redstone comparator block use redstone circuit mai...\n"
          ]
        },
        {
          "output_type": "stream",
          "name": "stderr",
          "text": [
            "/usr/local/lib/python3.10/dist-packages/urllib3/connectionpool.py:1100: InsecureRequestWarning: Unverified HTTPS request is being made to host '134.209.74.243'. Adding certificate verification is strongly advised. See: https://urllib3.readthedocs.io/en/latest/advanced-usage.html#tls-warnings\n",
            "  warnings.warn(\n",
            "/usr/local/lib/python3.10/dist-packages/urllib3/connectionpool.py:1100: InsecureRequestWarning: Unverified HTTPS request is being made to host '134.209.74.243'. Adding certificate verification is strongly advised. See: https://urllib3.readthedocs.io/en/latest/advanced-usage.html#tls-warnings\n",
            "  warnings.warn(\n",
            "/usr/local/lib/python3.10/dist-packages/urllib3/connectionpool.py:1100: InsecureRequestWarning: Unverified HTTPS request is being made to host '134.209.74.243'. Adding certificate verification is strongly advised. See: https://urllib3.readthedocs.io/en/latest/advanced-usage.html#tls-warnings\n",
            "  warnings.warn(\n"
          ]
        },
        {
          "output_type": "stream",
          "name": "stdout",
          "text": [
            "Indexed Redstone_Comparator\n",
            "Topic: Redstone_Lamp\n",
            "Description: redstone lamp block produce light activate redston...\n",
            "Indexed Redstone_Lamp\n",
            "Topic: Snow\n",
            "Description: snow full size block version snow layer broken sho...\n",
            "Indexed Snow\n",
            "Topic: Sugar_Canes\n",
            "Description: sugar cane formerly call reed sometimes call papyr...\n"
          ]
        },
        {
          "output_type": "stream",
          "name": "stderr",
          "text": [
            "/usr/local/lib/python3.10/dist-packages/urllib3/connectionpool.py:1100: InsecureRequestWarning: Unverified HTTPS request is being made to host '134.209.74.243'. Adding certificate verification is strongly advised. See: https://urllib3.readthedocs.io/en/latest/advanced-usage.html#tls-warnings\n",
            "  warnings.warn(\n",
            "/usr/local/lib/python3.10/dist-packages/urllib3/connectionpool.py:1100: InsecureRequestWarning: Unverified HTTPS request is being made to host '134.209.74.243'. Adding certificate verification is strongly advised. See: https://urllib3.readthedocs.io/en/latest/advanced-usage.html#tls-warnings\n",
            "  warnings.warn(\n",
            "/usr/local/lib/python3.10/dist-packages/urllib3/connectionpool.py:1100: InsecureRequestWarning: Unverified HTTPS request is being made to host '134.209.74.243'. Adding certificate verification is strongly advised. See: https://urllib3.readthedocs.io/en/latest/advanced-usage.html#tls-warnings\n",
            "  warnings.warn(\n"
          ]
        },
        {
          "output_type": "stream",
          "name": "stdout",
          "text": [
            "Indexed Sugar_Canes\n",
            "Topic: Podzol\n",
            "Description: podzol dirt type variant block podzol collect use ...\n",
            "Indexed Podzol\n",
            "Topic: String\n",
            "Description: string use craft recipe many tool utility place bl...\n",
            "Indexed String\n",
            "Topic: Vines\n",
            "Description: vine also call ivy non solid block 16 block thickn...\n"
          ]
        },
        {
          "output_type": "stream",
          "name": "stderr",
          "text": [
            "/usr/local/lib/python3.10/dist-packages/urllib3/connectionpool.py:1100: InsecureRequestWarning: Unverified HTTPS request is being made to host '134.209.74.243'. Adding certificate verification is strongly advised. See: https://urllib3.readthedocs.io/en/latest/advanced-usage.html#tls-warnings\n",
            "  warnings.warn(\n",
            "/usr/local/lib/python3.10/dist-packages/urllib3/connectionpool.py:1100: InsecureRequestWarning: Unverified HTTPS request is being made to host '134.209.74.243'. Adding certificate verification is strongly advised. See: https://urllib3.readthedocs.io/en/latest/advanced-usage.html#tls-warnings\n",
            "  warnings.warn(\n",
            "/usr/local/lib/python3.10/dist-packages/urllib3/connectionpool.py:1100: InsecureRequestWarning: Unverified HTTPS request is being made to host '134.209.74.243'. Adding certificate verification is strongly advised. See: https://urllib3.readthedocs.io/en/latest/advanced-usage.html#tls-warnings\n",
            "  warnings.warn(\n"
          ]
        },
        {
          "output_type": "stream",
          "name": "stdout",
          "text": [
            "Indexed Vines\n",
            "Topic: Obsidian\n",
            "Description: obsidian deep purple black block create lava water...\n",
            "Indexed Obsidian\n",
            "Topic: Redstone_Ore\n",
            "Description: redstone ore ore block redstone obtain redstone or...\n",
            "Indexed Redstone_Ore\n",
            "Topic: Cow\n",
            "Description: cow passive mob find overworld cow spawn herd 4 to...\n"
          ]
        },
        {
          "output_type": "stream",
          "name": "stderr",
          "text": [
            "/usr/local/lib/python3.10/dist-packages/urllib3/connectionpool.py:1100: InsecureRequestWarning: Unverified HTTPS request is being made to host '134.209.74.243'. Adding certificate verification is strongly advised. See: https://urllib3.readthedocs.io/en/latest/advanced-usage.html#tls-warnings\n",
            "  warnings.warn(\n",
            "/usr/local/lib/python3.10/dist-packages/urllib3/connectionpool.py:1100: InsecureRequestWarning: Unverified HTTPS request is being made to host '134.209.74.243'. Adding certificate verification is strongly advised. See: https://urllib3.readthedocs.io/en/latest/advanced-usage.html#tls-warnings\n",
            "  warnings.warn(\n",
            "/usr/local/lib/python3.10/dist-packages/urllib3/connectionpool.py:1100: InsecureRequestWarning: Unverified HTTPS request is being made to host '134.209.74.243'. Adding certificate verification is strongly advised. See: https://urllib3.readthedocs.io/en/latest/advanced-usage.html#tls-warnings\n",
            "  warnings.warn(\n"
          ]
        },
        {
          "output_type": "stream",
          "name": "stdout",
          "text": [
            "Indexed Cow\n",
            "Topic: Creeper\n",
            "Description: creeper common hostile mob explode close player cr...\n",
            "Indexed Creeper\n",
            "Topic: Boat\n",
            "Description: boat item vehicle entity boat retrieve attack pres...\n",
            "Indexed Boat\n",
            "Topic: Bottle_o%27_Enchanting\n",
            "Description: bottle enchant potion like item use spawn experien...\n"
          ]
        },
        {
          "output_type": "stream",
          "name": "stderr",
          "text": [
            "/usr/local/lib/python3.10/dist-packages/urllib3/connectionpool.py:1100: InsecureRequestWarning: Unverified HTTPS request is being made to host '134.209.74.243'. Adding certificate verification is strongly advised. See: https://urllib3.readthedocs.io/en/latest/advanced-usage.html#tls-warnings\n",
            "  warnings.warn(\n",
            "/usr/local/lib/python3.10/dist-packages/urllib3/connectionpool.py:1100: InsecureRequestWarning: Unverified HTTPS request is being made to host '134.209.74.243'. Adding certificate verification is strongly advised. See: https://urllib3.readthedocs.io/en/latest/advanced-usage.html#tls-warnings\n",
            "  warnings.warn(\n",
            "/usr/local/lib/python3.10/dist-packages/urllib3/connectionpool.py:1100: InsecureRequestWarning: Unverified HTTPS request is being made to host '134.209.74.243'. Adding certificate verification is strongly advised. See: https://urllib3.readthedocs.io/en/latest/advanced-usage.html#tls-warnings\n",
            "  warnings.warn(\n"
          ]
        },
        {
          "output_type": "stream",
          "name": "stdout",
          "text": [
            "Indexed Bottle_o%27_Enchanting\n",
            "Topic: Chicken\n",
            "Description: chicken egg lay passive mob chicken naturally gene...\n",
            "Indexed Chicken\n",
            "Topic: Camera\n",
            "Description: camera pi edition exclusive item use pocket editio...\n",
            "Indexed Camera\n",
            "Topic: Armor_Stand\n",
            "Description: armor stand entity able hold display wearable item...\n"
          ]
        },
        {
          "output_type": "stream",
          "name": "stderr",
          "text": [
            "/usr/local/lib/python3.10/dist-packages/urllib3/connectionpool.py:1100: InsecureRequestWarning: Unverified HTTPS request is being made to host '134.209.74.243'. Adding certificate verification is strongly advised. See: https://urllib3.readthedocs.io/en/latest/advanced-usage.html#tls-warnings\n",
            "  warnings.warn(\n",
            "/usr/local/lib/python3.10/dist-packages/urllib3/connectionpool.py:1100: InsecureRequestWarning: Unverified HTTPS request is being made to host '134.209.74.243'. Adding certificate verification is strongly advised. See: https://urllib3.readthedocs.io/en/latest/advanced-usage.html#tls-warnings\n",
            "  warnings.warn(\n",
            "/usr/local/lib/python3.10/dist-packages/urllib3/connectionpool.py:1100: InsecureRequestWarning: Unverified HTTPS request is being made to host '134.209.74.243'. Adding certificate verification is strongly advised. See: https://urllib3.readthedocs.io/en/latest/advanced-usage.html#tls-warnings\n",
            "  warnings.warn(\n"
          ]
        },
        {
          "output_type": "stream",
          "name": "stdout",
          "text": [
            "Indexed Armor_Stand\n",
            "Topic: Arrow\n",
            "Description: arrow ammunition bow dispenser skeleton may drop 0...\n",
            "Indexed Arrow\n",
            "Topic: Blaze\n",
            "Description: blaze mob yellow skin black eye find nether blazes...\n",
            "Indexed Blaze\n",
            "Topic: Bat\n",
            "Description: bat fly passive mob spawn cave bat spawn anywhere ...\n"
          ]
        },
        {
          "output_type": "stream",
          "name": "stderr",
          "text": [
            "/usr/local/lib/python3.10/dist-packages/urllib3/connectionpool.py:1100: InsecureRequestWarning: Unverified HTTPS request is being made to host '134.209.74.243'. Adding certificate verification is strongly advised. See: https://urllib3.readthedocs.io/en/latest/advanced-usage.html#tls-warnings\n",
            "  warnings.warn(\n",
            "/usr/local/lib/python3.10/dist-packages/urllib3/connectionpool.py:1100: InsecureRequestWarning: Unverified HTTPS request is being made to host '134.209.74.243'. Adding certificate verification is strongly advised. See: https://urllib3.readthedocs.io/en/latest/advanced-usage.html#tls-warnings\n",
            "  warnings.warn(\n",
            "/usr/local/lib/python3.10/dist-packages/urllib3/connectionpool.py:1100: InsecureRequestWarning: Unverified HTTPS request is being made to host '134.209.74.243'. Adding certificate verification is strongly advised. See: https://urllib3.readthedocs.io/en/latest/advanced-usage.html#tls-warnings\n",
            "  warnings.warn(\n"
          ]
        },
        {
          "output_type": "stream",
          "name": "stdout",
          "text": [
            "Indexed Bat\n",
            "Topic: Chicken_Jockey\n",
            "Description: chicken jockey fairly rare appearance baby zombie ...\n",
            "Indexed Chicken_Jockey\n",
            "Topic: Cave_Spider\n",
            "Description: cave spider neutral mob inflict poison cave spider...\n",
            "Indexed Cave_Spider\n",
            "Topic: Endermite\n",
            "Description: endermites smallest hostile mob minecraft use ende...\n"
          ]
        },
        {
          "output_type": "stream",
          "name": "stderr",
          "text": [
            "/usr/local/lib/python3.10/dist-packages/urllib3/connectionpool.py:1100: InsecureRequestWarning: Unverified HTTPS request is being made to host '134.209.74.243'. Adding certificate verification is strongly advised. See: https://urllib3.readthedocs.io/en/latest/advanced-usage.html#tls-warnings\n",
            "  warnings.warn(\n",
            "/usr/local/lib/python3.10/dist-packages/urllib3/connectionpool.py:1100: InsecureRequestWarning: Unverified HTTPS request is being made to host '134.209.74.243'. Adding certificate verification is strongly advised. See: https://urllib3.readthedocs.io/en/latest/advanced-usage.html#tls-warnings\n",
            "  warnings.warn(\n",
            "/usr/local/lib/python3.10/dist-packages/urllib3/connectionpool.py:1100: InsecureRequestWarning: Unverified HTTPS request is being made to host '134.209.74.243'. Adding certificate verification is strongly advised. See: https://urllib3.readthedocs.io/en/latest/advanced-usage.html#tls-warnings\n",
            "  warnings.warn(\n"
          ]
        },
        {
          "output_type": "stream",
          "name": "stdout",
          "text": [
            "Indexed Endermite\n",
            "Topic: Human\n",
            "Description: human mob take form clone default skin human use c...\n",
            "Indexed Human\n",
            "Topic: Item_Frame\n",
            "Description: item frame item display item block inside empty it...\n",
            "Indexed Item_Frame\n",
            "Topic: Guardian\n",
            "Description: guardian underwater hostile mob guardian spawn nat...\n"
          ]
        },
        {
          "output_type": "stream",
          "name": "stderr",
          "text": [
            "/usr/local/lib/python3.10/dist-packages/urllib3/connectionpool.py:1100: InsecureRequestWarning: Unverified HTTPS request is being made to host '134.209.74.243'. Adding certificate verification is strongly advised. See: https://urllib3.readthedocs.io/en/latest/advanced-usage.html#tls-warnings\n",
            "  warnings.warn(\n",
            "/usr/local/lib/python3.10/dist-packages/urllib3/connectionpool.py:1100: InsecureRequestWarning: Unverified HTTPS request is being made to host '134.209.74.243'. Adding certificate verification is strongly advised. See: https://urllib3.readthedocs.io/en/latest/advanced-usage.html#tls-warnings\n",
            "  warnings.warn(\n",
            "/usr/local/lib/python3.10/dist-packages/urllib3/connectionpool.py:1100: InsecureRequestWarning: Unverified HTTPS request is being made to host '134.209.74.243'. Adding certificate verification is strongly advised. See: https://urllib3.readthedocs.io/en/latest/advanced-usage.html#tls-warnings\n",
            "  warnings.warn(\n"
          ]
        },
        {
          "output_type": "stream",
          "name": "stdout",
          "text": [
            "Indexed Guardian\n",
            "Topic: Mooshroom\n",
            "Description: mooshrooms unique variation cow mooshrooms spawn m...\n",
            "Indexed Mooshroom\n",
            "Topic: Rabbit\n",
            "Description: rabbit bunny mostly harmless passive mob rabbit na...\n",
            "Indexed Rabbit\n",
            "Topic: Mobs\n",
            "Description: mob live move game entity term mob short mobile mo...\n"
          ]
        },
        {
          "output_type": "stream",
          "name": "stderr",
          "text": [
            "/usr/local/lib/python3.10/dist-packages/urllib3/connectionpool.py:1100: InsecureRequestWarning: Unverified HTTPS request is being made to host '134.209.74.243'. Adding certificate verification is strongly advised. See: https://urllib3.readthedocs.io/en/latest/advanced-usage.html#tls-warnings\n",
            "  warnings.warn(\n",
            "/usr/local/lib/python3.10/dist-packages/urllib3/connectionpool.py:1100: InsecureRequestWarning: Unverified HTTPS request is being made to host '134.209.74.243'. Adding certificate verification is strongly advised. See: https://urllib3.readthedocs.io/en/latest/advanced-usage.html#tls-warnings\n",
            "  warnings.warn(\n",
            "/usr/local/lib/python3.10/dist-packages/urllib3/connectionpool.py:1100: InsecureRequestWarning: Unverified HTTPS request is being made to host '134.209.74.243'. Adding certificate verification is strongly advised. See: https://urllib3.readthedocs.io/en/latest/advanced-usage.html#tls-warnings\n",
            "  warnings.warn(\n"
          ]
        },
        {
          "output_type": "stream",
          "name": "stdout",
          "text": [
            "Indexed Mobs\n",
            "Topic: Wither_Skeleton\n",
            "Description: wither skeleton dangerous hostile mob spawn nether...\n",
            "Indexed Wither_Skeleton\n",
            "Topic: Pig\n",
            "Description: pig rideable passive mob pig spawn grass block lig...\n",
            "Indexed Pig\n",
            "Topic: Experience_Orb\n",
            "Description: experience orb entity similar item entity orb fade...\n"
          ]
        },
        {
          "output_type": "stream",
          "name": "stderr",
          "text": [
            "/usr/local/lib/python3.10/dist-packages/urllib3/connectionpool.py:1100: InsecureRequestWarning: Unverified HTTPS request is being made to host '134.209.74.243'. Adding certificate verification is strongly advised. See: https://urllib3.readthedocs.io/en/latest/advanced-usage.html#tls-warnings\n",
            "  warnings.warn(\n",
            "/usr/local/lib/python3.10/dist-packages/urllib3/connectionpool.py:1100: InsecureRequestWarning: Unverified HTTPS request is being made to host '134.209.74.243'. Adding certificate verification is strongly advised. See: https://urllib3.readthedocs.io/en/latest/advanced-usage.html#tls-warnings\n",
            "  warnings.warn(\n",
            "/usr/local/lib/python3.10/dist-packages/urllib3/connectionpool.py:1100: InsecureRequestWarning: Unverified HTTPS request is being made to host '134.209.74.243'. Adding certificate verification is strongly advised. See: https://urllib3.readthedocs.io/en/latest/advanced-usage.html#tls-warnings\n",
            "  warnings.warn(\n"
          ]
        },
        {
          "output_type": "stream",
          "name": "stdout",
          "text": [
            "Indexed Experience_Orb\n",
            "Topic: Snow_Golem\n",
            "Description: snow golems utility mob create snow golem player m...\n",
            "Indexed Snow_Golem\n",
            "Topic: Magma_Cube\n",
            "Description: magma cube hostile mob dark red black skin red ora...\n",
            "Indexed Magma_Cube\n",
            "Topic: Ocelot\n",
            "Description: ocelot tameable passive mob ocelot drop 1 3 experi...\n"
          ]
        },
        {
          "output_type": "stream",
          "name": "stderr",
          "text": [
            "/usr/local/lib/python3.10/dist-packages/urllib3/connectionpool.py:1100: InsecureRequestWarning: Unverified HTTPS request is being made to host '134.209.74.243'. Adding certificate verification is strongly advised. See: https://urllib3.readthedocs.io/en/latest/advanced-usage.html#tls-warnings\n",
            "  warnings.warn(\n",
            "/usr/local/lib/python3.10/dist-packages/urllib3/connectionpool.py:1100: InsecureRequestWarning: Unverified HTTPS request is being made to host '134.209.74.243'. Adding certificate verification is strongly advised. See: https://urllib3.readthedocs.io/en/latest/advanced-usage.html#tls-warnings\n",
            "  warnings.warn(\n",
            "/usr/local/lib/python3.10/dist-packages/urllib3/connectionpool.py:1100: InsecureRequestWarning: Unverified HTTPS request is being made to host '134.209.74.243'. Adding certificate verification is strongly advised. See: https://urllib3.readthedocs.io/en/latest/advanced-usage.html#tls-warnings\n",
            "  warnings.warn(\n"
          ]
        },
        {
          "output_type": "stream",
          "name": "stdout",
          "text": [
            "Indexed Ocelot\n",
            "Topic: Minecart_with_TNT\n",
            "Description: minecart tnt block tnt inside minecart minecarts t...\n",
            "Indexed Minecart_with_TNT\n",
            "Topic: Iron_Golem\n",
            "Description: iron golems large strong utility mob defend villag...\n",
            "Indexed Iron_Golem\n",
            "Topic: Splash_Potion\n",
            "Description: splash potion variant potion throw splash potion b...\n"
          ]
        },
        {
          "output_type": "stream",
          "name": "stderr",
          "text": [
            "/usr/local/lib/python3.10/dist-packages/urllib3/connectionpool.py:1100: InsecureRequestWarning: Unverified HTTPS request is being made to host '134.209.74.243'. Adding certificate verification is strongly advised. See: https://urllib3.readthedocs.io/en/latest/advanced-usage.html#tls-warnings\n",
            "  warnings.warn(\n",
            "/usr/local/lib/python3.10/dist-packages/urllib3/connectionpool.py:1100: InsecureRequestWarning: Unverified HTTPS request is being made to host '134.209.74.243'. Adding certificate verification is strongly advised. See: https://urllib3.readthedocs.io/en/latest/advanced-usage.html#tls-warnings\n",
            "  warnings.warn(\n",
            "/usr/local/lib/python3.10/dist-packages/urllib3/connectionpool.py:1100: InsecureRequestWarning: Unverified HTTPS request is being made to host '134.209.74.243'. Adding certificate verification is strongly advised. See: https://urllib3.readthedocs.io/en/latest/advanced-usage.html#tls-warnings\n",
            "  warnings.warn(\n"
          ]
        },
        {
          "output_type": "stream",
          "name": "stdout",
          "text": [
            "Indexed Splash_Potion\n",
            "Topic: Villager\n",
            "Description: villager previously call testificate intelligent p...\n",
            "Indexed Villager\n",
            "Topic: Entity\n",
            "Description: entity encompass dynamic moving object throughout ...\n",
            "Indexed Entity\n",
            "Topic: Fire_Charge\n",
            "Description: fire charge item light fire use fire charge use am...\n"
          ]
        },
        {
          "output_type": "stream",
          "name": "stderr",
          "text": [
            "/usr/local/lib/python3.10/dist-packages/urllib3/connectionpool.py:1100: InsecureRequestWarning: Unverified HTTPS request is being made to host '134.209.74.243'. Adding certificate verification is strongly advised. See: https://urllib3.readthedocs.io/en/latest/advanced-usage.html#tls-warnings\n",
            "  warnings.warn(\n",
            "/usr/local/lib/python3.10/dist-packages/urllib3/connectionpool.py:1100: InsecureRequestWarning: Unverified HTTPS request is being made to host '134.209.74.243'. Adding certificate verification is strongly advised. See: https://urllib3.readthedocs.io/en/latest/advanced-usage.html#tls-warnings\n",
            "  warnings.warn(\n",
            "/usr/local/lib/python3.10/dist-packages/urllib3/connectionpool.py:1100: InsecureRequestWarning: Unverified HTTPS request is being made to host '134.209.74.243'. Adding certificate verification is strongly advised. See: https://urllib3.readthedocs.io/en/latest/advanced-usage.html#tls-warnings\n",
            "  warnings.warn(\n"
          ]
        },
        {
          "output_type": "stream",
          "name": "stdout",
          "text": [
            "Indexed Fire_Charge\n",
            "Topic: Wither\n",
            "Description: wither float three head bos mob withers create pla...\n",
            "Indexed Wither\n",
            "Topic: Firework_Rocket\n",
            "Description: firework rocket item entity use create decorative ...\n",
            "Indexed Firework_Rocket\n",
            "Topic: Thunderstorm\n",
            "Description: thunderstorm fairly uncommon weather condition tak...\n"
          ]
        },
        {
          "output_type": "stream",
          "name": "stderr",
          "text": [
            "/usr/local/lib/python3.10/dist-packages/urllib3/connectionpool.py:1100: InsecureRequestWarning: Unverified HTTPS request is being made to host '134.209.74.243'. Adding certificate verification is strongly advised. See: https://urllib3.readthedocs.io/en/latest/advanced-usage.html#tls-warnings\n",
            "  warnings.warn(\n",
            "/usr/local/lib/python3.10/dist-packages/urllib3/connectionpool.py:1100: InsecureRequestWarning: Unverified HTTPS request is being made to host '134.209.74.243'. Adding certificate verification is strongly advised. See: https://urllib3.readthedocs.io/en/latest/advanced-usage.html#tls-warnings\n",
            "  warnings.warn(\n",
            "/usr/local/lib/python3.10/dist-packages/urllib3/connectionpool.py:1100: InsecureRequestWarning: Unverified HTTPS request is being made to host '134.209.74.243'. Adding certificate verification is strongly advised. See: https://urllib3.readthedocs.io/en/latest/advanced-usage.html#tls-warnings\n",
            "  warnings.warn(\n"
          ]
        },
        {
          "output_type": "stream",
          "name": "stdout",
          "text": [
            "Indexed Thunderstorm\n",
            "Topic: Enderman\n",
            "Description: endermen black neutral mob end ability teleport en...\n",
            "Indexed Enderman\n",
            "Topic: Wolf\n",
            "Description: wolf neutral mob ally player wolf spawn naturally ...\n",
            "Indexed Wolf\n",
            "Topic: Minecart\n",
            "Description: minecarts vehicle entity minecarts retrieve attack...\n"
          ]
        },
        {
          "output_type": "stream",
          "name": "stderr",
          "text": [
            "/usr/local/lib/python3.10/dist-packages/urllib3/connectionpool.py:1100: InsecureRequestWarning: Unverified HTTPS request is being made to host '134.209.74.243'. Adding certificate verification is strongly advised. See: https://urllib3.readthedocs.io/en/latest/advanced-usage.html#tls-warnings\n",
            "  warnings.warn(\n",
            "/usr/local/lib/python3.10/dist-packages/urllib3/connectionpool.py:1100: InsecureRequestWarning: Unverified HTTPS request is being made to host '134.209.74.243'. Adding certificate verification is strongly advised. See: https://urllib3.readthedocs.io/en/latest/advanced-usage.html#tls-warnings\n",
            "  warnings.warn(\n",
            "/usr/local/lib/python3.10/dist-packages/urllib3/connectionpool.py:1100: InsecureRequestWarning: Unverified HTTPS request is being made to host '134.209.74.243'. Adding certificate verification is strongly advised. See: https://urllib3.readthedocs.io/en/latest/advanced-usage.html#tls-warnings\n",
            "  warnings.warn(\n"
          ]
        },
        {
          "output_type": "stream",
          "name": "stdout",
          "text": [
            "Indexed Minecart\n",
            "Topic: Ender_Dragon\n",
            "Description: ender dragon bos mob appear end ender dragon spawn...\n",
            "Indexed Ender_Dragon\n",
            "Topic: Minecart_with_Chest\n",
            "Description: minecarts chest also call chest minecarts storage ...\n",
            "Indexed Minecart_with_Chest\n",
            "Topic: Spider\n",
            "Description: spider common neutral mob unique ability climb wal...\n"
          ]
        },
        {
          "output_type": "stream",
          "name": "stderr",
          "text": [
            "/usr/local/lib/python3.10/dist-packages/urllib3/connectionpool.py:1100: InsecureRequestWarning: Unverified HTTPS request is being made to host '134.209.74.243'. Adding certificate verification is strongly advised. See: https://urllib3.readthedocs.io/en/latest/advanced-usage.html#tls-warnings\n",
            "  warnings.warn(\n",
            "/usr/local/lib/python3.10/dist-packages/urllib3/connectionpool.py:1100: InsecureRequestWarning: Unverified HTTPS request is being made to host '134.209.74.243'. Adding certificate verification is strongly advised. See: https://urllib3.readthedocs.io/en/latest/advanced-usage.html#tls-warnings\n",
            "  warnings.warn(\n",
            "/usr/local/lib/python3.10/dist-packages/urllib3/connectionpool.py:1100: InsecureRequestWarning: Unverified HTTPS request is being made to host '134.209.74.243'. Adding certificate verification is strongly advised. See: https://urllib3.readthedocs.io/en/latest/advanced-usage.html#tls-warnings\n",
            "  warnings.warn(\n"
          ]
        },
        {
          "output_type": "stream",
          "name": "stdout",
          "text": [
            "Indexed Spider\n",
            "Topic: Egg\n",
            "Description: egg item use craft food item use throwable entity ...\n",
            "Indexed Egg\n",
            "Topic: Zombie_Pigman\n",
            "Description: zombie pigman neutral mob live nether zombie pigma...\n",
            "Indexed Zombie_Pigman\n",
            "Topic: The_Player\n",
            "Description: player character user control minecraft generally ...\n"
          ]
        },
        {
          "output_type": "stream",
          "name": "stderr",
          "text": [
            "/usr/local/lib/python3.10/dist-packages/urllib3/connectionpool.py:1100: InsecureRequestWarning: Unverified HTTPS request is being made to host '134.209.74.243'. Adding certificate verification is strongly advised. See: https://urllib3.readthedocs.io/en/latest/advanced-usage.html#tls-warnings\n",
            "  warnings.warn(\n",
            "/usr/local/lib/python3.10/dist-packages/urllib3/connectionpool.py:1100: InsecureRequestWarning: Unverified HTTPS request is being made to host '134.209.74.243'. Adding certificate verification is strongly advised. See: https://urllib3.readthedocs.io/en/latest/advanced-usage.html#tls-warnings\n",
            "  warnings.warn(\n",
            "/usr/local/lib/python3.10/dist-packages/urllib3/connectionpool.py:1100: InsecureRequestWarning: Unverified HTTPS request is being made to host '134.209.74.243'. Adding certificate verification is strongly advised. See: https://urllib3.readthedocs.io/en/latest/advanced-usage.html#tls-warnings\n",
            "  warnings.warn(\n"
          ]
        },
        {
          "output_type": "stream",
          "name": "stdout",
          "text": [
            "Indexed The_Player\n",
            "Topic: Minecart_with_Command_Block\n",
            "Description: minecart command block command block inside mineca...\n",
            "Indexed Minecart_with_Command_Block\n",
            "Topic: Fishing_Rod\n",
            "Description: fish rod tool mainly use obtain fish fishing rod c...\n",
            "Indexed Fishing_Rod\n",
            "Topic: Slime\n",
            "Description: slime hostile mob spawn underground swamp biome sl...\n"
          ]
        },
        {
          "output_type": "stream",
          "name": "stderr",
          "text": [
            "/usr/local/lib/python3.10/dist-packages/urllib3/connectionpool.py:1100: InsecureRequestWarning: Unverified HTTPS request is being made to host '134.209.74.243'. Adding certificate verification is strongly advised. See: https://urllib3.readthedocs.io/en/latest/advanced-usage.html#tls-warnings\n",
            "  warnings.warn(\n",
            "/usr/local/lib/python3.10/dist-packages/urllib3/connectionpool.py:1100: InsecureRequestWarning: Unverified HTTPS request is being made to host '134.209.74.243'. Adding certificate verification is strongly advised. See: https://urllib3.readthedocs.io/en/latest/advanced-usage.html#tls-warnings\n",
            "  warnings.warn(\n",
            "/usr/local/lib/python3.10/dist-packages/urllib3/connectionpool.py:1100: InsecureRequestWarning: Unverified HTTPS request is being made to host '134.209.74.243'. Adding certificate verification is strongly advised. See: https://urllib3.readthedocs.io/en/latest/advanced-usage.html#tls-warnings\n",
            "  warnings.warn(\n"
          ]
        },
        {
          "output_type": "stream",
          "name": "stdout",
          "text": [
            "Indexed Slime\n",
            "Topic: Ender_Crystal\n",
            "Description: ender crystal entity find end ender crystal find a...\n",
            "Indexed Ender_Crystal\n",
            "Topic: Skeleton\n",
            "Description: skeleton undead range hostile mob equip bow skelet...\n",
            "Indexed Skeleton\n",
            "Topic: Eye_of_Ender\n",
            "Description: eye ender ender eye craftable item use locate acti...\n"
          ]
        },
        {
          "output_type": "stream",
          "name": "stderr",
          "text": [
            "/usr/local/lib/python3.10/dist-packages/urllib3/connectionpool.py:1100: InsecureRequestWarning: Unverified HTTPS request is being made to host '134.209.74.243'. Adding certificate verification is strongly advised. See: https://urllib3.readthedocs.io/en/latest/advanced-usage.html#tls-warnings\n",
            "  warnings.warn(\n",
            "/usr/local/lib/python3.10/dist-packages/urllib3/connectionpool.py:1100: InsecureRequestWarning: Unverified HTTPS request is being made to host '134.209.74.243'. Adding certificate verification is strongly advised. See: https://urllib3.readthedocs.io/en/latest/advanced-usage.html#tls-warnings\n",
            "  warnings.warn(\n",
            "/usr/local/lib/python3.10/dist-packages/urllib3/connectionpool.py:1100: InsecureRequestWarning: Unverified HTTPS request is being made to host '134.209.74.243'. Adding certificate verification is strongly advised. See: https://urllib3.readthedocs.io/en/latest/advanced-usage.html#tls-warnings\n",
            "  warnings.warn(\n"
          ]
        },
        {
          "output_type": "stream",
          "name": "stdout",
          "text": [
            "Indexed Eye_of_Ender\n",
            "Topic: Zombie\n",
            "Description: zombie common undead hostile mob overworld zombie ...\n",
            "Indexed Zombie\n",
            "Topic: Witch\n",
            "Description: witch hostile mob use splash potion range weapon a...\n",
            "Indexed Witch\n",
            "Topic: Silverfish\n",
            "Description: silverfish small bug like hostile mob silverfish d...\n"
          ]
        },
        {
          "output_type": "stream",
          "name": "stderr",
          "text": [
            "/usr/local/lib/python3.10/dist-packages/urllib3/connectionpool.py:1100: InsecureRequestWarning: Unverified HTTPS request is being made to host '134.209.74.243'. Adding certificate verification is strongly advised. See: https://urllib3.readthedocs.io/en/latest/advanced-usage.html#tls-warnings\n",
            "  warnings.warn(\n",
            "/usr/local/lib/python3.10/dist-packages/urllib3/connectionpool.py:1100: InsecureRequestWarning: Unverified HTTPS request is being made to host '134.209.74.243'. Adding certificate verification is strongly advised. See: https://urllib3.readthedocs.io/en/latest/advanced-usage.html#tls-warnings\n",
            "  warnings.warn(\n",
            "/usr/local/lib/python3.10/dist-packages/urllib3/connectionpool.py:1100: InsecureRequestWarning: Unverified HTTPS request is being made to host '134.209.74.243'. Adding certificate verification is strongly advised. See: https://urllib3.readthedocs.io/en/latest/advanced-usage.html#tls-warnings\n",
            "  warnings.warn(\n"
          ]
        },
        {
          "output_type": "stream",
          "name": "stdout",
          "text": [
            "Indexed Silverfish\n",
            "Topic: Elder_Guardian\n",
            "Description: elder guardian hostile mob spawn underwater ocean ...\n",
            "Indexed Elder_Guardian\n",
            "Topic: Ghast\n",
            "Description: ghasts huge float nether mobs shoot explosive fire...\n",
            "Indexed Ghast\n",
            "Topic: Horse\n",
            "Description: horse tamable mob three game variant horse donkey ...\n"
          ]
        },
        {
          "output_type": "stream",
          "name": "stderr",
          "text": [
            "/usr/local/lib/python3.10/dist-packages/urllib3/connectionpool.py:1100: InsecureRequestWarning: Unverified HTTPS request is being made to host '134.209.74.243'. Adding certificate verification is strongly advised. See: https://urllib3.readthedocs.io/en/latest/advanced-usage.html#tls-warnings\n",
            "  warnings.warn(\n",
            "/usr/local/lib/python3.10/dist-packages/urllib3/connectionpool.py:1100: InsecureRequestWarning: Unverified HTTPS request is being made to host '134.209.74.243'. Adding certificate verification is strongly advised. See: https://urllib3.readthedocs.io/en/latest/advanced-usage.html#tls-warnings\n",
            "  warnings.warn(\n",
            "/usr/local/lib/python3.10/dist-packages/urllib3/connectionpool.py:1100: InsecureRequestWarning: Unverified HTTPS request is being made to host '134.209.74.243'. Adding certificate verification is strongly advised. See: https://urllib3.readthedocs.io/en/latest/advanced-usage.html#tls-warnings\n",
            "  warnings.warn(\n"
          ]
        },
        {
          "output_type": "stream",
          "name": "stdout",
          "text": [
            "Indexed Horse\n",
            "Topic: Snowball\n",
            "Description: snowball throwable item snowball obtain break snow...\n",
            "Indexed Snowball\n",
            "Topic: Ender_Pearl\n",
            "Description: ender pearl item use teleport endermen may drop 0 ...\n",
            "Indexed Ender_Pearl\n",
            "Topic: Painting\n",
            "Description: painting simple low resolution version canvas pain...\n"
          ]
        },
        {
          "output_type": "stream",
          "name": "stderr",
          "text": [
            "/usr/local/lib/python3.10/dist-packages/urllib3/connectionpool.py:1100: InsecureRequestWarning: Unverified HTTPS request is being made to host '134.209.74.243'. Adding certificate verification is strongly advised. See: https://urllib3.readthedocs.io/en/latest/advanced-usage.html#tls-warnings\n",
            "  warnings.warn(\n",
            "/usr/local/lib/python3.10/dist-packages/urllib3/connectionpool.py:1100: InsecureRequestWarning: Unverified HTTPS request is being made to host '134.209.74.243'. Adding certificate verification is strongly advised. See: https://urllib3.readthedocs.io/en/latest/advanced-usage.html#tls-warnings\n",
            "  warnings.warn(\n",
            "/usr/local/lib/python3.10/dist-packages/urllib3/connectionpool.py:1100: InsecureRequestWarning: Unverified HTTPS request is being made to host '134.209.74.243'. Adding certificate verification is strongly advised. See: https://urllib3.readthedocs.io/en/latest/advanced-usage.html#tls-warnings\n",
            "  warnings.warn(\n"
          ]
        },
        {
          "output_type": "stream",
          "name": "stdout",
          "text": [
            "Indexed Painting\n",
            "Topic: Giant\n",
            "Description: giant size mobs look like zombie currently purpose...\n",
            "Indexed Giant\n",
            "Topic: Sheep\n",
            "Description: sheep passive mob supply wool majority sheep white...\n",
            "Indexed Sheep\n",
            "Topic: Minecart_with_Furnace\n",
            "Description: minecarts furnace also call furnace minecarts powe...\n"
          ]
        },
        {
          "output_type": "stream",
          "name": "stderr",
          "text": [
            "/usr/local/lib/python3.10/dist-packages/urllib3/connectionpool.py:1100: InsecureRequestWarning: Unverified HTTPS request is being made to host '134.209.74.243'. Adding certificate verification is strongly advised. See: https://urllib3.readthedocs.io/en/latest/advanced-usage.html#tls-warnings\n",
            "  warnings.warn(\n",
            "/usr/local/lib/python3.10/dist-packages/urllib3/connectionpool.py:1100: InsecureRequestWarning: Unverified HTTPS request is being made to host '134.209.74.243'. Adding certificate verification is strongly advised. See: https://urllib3.readthedocs.io/en/latest/advanced-usage.html#tls-warnings\n",
            "  warnings.warn(\n",
            "/usr/local/lib/python3.10/dist-packages/urllib3/connectionpool.py:1100: InsecureRequestWarning: Unverified HTTPS request is being made to host '134.209.74.243'. Adding certificate verification is strongly advised. See: https://urllib3.readthedocs.io/en/latest/advanced-usage.html#tls-warnings\n",
            "  warnings.warn(\n"
          ]
        },
        {
          "output_type": "stream",
          "name": "stdout",
          "text": [
            "Indexed Minecart_with_Furnace\n",
            "Topic: Item_(entity)\n",
            "Description: item drop block item non block resource appear wor...\n",
            "Indexed Item_(entity)\n",
            "Topic: Spider_Jockey\n",
            "Description: spider jockey rare appearance spider ridden skelet...\n",
            "Indexed Spider_Jockey\n",
            "Topic: Particles\n",
            "Description: particle graphical effect minecraft particle alway...\n"
          ]
        },
        {
          "output_type": "stream",
          "name": "stderr",
          "text": [
            "/usr/local/lib/python3.10/dist-packages/urllib3/connectionpool.py:1100: InsecureRequestWarning: Unverified HTTPS request is being made to host '134.209.74.243'. Adding certificate verification is strongly advised. See: https://urllib3.readthedocs.io/en/latest/advanced-usage.html#tls-warnings\n",
            "  warnings.warn(\n",
            "/usr/local/lib/python3.10/dist-packages/urllib3/connectionpool.py:1100: InsecureRequestWarning: Unverified HTTPS request is being made to host '134.209.74.243'. Adding certificate verification is strongly advised. See: https://urllib3.readthedocs.io/en/latest/advanced-usage.html#tls-warnings\n",
            "  warnings.warn(\n",
            "/usr/local/lib/python3.10/dist-packages/urllib3/connectionpool.py:1100: InsecureRequestWarning: Unverified HTTPS request is being made to host '134.209.74.243'. Adding certificate verification is strongly advised. See: https://urllib3.readthedocs.io/en/latest/advanced-usage.html#tls-warnings\n",
            "  warnings.warn(\n"
          ]
        },
        {
          "output_type": "stream",
          "name": "stdout",
          "text": [
            "Indexed Particles\n",
            "Topic: Minecart_with_Hopper\n",
            "Description: minecart hopper hopper inside minecart minecarts h...\n",
            "Indexed Minecart_with_Hopper\n",
            "Topic: Squid\n",
            "Description: squid 8 arm mob spawn water squid spawn water laye...\n",
            "Indexed Squid\n",
            "Topic: Minecart_with_Spawner\n",
            "Description: minecart spawner combination minecart monster spaw...\n"
          ]
        },
        {
          "output_type": "stream",
          "name": "stderr",
          "text": [
            "/usr/local/lib/python3.10/dist-packages/urllib3/connectionpool.py:1100: InsecureRequestWarning: Unverified HTTPS request is being made to host '134.209.74.243'. Adding certificate verification is strongly advised. See: https://urllib3.readthedocs.io/en/latest/advanced-usage.html#tls-warnings\n",
            "  warnings.warn(\n",
            "/usr/local/lib/python3.10/dist-packages/urllib3/connectionpool.py:1100: InsecureRequestWarning: Unverified HTTPS request is being made to host '134.209.74.243'. Adding certificate verification is strongly advised. See: https://urllib3.readthedocs.io/en/latest/advanced-usage.html#tls-warnings\n",
            "  warnings.warn(\n",
            "/usr/local/lib/python3.10/dist-packages/urllib3/connectionpool.py:1100: InsecureRequestWarning: Unverified HTTPS request is being made to host '134.209.74.243'. Adding certificate verification is strongly advised. See: https://urllib3.readthedocs.io/en/latest/advanced-usage.html#tls-warnings\n",
            "  warnings.warn(\n"
          ]
        },
        {
          "output_type": "stream",
          "name": "stdout",
          "text": [
            "Indexed Minecart_with_Spawner\n",
            "Topic: Axe\n",
            "Description: ax tool use ease process collect wood base item bo...\n",
            "Indexed Axe\n",
            "Topic: Armor\n",
            "Description: armor category item provide player certain mob var...\n",
            "Indexed Armor\n",
            "Topic: Baked_Potato\n",
            "Description: bake potato food item eat player bake potato obtai...\n"
          ]
        },
        {
          "output_type": "stream",
          "name": "stderr",
          "text": [
            "/usr/local/lib/python3.10/dist-packages/urllib3/connectionpool.py:1100: InsecureRequestWarning: Unverified HTTPS request is being made to host '134.209.74.243'. Adding certificate verification is strongly advised. See: https://urllib3.readthedocs.io/en/latest/advanced-usage.html#tls-warnings\n",
            "  warnings.warn(\n",
            "/usr/local/lib/python3.10/dist-packages/urllib3/connectionpool.py:1100: InsecureRequestWarning: Unverified HTTPS request is being made to host '134.209.74.243'. Adding certificate verification is strongly advised. See: https://urllib3.readthedocs.io/en/latest/advanced-usage.html#tls-warnings\n",
            "  warnings.warn(\n",
            "/usr/local/lib/python3.10/dist-packages/urllib3/connectionpool.py:1100: InsecureRequestWarning: Unverified HTTPS request is being made to host '134.209.74.243'. Adding certificate verification is strongly advised. See: https://urllib3.readthedocs.io/en/latest/advanced-usage.html#tls-warnings\n",
            "  warnings.warn(\n"
          ]
        },
        {
          "output_type": "stream",
          "name": "stdout",
          "text": [
            "Indexed Baked_Potato\n",
            "Topic: Apple\n",
            "Description: apple food item eat player oak dark oak leave 0 5 ...\n",
            "Indexed Apple\n",
            "Topic: Cookie\n",
            "Description: cooky food easily obtainable restore lot hunger sa...\n",
            "Indexed Cookie\n",
            "Topic: Gold_Ingot\n",
            "Description: gold ingot metal use craft second tier armor first...\n"
          ]
        },
        {
          "output_type": "stream",
          "name": "stderr",
          "text": [
            "/usr/local/lib/python3.10/dist-packages/urllib3/connectionpool.py:1100: InsecureRequestWarning: Unverified HTTPS request is being made to host '134.209.74.243'. Adding certificate verification is strongly advised. See: https://urllib3.readthedocs.io/en/latest/advanced-usage.html#tls-warnings\n",
            "  warnings.warn(\n",
            "/usr/local/lib/python3.10/dist-packages/urllib3/connectionpool.py:1100: InsecureRequestWarning: Unverified HTTPS request is being made to host '134.209.74.243'. Adding certificate verification is strongly advised. See: https://urllib3.readthedocs.io/en/latest/advanced-usage.html#tls-warnings\n",
            "  warnings.warn(\n",
            "/usr/local/lib/python3.10/dist-packages/urllib3/connectionpool.py:1100: InsecureRequestWarning: Unverified HTTPS request is being made to host '134.209.74.243'. Adding certificate verification is strongly advised. See: https://urllib3.readthedocs.io/en/latest/advanced-usage.html#tls-warnings\n",
            "  warnings.warn(\n"
          ]
        },
        {
          "output_type": "stream",
          "name": "stdout",
          "text": [
            "Indexed Gold_Ingot\n",
            "Topic: Cooked_Porkchop\n",
            "Description: cook porkchop food item eat player cook porkchop o...\n",
            "Indexed Cooked_Porkchop\n",
            "Topic: Dandelion_Yellow\n",
            "Description: dandelion yellow primary dye color create place da...\n",
            "Indexed Dandelion_Yellow\n",
            "Topic: Gunpowder\n",
            "Description: gunpowder formerly know sulphur item use explosive...\n"
          ]
        },
        {
          "output_type": "stream",
          "name": "stderr",
          "text": [
            "/usr/local/lib/python3.10/dist-packages/urllib3/connectionpool.py:1100: InsecureRequestWarning: Unverified HTTPS request is being made to host '134.209.74.243'. Adding certificate verification is strongly advised. See: https://urllib3.readthedocs.io/en/latest/advanced-usage.html#tls-warnings\n",
            "  warnings.warn(\n",
            "/usr/local/lib/python3.10/dist-packages/urllib3/connectionpool.py:1100: InsecureRequestWarning: Unverified HTTPS request is being made to host '134.209.74.243'. Adding certificate verification is strongly advised. See: https://urllib3.readthedocs.io/en/latest/advanced-usage.html#tls-warnings\n",
            "  warnings.warn(\n",
            "/usr/local/lib/python3.10/dist-packages/urllib3/connectionpool.py:1100: InsecureRequestWarning: Unverified HTTPS request is being made to host '134.209.74.243'. Adding certificate verification is strongly advised. See: https://urllib3.readthedocs.io/en/latest/advanced-usage.html#tls-warnings\n",
            "  warnings.warn(\n"
          ]
        },
        {
          "output_type": "stream",
          "name": "stdout",
          "text": [
            "Indexed Gunpowder\n",
            "Topic: Firework_Star\n",
            "Description: firework star item use determine color effect shap...\n",
            "Indexed Firework_Star\n",
            "Topic: Cooked_Mutton\n",
            "Description: cook mutton food item make cook raw mutton furnace...\n",
            "Indexed Cooked_Mutton\n",
            "Topic: Clay\n",
            "Description: clay item obtain clay block use craft make brick c...\n"
          ]
        },
        {
          "output_type": "stream",
          "name": "stderr",
          "text": [
            "/usr/local/lib/python3.10/dist-packages/urllib3/connectionpool.py:1100: InsecureRequestWarning: Unverified HTTPS request is being made to host '134.209.74.243'. Adding certificate verification is strongly advised. See: https://urllib3.readthedocs.io/en/latest/advanced-usage.html#tls-warnings\n",
            "  warnings.warn(\n",
            "/usr/local/lib/python3.10/dist-packages/urllib3/connectionpool.py:1100: InsecureRequestWarning: Unverified HTTPS request is being made to host '134.209.74.243'. Adding certificate verification is strongly advised. See: https://urllib3.readthedocs.io/en/latest/advanced-usage.html#tls-warnings\n",
            "  warnings.warn(\n",
            "/usr/local/lib/python3.10/dist-packages/urllib3/connectionpool.py:1100: InsecureRequestWarning: Unverified HTTPS request is being made to host '134.209.74.243'. Adding certificate verification is strongly advised. See: https://urllib3.readthedocs.io/en/latest/advanced-usage.html#tls-warnings\n",
            "  warnings.warn(\n"
          ]
        },
        {
          "output_type": "stream",
          "name": "stdout",
          "text": [
            "Indexed Clay\n",
            "Topic: Gold_Nugget\n",
            "Description: gold nugget item obtain kill zombie pigman zombie ...\n",
            "Indexed Gold_Nugget\n",
            "Topic: Bucket\n",
            "Description: bucket tool use carry water lava milk bucket appro...\n",
            "Indexed Bucket\n",
            "Topic: Enchanted_Book\n",
            "Description: enchant book item allow player add enchantment cer...\n"
          ]
        },
        {
          "output_type": "stream",
          "name": "stderr",
          "text": [
            "/usr/local/lib/python3.10/dist-packages/urllib3/connectionpool.py:1100: InsecureRequestWarning: Unverified HTTPS request is being made to host '134.209.74.243'. Adding certificate verification is strongly advised. See: https://urllib3.readthedocs.io/en/latest/advanced-usage.html#tls-warnings\n",
            "  warnings.warn(\n",
            "/usr/local/lib/python3.10/dist-packages/urllib3/connectionpool.py:1100: InsecureRequestWarning: Unverified HTTPS request is being made to host '134.209.74.243'. Adding certificate verification is strongly advised. See: https://urllib3.readthedocs.io/en/latest/advanced-usage.html#tls-warnings\n",
            "  warnings.warn(\n",
            "/usr/local/lib/python3.10/dist-packages/urllib3/connectionpool.py:1100: InsecureRequestWarning: Unverified HTTPS request is being made to host '134.209.74.243'. Adding certificate verification is strongly advised. See: https://urllib3.readthedocs.io/en/latest/advanced-usage.html#tls-warnings\n",
            "  warnings.warn(\n"
          ]
        },
        {
          "output_type": "stream",
          "name": "stdout",
          "text": [
            "Indexed Enchanted_Book\n",
            "Topic: Golden_Carrot\n",
            "Description: golden carrot valuable food item brewing ingredien...\n",
            "Indexed Golden_Carrot\n",
            "Topic: Brick\n",
            "Description: brick item use craft brick block flower pot...\n",
            "Indexed Brick\n",
            "Topic: Beetroot\n",
            "Description: pocket edition beetroot crop exclusive pocket edit...\n"
          ]
        },
        {
          "output_type": "stream",
          "name": "stderr",
          "text": [
            "/usr/local/lib/python3.10/dist-packages/urllib3/connectionpool.py:1100: InsecureRequestWarning: Unverified HTTPS request is being made to host '134.209.74.243'. Adding certificate verification is strongly advised. See: https://urllib3.readthedocs.io/en/latest/advanced-usage.html#tls-warnings\n",
            "  warnings.warn(\n",
            "/usr/local/lib/python3.10/dist-packages/urllib3/connectionpool.py:1100: InsecureRequestWarning: Unverified HTTPS request is being made to host '134.209.74.243'. Adding certificate verification is strongly advised. See: https://urllib3.readthedocs.io/en/latest/advanced-usage.html#tls-warnings\n",
            "  warnings.warn(\n",
            "/usr/local/lib/python3.10/dist-packages/urllib3/connectionpool.py:1100: InsecureRequestWarning: Unverified HTTPS request is being made to host '134.209.74.243'. Adding certificate verification is strongly advised. See: https://urllib3.readthedocs.io/en/latest/advanced-usage.html#tls-warnings\n",
            "  warnings.warn(\n"
          ]
        },
        {
          "output_type": "stream",
          "name": "stdout",
          "text": [
            "Indexed Beetroot\n",
            "Topic: Flint_and_Steel\n",
            "Description: flint steel tool use light fire chests nether fort...\n",
            "Indexed Flint_and_Steel\n",
            "Topic: Cooked_Chicken\n",
            "Description: cook chicken food item eat player chicken die fire...\n",
            "Indexed Cooked_Chicken\n",
            "Topic: Chestplate\n",
            "Description: chestplates type armor cover upper body player fiv...\n"
          ]
        },
        {
          "output_type": "stream",
          "name": "stderr",
          "text": [
            "/usr/local/lib/python3.10/dist-packages/urllib3/connectionpool.py:1100: InsecureRequestWarning: Unverified HTTPS request is being made to host '134.209.74.243'. Adding certificate verification is strongly advised. See: https://urllib3.readthedocs.io/en/latest/advanced-usage.html#tls-warnings\n",
            "  warnings.warn(\n",
            "/usr/local/lib/python3.10/dist-packages/urllib3/connectionpool.py:1100: InsecureRequestWarning: Unverified HTTPS request is being made to host '134.209.74.243'. Adding certificate verification is strongly advised. See: https://urllib3.readthedocs.io/en/latest/advanced-usage.html#tls-warnings\n",
            "  warnings.warn(\n",
            "/usr/local/lib/python3.10/dist-packages/urllib3/connectionpool.py:1100: InsecureRequestWarning: Unverified HTTPS request is being made to host '134.209.74.243'. Adding certificate verification is strongly advised. See: https://urllib3.readthedocs.io/en/latest/advanced-usage.html#tls-warnings\n",
            "  warnings.warn(\n"
          ]
        },
        {
          "output_type": "stream",
          "name": "stdout",
          "text": [
            "Indexed Chestplate\n",
            "Topic: Bow\n",
            "Description: bow range weapon fire arrows skeleton 8 5 chance d...\n",
            "Indexed Bow\n",
            "Topic: Cocoa_Beans\n",
            "Description: cocoa bean primary color dye food ingredient cocoa...\n",
            "Indexed Cocoa_Beans\n",
            "Topic: Cyan_Dye\n",
            "Description: cyan dye secondary dye color like dye cyan dye app...\n"
          ]
        },
        {
          "output_type": "stream",
          "name": "stderr",
          "text": [
            "/usr/local/lib/python3.10/dist-packages/urllib3/connectionpool.py:1100: InsecureRequestWarning: Unverified HTTPS request is being made to host '134.209.74.243'. Adding certificate verification is strongly advised. See: https://urllib3.readthedocs.io/en/latest/advanced-usage.html#tls-warnings\n",
            "  warnings.warn(\n",
            "/usr/local/lib/python3.10/dist-packages/urllib3/connectionpool.py:1100: InsecureRequestWarning: Unverified HTTPS request is being made to host '134.209.74.243'. Adding certificate verification is strongly advised. See: https://urllib3.readthedocs.io/en/latest/advanced-usage.html#tls-warnings\n",
            "  warnings.warn(\n",
            "/usr/local/lib/python3.10/dist-packages/urllib3/connectionpool.py:1100: InsecureRequestWarning: Unverified HTTPS request is being made to host '134.209.74.243'. Adding certificate verification is strongly advised. See: https://urllib3.readthedocs.io/en/latest/advanced-usage.html#tls-warnings\n",
            "  warnings.warn(\n"
          ]
        },
        {
          "output_type": "stream",
          "name": "stdout",
          "text": [
            "Indexed Cyan_Dye\n",
            "Topic: Blaze_Powder\n",
            "Description: blaze powder item make blaze rod obtain blaze neth...\n",
            "Indexed Blaze_Powder\n",
            "Topic: Carrot_on_a_Stick\n",
            "Description: carrot stick item use control saddle pig carrot mu...\n",
            "Indexed Carrot_on_a_Stick\n",
            "Topic: Fermented_Spider_Eye\n",
            "Description: ferment spider eye item use brew potion ferment sp...\n"
          ]
        },
        {
          "output_type": "stream",
          "name": "stderr",
          "text": [
            "/usr/local/lib/python3.10/dist-packages/urllib3/connectionpool.py:1100: InsecureRequestWarning: Unverified HTTPS request is being made to host '134.209.74.243'. Adding certificate verification is strongly advised. See: https://urllib3.readthedocs.io/en/latest/advanced-usage.html#tls-warnings\n",
            "  warnings.warn(\n",
            "/usr/local/lib/python3.10/dist-packages/urllib3/connectionpool.py:1100: InsecureRequestWarning: Unverified HTTPS request is being made to host '134.209.74.243'. Adding certificate verification is strongly advised. See: https://urllib3.readthedocs.io/en/latest/advanced-usage.html#tls-warnings\n",
            "  warnings.warn(\n",
            "/usr/local/lib/python3.10/dist-packages/urllib3/connectionpool.py:1100: InsecureRequestWarning: Unverified HTTPS request is being made to host '134.209.74.243'. Adding certificate verification is strongly advised. See: https://urllib3.readthedocs.io/en/latest/advanced-usage.html#tls-warnings\n",
            "  warnings.warn(\n"
          ]
        },
        {
          "output_type": "stream",
          "name": "stdout",
          "text": [
            "Indexed Fermented_Spider_Eye\n",
            "Topic: Cactus_Green\n",
            "Description: cactus green primary color dye like dye cactus gre...\n",
            "Indexed Cactus_Green\n",
            "Topic: Cooked_Fish\n",
            "Description: cook fish food obtain cook raw fish cook fish obta...\n",
            "Indexed Cooked_Fish\n",
            "Topic: Feather\n",
            "Description: feather item drop chicken chicken may drop 0 2 fea...\n"
          ]
        },
        {
          "output_type": "stream",
          "name": "stderr",
          "text": [
            "/usr/local/lib/python3.10/dist-packages/urllib3/connectionpool.py:1100: InsecureRequestWarning: Unverified HTTPS request is being made to host '134.209.74.243'. Adding certificate verification is strongly advised. See: https://urllib3.readthedocs.io/en/latest/advanced-usage.html#tls-warnings\n",
            "  warnings.warn(\n",
            "/usr/local/lib/python3.10/dist-packages/urllib3/connectionpool.py:1100: InsecureRequestWarning: Unverified HTTPS request is being made to host '134.209.74.243'. Adding certificate verification is strongly advised. See: https://urllib3.readthedocs.io/en/latest/advanced-usage.html#tls-warnings\n",
            "  warnings.warn(\n",
            "/usr/local/lib/python3.10/dist-packages/urllib3/connectionpool.py:1100: InsecureRequestWarning: Unverified HTTPS request is being made to host '134.209.74.243'. Adding certificate verification is strongly advised. See: https://urllib3.readthedocs.io/en/latest/advanced-usage.html#tls-warnings\n",
            "  warnings.warn(\n"
          ]
        },
        {
          "output_type": "stream",
          "name": "stdout",
          "text": [
            "Indexed Feather\n",
            "Topic: Food\n",
            "Description: food foodstuff consider creative inventory consuma...\n",
            "Indexed Food\n",
            "Topic: Gray_Dye\n",
            "Description: gray dye secondary color dye like dye gray dye app...\n",
            "Indexed Gray_Dye\n",
            "Topic: Glowstone_Dust\n",
            "Description: glowstone dust item use craft glowstone create thi...\n"
          ]
        },
        {
          "output_type": "stream",
          "name": "stderr",
          "text": [
            "/usr/local/lib/python3.10/dist-packages/urllib3/connectionpool.py:1100: InsecureRequestWarning: Unverified HTTPS request is being made to host '134.209.74.243'. Adding certificate verification is strongly advised. See: https://urllib3.readthedocs.io/en/latest/advanced-usage.html#tls-warnings\n",
            "  warnings.warn(\n",
            "/usr/local/lib/python3.10/dist-packages/urllib3/connectionpool.py:1100: InsecureRequestWarning: Unverified HTTPS request is being made to host '134.209.74.243'. Adding certificate verification is strongly advised. See: https://urllib3.readthedocs.io/en/latest/advanced-usage.html#tls-warnings\n",
            "  warnings.warn(\n",
            "/usr/local/lib/python3.10/dist-packages/urllib3/connectionpool.py:1100: InsecureRequestWarning: Unverified HTTPS request is being made to host '134.209.74.243'. Adding certificate verification is strongly advised. See: https://urllib3.readthedocs.io/en/latest/advanced-usage.html#tls-warnings\n",
            "  warnings.warn(\n"
          ]
        },
        {
          "output_type": "stream",
          "name": "stdout",
          "text": [
            "Indexed Glowstone_Dust\n",
            "Topic: Golden_Apple\n",
            "Description: golden apple special food item eat player enchant ...\n",
            "Indexed Golden_Apple\n",
            "Topic: Cooked_Salmon\n",
            "Description: cooked salmon obtain raw salmon cook furnace cook ...\n",
            "Indexed Cooked_Salmon\n",
            "Topic: Beetroot_Soup\n",
            "Description: pocket edition beetroot soup liquid food item beet...\n"
          ]
        },
        {
          "output_type": "stream",
          "name": "stderr",
          "text": [
            "/usr/local/lib/python3.10/dist-packages/urllib3/connectionpool.py:1100: InsecureRequestWarning: Unverified HTTPS request is being made to host '134.209.74.243'. Adding certificate verification is strongly advised. See: https://urllib3.readthedocs.io/en/latest/advanced-usage.html#tls-warnings\n",
            "  warnings.warn(\n",
            "/usr/local/lib/python3.10/dist-packages/urllib3/connectionpool.py:1100: InsecureRequestWarning: Unverified HTTPS request is being made to host '134.209.74.243'. Adding certificate verification is strongly advised. See: https://urllib3.readthedocs.io/en/latest/advanced-usage.html#tls-warnings\n",
            "  warnings.warn(\n",
            "/usr/local/lib/python3.10/dist-packages/urllib3/connectionpool.py:1100: InsecureRequestWarning: Unverified HTTPS request is being made to host '134.209.74.243'. Adding certificate verification is strongly advised. See: https://urllib3.readthedocs.io/en/latest/advanced-usage.html#tls-warnings\n",
            "  warnings.warn(\n"
          ]
        },
        {
          "output_type": "stream",
          "name": "stdout",
          "text": [
            "Indexed Beetroot_Soup\n",
            "Topic: Diamond\n",
            "Description: diamond one rarest material minecraft desert templ...\n",
            "Indexed Diamond\n",
            "Topic: Glass_Bottle\n",
            "Description: glass bottle item use pick water make water bottle...\n",
            "Indexed Glass_Bottle\n",
            "Topic: Boots\n",
            "Description: boot type armor cover foot player five type boot l...\n"
          ]
        },
        {
          "output_type": "stream",
          "name": "stderr",
          "text": [
            "/usr/local/lib/python3.10/dist-packages/urllib3/connectionpool.py:1100: InsecureRequestWarning: Unverified HTTPS request is being made to host '134.209.74.243'. Adding certificate verification is strongly advised. See: https://urllib3.readthedocs.io/en/latest/advanced-usage.html#tls-warnings\n",
            "  warnings.warn(\n",
            "/usr/local/lib/python3.10/dist-packages/urllib3/connectionpool.py:1100: InsecureRequestWarning: Unverified HTTPS request is being made to host '134.209.74.243'. Adding certificate verification is strongly advised. See: https://urllib3.readthedocs.io/en/latest/advanced-usage.html#tls-warnings\n",
            "  warnings.warn(\n",
            "/usr/local/lib/python3.10/dist-packages/urllib3/connectionpool.py:1100: InsecureRequestWarning: Unverified HTTPS request is being made to host '134.209.74.243'. Adding certificate verification is strongly advised. See: https://urllib3.readthedocs.io/en/latest/advanced-usage.html#tls-warnings\n",
            "  warnings.warn(\n"
          ]
        },
        {
          "output_type": "stream",
          "name": "stdout",
          "text": [
            "Indexed Boots\n",
            "Topic: Emerald\n",
            "Description: emerald one rarest material minecraft currency use...\n",
            "Indexed Emerald\n",
            "Topic: Ghast_Tear\n",
            "Description: ghast tear item drop ghasts kill ghasts drop 0 1 g...\n",
            "Indexed Ghast_Tear\n",
            "Topic: Bone_Meal\n",
            "Description: bone meal material use dye well fertilizer plant l...\n"
          ]
        },
        {
          "output_type": "stream",
          "name": "stderr",
          "text": [
            "/usr/local/lib/python3.10/dist-packages/urllib3/connectionpool.py:1100: InsecureRequestWarning: Unverified HTTPS request is being made to host '134.209.74.243'. Adding certificate verification is strongly advised. See: https://urllib3.readthedocs.io/en/latest/advanced-usage.html#tls-warnings\n",
            "  warnings.warn(\n",
            "/usr/local/lib/python3.10/dist-packages/urllib3/connectionpool.py:1100: InsecureRequestWarning: Unverified HTTPS request is being made to host '134.209.74.243'. Adding certificate verification is strongly advised. See: https://urllib3.readthedocs.io/en/latest/advanced-usage.html#tls-warnings\n",
            "  warnings.warn(\n",
            "/usr/local/lib/python3.10/dist-packages/urllib3/connectionpool.py:1100: InsecureRequestWarning: Unverified HTTPS request is being made to host '134.209.74.243'. Adding certificate verification is strongly advised. See: https://urllib3.readthedocs.io/en/latest/advanced-usage.html#tls-warnings\n",
            "  warnings.warn(\n"
          ]
        },
        {
          "output_type": "stream",
          "name": "stdout",
          "text": [
            "Indexed Bone_Meal\n",
            "Topic: Clownfish\n",
            "Description: clownfish food item obtain fish common way obtain ...\n",
            "Indexed Clownfish\n",
            "Topic: Cooked_Rabbit\n",
            "Description: cook rabbit food item eat player rabbit drop cook ...\n",
            "Indexed Cooked_Rabbit\n",
            "Topic: Book_and_Quill\n",
            "Description: book quill item use write write book press use ite...\n"
          ]
        },
        {
          "output_type": "stream",
          "name": "stderr",
          "text": [
            "/usr/local/lib/python3.10/dist-packages/urllib3/connectionpool.py:1100: InsecureRequestWarning: Unverified HTTPS request is being made to host '134.209.74.243'. Adding certificate verification is strongly advised. See: https://urllib3.readthedocs.io/en/latest/advanced-usage.html#tls-warnings\n",
            "  warnings.warn(\n",
            "/usr/local/lib/python3.10/dist-packages/urllib3/connectionpool.py:1100: InsecureRequestWarning: Unverified HTTPS request is being made to host '134.209.74.243'. Adding certificate verification is strongly advised. See: https://urllib3.readthedocs.io/en/latest/advanced-usage.html#tls-warnings\n",
            "  warnings.warn(\n",
            "/usr/local/lib/python3.10/dist-packages/urllib3/connectionpool.py:1100: InsecureRequestWarning: Unverified HTTPS request is being made to host '134.209.74.243'. Adding certificate verification is strongly advised. See: https://urllib3.readthedocs.io/en/latest/advanced-usage.html#tls-warnings\n",
            "  warnings.warn(\n"
          ]
        },
        {
          "output_type": "stream",
          "name": "stdout",
          "text": [
            "Indexed Book_and_Quill\n",
            "Topic: Flint\n",
            "Description: flint raw material block gravel mine 10 chance sin...\n",
            "Indexed Flint\n",
            "Topic: Glistering_Melon\n",
            "Description: glistering melon non edible item use imbue potion ...\n",
            "Indexed Glistering_Melon\n",
            "Topic: Bread\n",
            "Description: bread food item eat player stack bread find severa...\n"
          ]
        },
        {
          "output_type": "stream",
          "name": "stderr",
          "text": [
            "/usr/local/lib/python3.10/dist-packages/urllib3/connectionpool.py:1100: InsecureRequestWarning: Unverified HTTPS request is being made to host '134.209.74.243'. Adding certificate verification is strongly advised. See: https://urllib3.readthedocs.io/en/latest/advanced-usage.html#tls-warnings\n",
            "  warnings.warn(\n",
            "/usr/local/lib/python3.10/dist-packages/urllib3/connectionpool.py:1100: InsecureRequestWarning: Unverified HTTPS request is being made to host '134.209.74.243'. Adding certificate verification is strongly advised. See: https://urllib3.readthedocs.io/en/latest/advanced-usage.html#tls-warnings\n",
            "  warnings.warn(\n",
            "/usr/local/lib/python3.10/dist-packages/urllib3/connectionpool.py:1100: InsecureRequestWarning: Unverified HTTPS request is being made to host '134.209.74.243'. Adding certificate verification is strongly advised. See: https://urllib3.readthedocs.io/en/latest/advanced-usage.html#tls-warnings\n",
            "  warnings.warn(\n"
          ]
        },
        {
          "output_type": "stream",
          "name": "stdout",
          "text": [
            "Indexed Bread\n",
            "Topic: Blaze_Rod\n",
            "Description: blaze rod item drop blaze kill player tame wolf bl...\n",
            "Indexed Blaze_Rod\n",
            "Topic: Book\n",
            "Description: book item craft paper leather three book drop book...\n"
          ]
        },
        {
          "output_type": "stream",
          "name": "stderr",
          "text": [
            "/usr/local/lib/python3.10/dist-packages/urllib3/connectionpool.py:1100: InsecureRequestWarning: Unverified HTTPS request is being made to host '134.209.74.243'. Adding certificate verification is strongly advised. See: https://urllib3.readthedocs.io/en/latest/advanced-usage.html#tls-warnings\n",
            "  warnings.warn(\n",
            "/usr/local/lib/python3.10/dist-packages/urllib3/connectionpool.py:1100: InsecureRequestWarning: Unverified HTTPS request is being made to host '134.209.74.243'. Adding certificate verification is strongly advised. See: https://urllib3.readthedocs.io/en/latest/advanced-usage.html#tls-warnings\n",
            "  warnings.warn(\n"
          ]
        },
        {
          "output_type": "stream",
          "name": "stdout",
          "text": [
            "Indexed Book\n",
            "Topic: Clock\n",
            "Description: clock sometimes call watch item display current ga...\n",
            "Indexed Clock\n",
            "Topic: Compass\n",
            "Description: compass item use point world spawn compass found c...\n",
            "Indexed Compass\n",
            "Topic: Coal\n",
            "Description: coal lump item mainly obtain harvest coal ore bloc...\n"
          ]
        },
        {
          "output_type": "stream",
          "name": "stderr",
          "text": [
            "/usr/local/lib/python3.10/dist-packages/urllib3/connectionpool.py:1100: InsecureRequestWarning: Unverified HTTPS request is being made to host '134.209.74.243'. Adding certificate verification is strongly advised. See: https://urllib3.readthedocs.io/en/latest/advanced-usage.html#tls-warnings\n",
            "  warnings.warn(\n",
            "/usr/local/lib/python3.10/dist-packages/urllib3/connectionpool.py:1100: InsecureRequestWarning: Unverified HTTPS request is being made to host '134.209.74.243'. Adding certificate verification is strongly advised. See: https://urllib3.readthedocs.io/en/latest/advanced-usage.html#tls-warnings\n",
            "  warnings.warn(\n",
            "/usr/local/lib/python3.10/dist-packages/urllib3/connectionpool.py:1100: InsecureRequestWarning: Unverified HTTPS request is being made to host '134.209.74.243'. Adding certificate verification is strongly advised. See: https://urllib3.readthedocs.io/en/latest/advanced-usage.html#tls-warnings\n",
            "  warnings.warn(\n"
          ]
        },
        {
          "output_type": "stream",
          "name": "stdout",
          "text": [
            "Indexed Coal\n",
            "Topic: Bowl\n",
            "Description: bowl container use hold certain meal bowl obtain j...\n",
            "Indexed Bowl\n",
            "Topic: Dyeing\n",
            "Description: dye item use change color wool leather armor harde...\n",
            "Indexed Dyeing\n",
            "Topic: Bone\n",
            "Description: bone item primarily obtain drop skeleton bone find...\n"
          ]
        },
        {
          "output_type": "stream",
          "name": "stderr",
          "text": [
            "/usr/local/lib/python3.10/dist-packages/urllib3/connectionpool.py:1100: InsecureRequestWarning: Unverified HTTPS request is being made to host '134.209.74.243'. Adding certificate verification is strongly advised. See: https://urllib3.readthedocs.io/en/latest/advanced-usage.html#tls-warnings\n",
            "  warnings.warn(\n",
            "/usr/local/lib/python3.10/dist-packages/urllib3/connectionpool.py:1100: InsecureRequestWarning: Unverified HTTPS request is being made to host '134.209.74.243'. Adding certificate verification is strongly advised. See: https://urllib3.readthedocs.io/en/latest/advanced-usage.html#tls-warnings\n",
            "  warnings.warn(\n",
            "/usr/local/lib/python3.10/dist-packages/urllib3/connectionpool.py:1100: InsecureRequestWarning: Unverified HTTPS request is being made to host '134.209.74.243'. Adding certificate verification is strongly advised. See: https://urllib3.readthedocs.io/en/latest/advanced-usage.html#tls-warnings\n",
            "  warnings.warn(\n"
          ]
        },
        {
          "output_type": "stream",
          "name": "stdout",
          "text": [
            "Indexed Bone\n",
            "Topic: Melon\n",
            "Description: melon name melon slice console edition food item e...\n",
            "Indexed Melon\n",
            "Topic: Purple_Dye\n",
            "Description: purple dye secondary dye color create combine one ...\n",
            "Indexed Purple_Dye\n",
            "Topic: Raw_Salmon\n",
            "Description: raw salmon food item obtain fish common way obtain...\n"
          ]
        },
        {
          "output_type": "stream",
          "name": "stderr",
          "text": [
            "/usr/local/lib/python3.10/dist-packages/urllib3/connectionpool.py:1100: InsecureRequestWarning: Unverified HTTPS request is being made to host '134.209.74.243'. Adding certificate verification is strongly advised. See: https://urllib3.readthedocs.io/en/latest/advanced-usage.html#tls-warnings\n",
            "  warnings.warn(\n",
            "/usr/local/lib/python3.10/dist-packages/urllib3/connectionpool.py:1100: InsecureRequestWarning: Unverified HTTPS request is being made to host '134.209.74.243'. Adding certificate verification is strongly advised. See: https://urllib3.readthedocs.io/en/latest/advanced-usage.html#tls-warnings\n",
            "  warnings.warn(\n",
            "/usr/local/lib/python3.10/dist-packages/urllib3/connectionpool.py:1100: InsecureRequestWarning: Unverified HTTPS request is being made to host '134.209.74.243'. Adding certificate verification is strongly advised. See: https://urllib3.readthedocs.io/en/latest/advanced-usage.html#tls-warnings\n",
            "  warnings.warn(\n"
          ]
        },
        {
          "output_type": "stream",
          "name": "stdout",
          "text": [
            "Indexed Raw_Salmon\n",
            "Topic: Raw_Fish\n",
            "Description: raw fish food item obtain fish common way obtain r...\n",
            "Indexed Raw_Fish\n",
            "Topic: Milk\n",
            "Description: bucket milk item obtain cow mooshrooms milk obtain...\n",
            "Indexed Milk\n",
            "Topic: Helmet\n",
            "Description: helmet type armor cover head player five type helm...\n"
          ]
        },
        {
          "output_type": "stream",
          "name": "stderr",
          "text": [
            "/usr/local/lib/python3.10/dist-packages/urllib3/connectionpool.py:1100: InsecureRequestWarning: Unverified HTTPS request is being made to host '134.209.74.243'. Adding certificate verification is strongly advised. See: https://urllib3.readthedocs.io/en/latest/advanced-usage.html#tls-warnings\n",
            "  warnings.warn(\n",
            "/usr/local/lib/python3.10/dist-packages/urllib3/connectionpool.py:1100: InsecureRequestWarning: Unverified HTTPS request is being made to host '134.209.74.243'. Adding certificate verification is strongly advised. See: https://urllib3.readthedocs.io/en/latest/advanced-usage.html#tls-warnings\n",
            "  warnings.warn(\n",
            "/usr/local/lib/python3.10/dist-packages/urllib3/connectionpool.py:1100: InsecureRequestWarning: Unverified HTTPS request is being made to host '134.209.74.243'. Adding certificate verification is strongly advised. See: https://urllib3.readthedocs.io/en/latest/advanced-usage.html#tls-warnings\n",
            "  warnings.warn(\n"
          ]
        },
        {
          "output_type": "stream",
          "name": "stdout",
          "text": [
            "Indexed Helmet\n",
            "Topic: Nether_Quartz\n",
            "Description: nether quartz simply quartz nether exclusive item ...\n",
            "Indexed Nether_Quartz\n",
            "Topic: Rabbit%27s_Foot\n",
            "Description: rabbit foot item drop rabbit rabbit rarely drop ra...\n",
            "Indexed Rabbit%27s_Foot\n",
            "Topic: Pickaxe\n",
            "Description: pickax one commonly used tool game require mine or...\n"
          ]
        },
        {
          "output_type": "stream",
          "name": "stderr",
          "text": [
            "/usr/local/lib/python3.10/dist-packages/urllib3/connectionpool.py:1100: InsecureRequestWarning: Unverified HTTPS request is being made to host '134.209.74.243'. Adding certificate verification is strongly advised. See: https://urllib3.readthedocs.io/en/latest/advanced-usage.html#tls-warnings\n",
            "  warnings.warn(\n",
            "/usr/local/lib/python3.10/dist-packages/urllib3/connectionpool.py:1100: InsecureRequestWarning: Unverified HTTPS request is being made to host '134.209.74.243'. Adding certificate verification is strongly advised. See: https://urllib3.readthedocs.io/en/latest/advanced-usage.html#tls-warnings\n",
            "  warnings.warn(\n",
            "/usr/local/lib/python3.10/dist-packages/urllib3/connectionpool.py:1100: InsecureRequestWarning: Unverified HTTPS request is being made to host '134.209.74.243'. Adding certificate verification is strongly advised. See: https://urllib3.readthedocs.io/en/latest/advanced-usage.html#tls-warnings\n",
            "  warnings.warn(\n"
          ]
        },
        {
          "output_type": "stream",
          "name": "stdout",
          "text": [
            "Indexed Pickaxe\n",
            "Topic: Nether_Star\n",
            "Description: nether star item drop wither use solely craft beac...\n",
            "Indexed Nether_Star\n",
            "Topic: Magma_Cream\n",
            "Description: magma cream item mainly use brew potion fire resis...\n",
            "Indexed Magma_Cream\n",
            "Topic: Lime_Dye\n",
            "Description: lime dye secondary dye color obtain combine one ca...\n"
          ]
        },
        {
          "output_type": "stream",
          "name": "stderr",
          "text": [
            "/usr/local/lib/python3.10/dist-packages/urllib3/connectionpool.py:1100: InsecureRequestWarning: Unverified HTTPS request is being made to host '134.209.74.243'. Adding certificate verification is strongly advised. See: https://urllib3.readthedocs.io/en/latest/advanced-usage.html#tls-warnings\n",
            "  warnings.warn(\n",
            "/usr/local/lib/python3.10/dist-packages/urllib3/connectionpool.py:1100: InsecureRequestWarning: Unverified HTTPS request is being made to host '134.209.74.243'. Adding certificate verification is strongly advised. See: https://urllib3.readthedocs.io/en/latest/advanced-usage.html#tls-warnings\n",
            "  warnings.warn(\n",
            "/usr/local/lib/python3.10/dist-packages/urllib3/connectionpool.py:1100: InsecureRequestWarning: Unverified HTTPS request is being made to host '134.209.74.243'. Adding certificate verification is strongly advised. See: https://urllib3.readthedocs.io/en/latest/advanced-usage.html#tls-warnings\n",
            "  warnings.warn(\n"
          ]
        },
        {
          "output_type": "stream",
          "name": "stdout",
          "text": [
            "Indexed Lime_Dye\n",
            "Topic: Potion\n",
            "Description: potion brewable item imbue consumer specific time ...\n",
            "Indexed Potion\n",
            "Topic: Light_Blue_Dye\n",
            "Description: light blue dye primary dye like dye light blue dye...\n",
            "Indexed Light_Blue_Dye\n",
            "Topic: Light_Gray_Dye\n",
            "Description: light gray dye primary dye recipe require 12 unit ...\n"
          ]
        },
        {
          "output_type": "stream",
          "name": "stderr",
          "text": [
            "/usr/local/lib/python3.10/dist-packages/urllib3/connectionpool.py:1100: InsecureRequestWarning: Unverified HTTPS request is being made to host '134.209.74.243'. Adding certificate verification is strongly advised. See: https://urllib3.readthedocs.io/en/latest/advanced-usage.html#tls-warnings\n",
            "  warnings.warn(\n",
            "/usr/local/lib/python3.10/dist-packages/urllib3/connectionpool.py:1100: InsecureRequestWarning: Unverified HTTPS request is being made to host '134.209.74.243'. Adding certificate verification is strongly advised. See: https://urllib3.readthedocs.io/en/latest/advanced-usage.html#tls-warnings\n",
            "  warnings.warn(\n",
            "/usr/local/lib/python3.10/dist-packages/urllib3/connectionpool.py:1100: InsecureRequestWarning: Unverified HTTPS request is being made to host '134.209.74.243'. Adding certificate verification is strongly advised. See: https://urllib3.readthedocs.io/en/latest/advanced-usage.html#tls-warnings\n",
            "  warnings.warn(\n"
          ]
        },
        {
          "output_type": "stream",
          "name": "stdout",
          "text": [
            "Indexed Light_Gray_Dye\n",
            "Topic: Leggings\n",
            "Description: legging type armor cover low body player five type...\n",
            "Indexed Leggings\n",
            "Topic: Magenta_Dye\n",
            "Description: magenta dye dye make combine one purple dye pink d...\n",
            "Indexed Magenta_Dye\n",
            "Topic: Iron_Ingot\n",
            "Description: iron ingot versatile metal craft ingredient common...\n"
          ]
        },
        {
          "output_type": "stream",
          "name": "stderr",
          "text": [
            "/usr/local/lib/python3.10/dist-packages/urllib3/connectionpool.py:1100: InsecureRequestWarning: Unverified HTTPS request is being made to host '134.209.74.243'. Adding certificate verification is strongly advised. See: https://urllib3.readthedocs.io/en/latest/advanced-usage.html#tls-warnings\n",
            "  warnings.warn(\n",
            "/usr/local/lib/python3.10/dist-packages/urllib3/connectionpool.py:1100: InsecureRequestWarning: Unverified HTTPS request is being made to host '134.209.74.243'. Adding certificate verification is strongly advised. See: https://urllib3.readthedocs.io/en/latest/advanced-usage.html#tls-warnings\n",
            "  warnings.warn(\n",
            "/usr/local/lib/python3.10/dist-packages/urllib3/connectionpool.py:1100: InsecureRequestWarning: Unverified HTTPS request is being made to host '134.209.74.243'. Adding certificate verification is strongly advised. See: https://urllib3.readthedocs.io/en/latest/advanced-usage.html#tls-warnings\n",
            "  warnings.warn(\n"
          ]
        },
        {
          "output_type": "stream",
          "name": "stdout",
          "text": [
            "Indexed Iron_Ingot\n",
            "Topic: Prismarine_Shard\n",
            "Description: prismarine shard item obtain defeat guardian elder...\n",
            "Indexed Prismarine_Shard\n",
            "Topic: Poisonous_Potato\n",
            "Description: poisonous potato food item poison player poisonous...\n",
            "Indexed Poisonous_Potato\n",
            "Topic: Pink_Dye\n",
            "Description: pink dye dye make pink tulip peony combine rise re...\n"
          ]
        },
        {
          "output_type": "stream",
          "name": "stderr",
          "text": [
            "/usr/local/lib/python3.10/dist-packages/urllib3/connectionpool.py:1100: InsecureRequestWarning: Unverified HTTPS request is being made to host '134.209.74.243'. Adding certificate verification is strongly advised. See: https://urllib3.readthedocs.io/en/latest/advanced-usage.html#tls-warnings\n",
            "  warnings.warn(\n",
            "/usr/local/lib/python3.10/dist-packages/urllib3/connectionpool.py:1100: InsecureRequestWarning: Unverified HTTPS request is being made to host '134.209.74.243'. Adding certificate verification is strongly advised. See: https://urllib3.readthedocs.io/en/latest/advanced-usage.html#tls-warnings\n",
            "  warnings.warn(\n",
            "/usr/local/lib/python3.10/dist-packages/urllib3/connectionpool.py:1100: InsecureRequestWarning: Unverified HTTPS request is being made to host '134.209.74.243'. Adding certificate verification is strongly advised. See: https://urllib3.readthedocs.io/en/latest/advanced-usage.html#tls-warnings\n",
            "  warnings.warn(\n"
          ]
        },
        {
          "output_type": "stream",
          "name": "stdout",
          "text": [
            "Indexed Pink_Dye\n",
            "Topic: Leather\n",
            "Description: leather versatile craft material cow drop 2 piece ...\n",
            "Indexed Leather\n",
            "Topic: Lead\n",
            "Description: lead also know leash item use leash lead passive m...\n",
            "Indexed Lead\n",
            "Topic: Raw_Chicken\n",
            "Description: raw chicken food item eat player cook furnace make...\n"
          ]
        },
        {
          "output_type": "stream",
          "name": "stderr",
          "text": [
            "/usr/local/lib/python3.10/dist-packages/urllib3/connectionpool.py:1100: InsecureRequestWarning: Unverified HTTPS request is being made to host '134.209.74.243'. Adding certificate verification is strongly advised. See: https://urllib3.readthedocs.io/en/latest/advanced-usage.html#tls-warnings\n",
            "  warnings.warn(\n",
            "/usr/local/lib/python3.10/dist-packages/urllib3/connectionpool.py:1100: InsecureRequestWarning: Unverified HTTPS request is being made to host '134.209.74.243'. Adding certificate verification is strongly advised. See: https://urllib3.readthedocs.io/en/latest/advanced-usage.html#tls-warnings\n",
            "  warnings.warn(\n",
            "/usr/local/lib/python3.10/dist-packages/urllib3/connectionpool.py:1100: InsecureRequestWarning: Unverified HTTPS request is being made to host '134.209.74.243'. Adding certificate verification is strongly advised. See: https://urllib3.readthedocs.io/en/latest/advanced-usage.html#tls-warnings\n",
            "  warnings.warn(\n"
          ]
        },
        {
          "output_type": "stream",
          "name": "stdout",
          "text": [
            "Indexed Raw_Chicken\n",
            "Topic: Items\n",
            "Description: item object exist within player inventory hand mea...\n",
            "Indexed Items\n",
            "Topic: Paper\n",
            "Description: paper item craft sugar cane chest stronghold libra...\n",
            "Indexed Paper\n",
            "Topic: Music_Disc\n",
            "Description: music discs previously name record item play jukeb...\n"
          ]
        },
        {
          "output_type": "stream",
          "name": "stderr",
          "text": [
            "/usr/local/lib/python3.10/dist-packages/urllib3/connectionpool.py:1100: InsecureRequestWarning: Unverified HTTPS request is being made to host '134.209.74.243'. Adding certificate verification is strongly advised. See: https://urllib3.readthedocs.io/en/latest/advanced-usage.html#tls-warnings\n",
            "  warnings.warn(\n",
            "/usr/local/lib/python3.10/dist-packages/urllib3/connectionpool.py:1100: InsecureRequestWarning: Unverified HTTPS request is being made to host '134.209.74.243'. Adding certificate verification is strongly advised. See: https://urllib3.readthedocs.io/en/latest/advanced-usage.html#tls-warnings\n",
            "  warnings.warn(\n",
            "/usr/local/lib/python3.10/dist-packages/urllib3/connectionpool.py:1100: InsecureRequestWarning: Unverified HTTPS request is being made to host '134.209.74.243'. Adding certificate verification is strongly advised. See: https://urllib3.readthedocs.io/en/latest/advanced-usage.html#tls-warnings\n",
            "  warnings.warn(\n"
          ]
        },
        {
          "output_type": "stream",
          "name": "stdout",
          "text": [
            "Indexed Music_Disc\n",
            "Topic: Orange_Dye\n",
            "Description: orange dye dye craft orange tulip combine one rise...\n",
            "Indexed Orange_Dye\n",
            "Topic: Prismarine_Crystals\n",
            "Description: prismarine crystal item obtain defeat guardian eld...\n",
            "Indexed Prismarine_Crystals\n",
            "Topic: Mushroom_Stew\n",
            "Description: mushroom stew mushroom soup food item mushroom ste...\n"
          ]
        },
        {
          "output_type": "stream",
          "name": "stderr",
          "text": [
            "/usr/local/lib/python3.10/dist-packages/urllib3/connectionpool.py:1100: InsecureRequestWarning: Unverified HTTPS request is being made to host '134.209.74.243'. Adding certificate verification is strongly advised. See: https://urllib3.readthedocs.io/en/latest/advanced-usage.html#tls-warnings\n",
            "  warnings.warn(\n",
            "/usr/local/lib/python3.10/dist-packages/urllib3/connectionpool.py:1100: InsecureRequestWarning: Unverified HTTPS request is being made to host '134.209.74.243'. Adding certificate verification is strongly advised. See: https://urllib3.readthedocs.io/en/latest/advanced-usage.html#tls-warnings\n",
            "  warnings.warn(\n",
            "/usr/local/lib/python3.10/dist-packages/urllib3/connectionpool.py:1100: InsecureRequestWarning: Unverified HTTPS request is being made to host '134.209.74.243'. Adding certificate verification is strongly advised. See: https://urllib3.readthedocs.io/en/latest/advanced-usage.html#tls-warnings\n",
            "  warnings.warn(\n"
          ]
        },
        {
          "output_type": "stream",
          "name": "stdout",
          "text": [
            "Indexed Mushroom_Stew\n",
            "Topic: Hoe\n",
            "Description: hoe tool use till dirt grass block farmland block ...\n",
            "Indexed Hoe\n",
            "Topic: Nether_Brick_(item)\n",
            "Description: nether brick item make smelt netherrack furnace...\n",
            "Indexed Nether_Brick_(item)\n",
            "Topic: Raw_Beef\n",
            "Description: raw beef food item eat player cook furnace make st...\n"
          ]
        },
        {
          "output_type": "stream",
          "name": "stderr",
          "text": [
            "/usr/local/lib/python3.10/dist-packages/urllib3/connectionpool.py:1100: InsecureRequestWarning: Unverified HTTPS request is being made to host '134.209.74.243'. Adding certificate verification is strongly advised. See: https://urllib3.readthedocs.io/en/latest/advanced-usage.html#tls-warnings\n",
            "  warnings.warn(\n",
            "/usr/local/lib/python3.10/dist-packages/urllib3/connectionpool.py:1100: InsecureRequestWarning: Unverified HTTPS request is being made to host '134.209.74.243'. Adding certificate verification is strongly advised. See: https://urllib3.readthedocs.io/en/latest/advanced-usage.html#tls-warnings\n",
            "  warnings.warn(\n",
            "/usr/local/lib/python3.10/dist-packages/urllib3/connectionpool.py:1100: InsecureRequestWarning: Unverified HTTPS request is being made to host '134.209.74.243'. Adding certificate verification is strongly advised. See: https://urllib3.readthedocs.io/en/latest/advanced-usage.html#tls-warnings\n",
            "  warnings.warn(\n"
          ]
        },
        {
          "output_type": "stream",
          "name": "stdout",
          "text": [
            "Indexed Raw_Beef\n",
            "Topic: Rose_Red\n",
            "Description: rise red primary color dye create primarily flower...\n",
            "Indexed Rose_Red\n",
            "Topic: Saddle\n",
            "Description: saddle item place ridable mob saddle find chest in...\n",
            "Indexed Saddle\n",
            "Topic: Raw_Rabbit\n",
            "Description: raw rabbit food item eat player cook furnace make ...\n"
          ]
        },
        {
          "output_type": "stream",
          "name": "stderr",
          "text": [
            "/usr/local/lib/python3.10/dist-packages/urllib3/connectionpool.py:1100: InsecureRequestWarning: Unverified HTTPS request is being made to host '134.209.74.243'. Adding certificate verification is strongly advised. See: https://urllib3.readthedocs.io/en/latest/advanced-usage.html#tls-warnings\n",
            "  warnings.warn(\n",
            "/usr/local/lib/python3.10/dist-packages/urllib3/connectionpool.py:1100: InsecureRequestWarning: Unverified HTTPS request is being made to host '134.209.74.243'. Adding certificate verification is strongly advised. See: https://urllib3.readthedocs.io/en/latest/advanced-usage.html#tls-warnings\n",
            "  warnings.warn(\n",
            "/usr/local/lib/python3.10/dist-packages/urllib3/connectionpool.py:1100: InsecureRequestWarning: Unverified HTTPS request is being made to host '134.209.74.243'. Adding certificate verification is strongly advised. See: https://urllib3.readthedocs.io/en/latest/advanced-usage.html#tls-warnings\n",
            "  warnings.warn(\n"
          ]
        },
        {
          "output_type": "stream",
          "name": "stdout",
          "text": [
            "Indexed Raw_Rabbit\n",
            "Topic: Rabbit_Hide\n",
            "Description: rabbit hide item drop rabbit rabbit drop 0 1 rabbi...\n",
            "Indexed Rabbit_Hide\n",
            "Topic: Horse_Armor\n",
            "Description: horse armor special type armor give horse wear dun...\n",
            "Indexed Horse_Armor\n",
            "Topic: Rabbit_Stew\n",
            "Description: rabbit stew food item eat player rabbit stew obtai...\n"
          ]
        },
        {
          "output_type": "stream",
          "name": "stderr",
          "text": [
            "/usr/local/lib/python3.10/dist-packages/urllib3/connectionpool.py:1100: InsecureRequestWarning: Unverified HTTPS request is being made to host '134.209.74.243'. Adding certificate verification is strongly advised. See: https://urllib3.readthedocs.io/en/latest/advanced-usage.html#tls-warnings\n",
            "  warnings.warn(\n",
            "/usr/local/lib/python3.10/dist-packages/urllib3/connectionpool.py:1100: InsecureRequestWarning: Unverified HTTPS request is being made to host '134.209.74.243'. Adding certificate verification is strongly advised. See: https://urllib3.readthedocs.io/en/latest/advanced-usage.html#tls-warnings\n",
            "  warnings.warn(\n",
            "/usr/local/lib/python3.10/dist-packages/urllib3/connectionpool.py:1100: InsecureRequestWarning: Unverified HTTPS request is being made to host '134.209.74.243'. Adding certificate verification is strongly advised. See: https://urllib3.readthedocs.io/en/latest/advanced-usage.html#tls-warnings\n",
            "  warnings.warn(\n"
          ]
        },
        {
          "output_type": "stream",
          "name": "stdout",
          "text": [
            "Indexed Rabbit_Stew\n",
            "Topic: Raw_Porkchop\n",
            "Description: raw porkchop food item eat player cook furnace mak...\n",
            "Indexed Raw_Porkchop\n",
            "Topic: Ink_Sac\n",
            "Description: ink sac dark possible primary color dye ink sac ob...\n",
            "Indexed Ink_Sac\n",
            "Topic: Raw_Mutton\n",
            "Description: raw mutton food item eat player sheep drop 1 2 raw...\n"
          ]
        },
        {
          "output_type": "stream",
          "name": "stderr",
          "text": [
            "/usr/local/lib/python3.10/dist-packages/urllib3/connectionpool.py:1100: InsecureRequestWarning: Unverified HTTPS request is being made to host '134.209.74.243'. Adding certificate verification is strongly advised. See: https://urllib3.readthedocs.io/en/latest/advanced-usage.html#tls-warnings\n",
            "  warnings.warn(\n",
            "/usr/local/lib/python3.10/dist-packages/urllib3/connectionpool.py:1100: InsecureRequestWarning: Unverified HTTPS request is being made to host '134.209.74.243'. Adding certificate verification is strongly advised. See: https://urllib3.readthedocs.io/en/latest/advanced-usage.html#tls-warnings\n",
            "  warnings.warn(\n",
            "/usr/local/lib/python3.10/dist-packages/urllib3/connectionpool.py:1100: InsecureRequestWarning: Unverified HTTPS request is being made to host '134.209.74.243'. Adding certificate verification is strongly advised. See: https://urllib3.readthedocs.io/en/latest/advanced-usage.html#tls-warnings\n",
            "  warnings.warn(\n"
          ]
        },
        {
          "output_type": "stream",
          "name": "stdout",
          "text": [
            "Indexed Raw_Mutton\n",
            "Topic: Pufferfish\n",
            "Description: pufferfish edible brewing ingredient catch fish pu...\n",
            "Indexed Pufferfish\n",
            "Topic: Pumpkin_Pie\n",
            "Description: pumpkin pie food item eat player villager farmer s...\n",
            "Indexed Pumpkin_Pie\n",
            "Topic: Rotten_Flesh\n",
            "Description: rotten flesh food item eat player risk food poison...\n"
          ]
        },
        {
          "output_type": "stream",
          "name": "stderr",
          "text": [
            "/usr/local/lib/python3.10/dist-packages/urllib3/connectionpool.py:1100: InsecureRequestWarning: Unverified HTTPS request is being made to host '134.209.74.243'. Adding certificate verification is strongly advised. See: https://urllib3.readthedocs.io/en/latest/advanced-usage.html#tls-warnings\n",
            "  warnings.warn(\n",
            "/usr/local/lib/python3.10/dist-packages/urllib3/connectionpool.py:1100: InsecureRequestWarning: Unverified HTTPS request is being made to host '134.209.74.243'. Adding certificate verification is strongly advised. See: https://urllib3.readthedocs.io/en/latest/advanced-usage.html#tls-warnings\n",
            "  warnings.warn(\n",
            "/usr/local/lib/python3.10/dist-packages/urllib3/connectionpool.py:1100: InsecureRequestWarning: Unverified HTTPS request is being made to host '134.209.74.243'. Adding certificate verification is strongly advised. See: https://urllib3.readthedocs.io/en/latest/advanced-usage.html#tls-warnings\n",
            "  warnings.warn(\n"
          ]
        },
        {
          "output_type": "stream",
          "name": "stdout",
          "text": [
            "Indexed Rotten_Flesh\n",
            "Topic: Lapis_Lazuli\n",
            "Description: lapis lazuli primary color dye mine stone pickaxe ...\n",
            "Indexed Lapis_Lazuli\n",
            "Topic: Name_Tag\n",
            "Description: name tag item use name mobs world dungeon chest ma...\n",
            "Indexed Name_Tag\n",
            "Topic: Map\n",
            "Description: map item use view explore terrain console edition ...\n"
          ]
        },
        {
          "output_type": "stream",
          "name": "stderr",
          "text": [
            "/usr/local/lib/python3.10/dist-packages/urllib3/connectionpool.py:1100: InsecureRequestWarning: Unverified HTTPS request is being made to host '134.209.74.243'. Adding certificate verification is strongly advised. See: https://urllib3.readthedocs.io/en/latest/advanced-usage.html#tls-warnings\n",
            "  warnings.warn(\n",
            "/usr/local/lib/python3.10/dist-packages/urllib3/connectionpool.py:1100: InsecureRequestWarning: Unverified HTTPS request is being made to host '134.209.74.243'. Adding certificate verification is strongly advised. See: https://urllib3.readthedocs.io/en/latest/advanced-usage.html#tls-warnings\n",
            "  warnings.warn(\n",
            "/usr/local/lib/python3.10/dist-packages/urllib3/connectionpool.py:1100: InsecureRequestWarning: Unverified HTTPS request is being made to host '134.209.74.243'. Adding certificate verification is strongly advised. See: https://urllib3.readthedocs.io/en/latest/advanced-usage.html#tls-warnings\n",
            "  warnings.warn(\n"
          ]
        },
        {
          "output_type": "stream",
          "name": "stdout",
          "text": [
            "Indexed Map\n",
            "Topic: Steak\n",
            "Description: steak food item obtain cow cow mooshroom dy fire d...\n",
            "Indexed Steak\n",
            "Topic: Sugar\n",
            "Description: sugar food item derive sugar cane witch may drop 0...\n",
            "Indexed Sugar\n",
            "Topic: Written_Book\n",
            "Description: write book item create book quill sign icon write ...\n"
          ]
        },
        {
          "output_type": "stream",
          "name": "stderr",
          "text": [
            "/usr/local/lib/python3.10/dist-packages/urllib3/connectionpool.py:1100: InsecureRequestWarning: Unverified HTTPS request is being made to host '134.209.74.243'. Adding certificate verification is strongly advised. See: https://urllib3.readthedocs.io/en/latest/advanced-usage.html#tls-warnings\n",
            "  warnings.warn(\n",
            "/usr/local/lib/python3.10/dist-packages/urllib3/connectionpool.py:1100: InsecureRequestWarning: Unverified HTTPS request is being made to host '134.209.74.243'. Adding certificate verification is strongly advised. See: https://urllib3.readthedocs.io/en/latest/advanced-usage.html#tls-warnings\n",
            "  warnings.warn(\n",
            "/usr/local/lib/python3.10/dist-packages/urllib3/connectionpool.py:1100: InsecureRequestWarning: Unverified HTTPS request is being made to host '134.209.74.243'. Adding certificate verification is strongly advised. See: https://urllib3.readthedocs.io/en/latest/advanced-usage.html#tls-warnings\n",
            "  warnings.warn(\n"
          ]
        },
        {
          "output_type": "stream",
          "name": "stdout",
          "text": [
            "Indexed Written_Book\n",
            "Topic: Wheat\n",
            "Description: wheat item primarily obtain farm dungeon chest cha...\n",
            "Indexed Wheat\n",
            "Topic: Slimeball\n",
            "Description: slimeball item drop slime tiny slime drop 0 2 slim...\n",
            "Indexed Slimeball\n",
            "Topic: Stick\n",
            "Description: stick item use craft many tool item bonus chest ma...\n"
          ]
        },
        {
          "output_type": "stream",
          "name": "stderr",
          "text": [
            "/usr/local/lib/python3.10/dist-packages/urllib3/connectionpool.py:1100: InsecureRequestWarning: Unverified HTTPS request is being made to host '134.209.74.243'. Adding certificate verification is strongly advised. See: https://urllib3.readthedocs.io/en/latest/advanced-usage.html#tls-warnings\n",
            "  warnings.warn(\n",
            "/usr/local/lib/python3.10/dist-packages/urllib3/connectionpool.py:1100: InsecureRequestWarning: Unverified HTTPS request is being made to host '134.209.74.243'. Adding certificate verification is strongly advised. See: https://urllib3.readthedocs.io/en/latest/advanced-usage.html#tls-warnings\n",
            "  warnings.warn(\n",
            "/usr/local/lib/python3.10/dist-packages/urllib3/connectionpool.py:1100: InsecureRequestWarning: Unverified HTTPS request is being made to host '134.209.74.243'. Adding certificate verification is strongly advised. See: https://urllib3.readthedocs.io/en/latest/advanced-usage.html#tls-warnings\n",
            "  warnings.warn(\n"
          ]
        },
        {
          "output_type": "stream",
          "name": "stdout",
          "text": [
            "Indexed Stick\n",
            "Topic: Sword\n",
            "Description: sword melee weapon monster spawn sword 8 5 9 5 loo...\n",
            "Indexed Sword\n",
            "Topic: Spider_Eye\n",
            "Description: spider eye poisonous food brewing item spider cave...\n",
            "Indexed Spider_Eye\n",
            "Topic: Spawn_Egg\n",
            "Description: spawn egg item may use spawn mobs directly allow p...\n"
          ]
        },
        {
          "output_type": "stream",
          "name": "stderr",
          "text": [
            "/usr/local/lib/python3.10/dist-packages/urllib3/connectionpool.py:1100: InsecureRequestWarning: Unverified HTTPS request is being made to host '134.209.74.243'. Adding certificate verification is strongly advised. See: https://urllib3.readthedocs.io/en/latest/advanced-usage.html#tls-warnings\n",
            "  warnings.warn(\n",
            "/usr/local/lib/python3.10/dist-packages/urllib3/connectionpool.py:1100: InsecureRequestWarning: Unverified HTTPS request is being made to host '134.209.74.243'. Adding certificate verification is strongly advised. See: https://urllib3.readthedocs.io/en/latest/advanced-usage.html#tls-warnings\n",
            "  warnings.warn(\n",
            "/usr/local/lib/python3.10/dist-packages/urllib3/connectionpool.py:1100: InsecureRequestWarning: Unverified HTTPS request is being made to host '134.209.74.243'. Adding certificate verification is strongly advised. See: https://urllib3.readthedocs.io/en/latest/advanced-usage.html#tls-warnings\n",
            "  warnings.warn(\n"
          ]
        },
        {
          "output_type": "stream",
          "name": "stdout",
          "text": [
            "Indexed Spawn_Egg\n",
            "Topic: Shovel\n",
            "Description: shovel tool use ease process collect dirt block zo...\n",
            "Indexed Shovel\n",
            "Topic: Shears\n",
            "Description: shear tool shepherd villager sell shear 3 4 emeral...\n",
            "Indexed Shears\n",
            "Topic: Tools\n",
            "Description: tool item use player hold perform action faster ef...\n"
          ]
        },
        {
          "output_type": "stream",
          "name": "stderr",
          "text": [
            "/usr/local/lib/python3.10/dist-packages/urllib3/connectionpool.py:1100: InsecureRequestWarning: Unverified HTTPS request is being made to host '134.209.74.243'. Adding certificate verification is strongly advised. See: https://urllib3.readthedocs.io/en/latest/advanced-usage.html#tls-warnings\n",
            "  warnings.warn(\n",
            "/usr/local/lib/python3.10/dist-packages/urllib3/connectionpool.py:1100: InsecureRequestWarning: Unverified HTTPS request is being made to host '134.209.74.243'. Adding certificate verification is strongly advised. See: https://urllib3.readthedocs.io/en/latest/advanced-usage.html#tls-warnings\n",
            "  warnings.warn(\n",
            "/usr/local/lib/python3.10/dist-packages/urllib3/connectionpool.py:1100: InsecureRequestWarning: Unverified HTTPS request is being made to host '134.209.74.243'. Adding certificate verification is strongly advised. See: https://urllib3.readthedocs.io/en/latest/advanced-usage.html#tls-warnings\n",
            "  warnings.warn(\n"
          ]
        },
        {
          "output_type": "stream",
          "name": "stdout",
          "text": [
            "Indexed Tools\n"
          ]
        }
      ]
    },
    {
      "cell_type": "code",
      "source": [
        "def search_minecraft(query):\n",
        "    # Define the search request\n",
        "    search_request = {\n",
        "        \"query\": {\n",
        "            \"multi_match\": {\n",
        "                \"query\": query,\n",
        "                \"fields\": [\"topic\", \"description\"]\n",
        "            }\n",
        "        }\n",
        "    }\n",
        "\n",
        "    response = es.search(index=\"minecraft\", body=search_request)\n",
        "\n",
        "    hits = response['hits']['hits']\n",
        "    results = []\n",
        "    for hit in hits:\n",
        "        topic = hit['_source']['topic']\n",
        "        description = hit['_source']['description']\n",
        "        results.append((topic, description))\n",
        "\n",
        "    return results\n",
        "\n",
        "query = \"What is a Cauldron used for?\"\n",
        "results = search_minecraft(query)\n",
        "for topic, description in results:\n",
        "    print(f\"Topic: {topic}\")\n",
        "    print(f\"Description: {description}\\n\")"
      ],
      "metadata": {
        "colab": {
          "base_uri": "https://localhost:8080/"
        },
        "id": "nPFmxvIReAok",
        "outputId": "f1f3c44c-7a2a-4ac6-c6dc-fab6f26571ce"
      },
      "execution_count": null,
      "outputs": [
        {
          "output_type": "stream",
          "name": "stderr",
          "text": [
            "/usr/local/lib/python3.10/dist-packages/urllib3/connectionpool.py:1100: InsecureRequestWarning: Unverified HTTPS request is being made to host '134.209.74.243'. Adding certificate verification is strongly advised. See: https://urllib3.readthedocs.io/en/latest/advanced-usage.html#tls-warnings\n",
            "  warnings.warn(\n"
          ]
        },
        {
          "output_type": "stream",
          "name": "stdout",
          "text": [
            "Topic: Cauldron\n",
            "Description: cauldron block hold water cauldron mine use pickaxe mine without pickaxe drop nothing cauldron destroy water inside lose cauldron craft iron ingot single empty cauldron generate witch hut fill cauldron water press use cauldron water bucket cauldron also chance fill water rain upon water cauldron use fill glass bottle turn water bottle wash dye leather armor remove top pattern layer banner use cauldron press use cauldron glass bottle leather armor banner cauldron extinguish mob fire include player fall use include extinguish mobs cause water level cauldron decrease one third use three time empty must refill additional us endermen fill cauldron take damage water cauldron cannot use fill empty bucket water bottle cannot use refill cauldron cauldron fill water bucket nether cauldron act power source redstone comparator cauldron behind possibly separate unpowered solid block comparator output signal strength proportional full cauldron 0 empty 1 one third full 2 two third full 3 completely full cauldron fullness define block data future plan replace block data block state arrows stick water cauldron try sneak cauldron still fall inside cauldron 0 3125 5 16 block tall cauldron contain water broken water show crack block item throw cauldron hopper underneath hopper receive item potion brew beta 1 9 pre release 2 enable mod cauldron look three different level water empty comparison naturally occur cauldron inside witch hut example cauldron use redstone circuit\n",
            "\n",
            "Topic: Rose_Red\n",
            "Description: rise red primary color dye create primarily flower also craft poppy like pc like dye rise red applied sheep dye wool shorn 1 3 block rise red wool like dye rise red applied tame wolf dye collar like dye rise red combined gunpowder make firework star like dye rise red combined firework star create fade color effect like dye rise red used dye leather armor like dye rise red used dye wool stain glass harden clay like dye rise red used add pattern banner rise red id name minecraft dye data value 1\n",
            "\n",
            "Topic: Glass_Bottle\n",
            "Description: glass bottle item use pick water make water bottle start brew process witch chance drop 0 6 glass bottle upon death xbox 360 version craft tool category bucket glass bottle fill make water bottle use brew item brew stand glass bottle also use hold result potion bottle may fill hold hand right click water source block fill cauldron fill via water source water unaffected filled via cauldron 1 3 water cauldron remove therefore use cauldron fill bottle inefficient except nether normally way fill bottle\n",
            "\n",
            "Topic: Stained_Glass_Pane\n",
            "Description: stain glass pane dye version regular glass pane use decoration purpose stain glass pane broken tool enchant silk touch drop otherwise drop nothing like regular pane stain glass pane function much efficient solution stain glass cover much surface less used resource original look stain glass pane stain glass pane update 1 7 2\n",
            "\n",
            "Topic: Banner\n",
            "Description: banner flag tall decorative block feature field highly customizable use dyes banner break tool without tool axe fast banner also break drop item block banner attach move remove destroyed banner craft wool stick banner hold flag take many different appearance 16 color blank flag numerous pattern available 16 color flag feature 6 different pattern banner much like sign place ground face different direction wall also place item frame simply appear item model layer pattern wash use cauldron banner cannot move piston water lava flow around banner lava create fire air block next banner banner flammable banner burn burn method either banner collision mask completely non solid item mob move banner block include banner place edge banner hitbox banner copy blank banner make multiple identical banner banner use source fuel smelt 1 5 item per banner banner may six pattern overlay last crafted top color banner use color overlayed pattern white banner black occasionally red pattern show simplicity banner define id block data block entity banner also block state expect replace functionality block data future version banner id define whether stand top block attach side block banner block data specifies direction face every banner banner block entity associate hold additional data banner banner visually 2 block high 1 block wide use bottom block top block place wall allow another block place directly banner 20 pixel bottom 40 pixel side banner sway wind however banner lie still nether 16 blank banner 38 pattern 16 color 608 uniquely color pattern 0 6 pattern per banner number uniquely craft banner 16 608 608 608 608 608 608 608 809 quadrillion 809 573 616 779 945 488 number visually distinct flag small one pattern may completely cover pattern entire banner duplicate due symmetric set pattern e g field yellow per pale azure blue field azure per pale invert although impossible add 6 pattern banner craft do use command hover banner inventory six bottommost pattern display use method number unique banner approximately 24 trigintillion one trigintillion one 1 follow 93 zero mojang logo call thing ingame could consider alternate translation mojäng use google translate translates thingys banner texture locate asset minecraft texture entity banner 34 monochrome texture contain 6 side banner texture back side mirror texture front side texture invert used texture instead act mask color base texture base png mean white visible black transparent first image banner tweet jens bergensten banner official 1 8 poster result use gradient different number time time increase level gradient 1 position rotation banner show banner item frame example various type banner example banner design look like flag various country well jolly roger mojang cape examples banner design flags european country examples various cross flag include union jack flag technically incorrect close currently possible koinobori make banner minecraft example cheat banner 6 pattern banner put helmet slot use replaceitem\n",
            "\n",
            "Topic: Bucket\n",
            "Description: bucket tool use carry water lava milk bucket approximately 53 chance spawn dungeon chest appear stack 1 empty bucket use capture water lava spring fill bucket water lava player must press use look source block fill bucket milk player must press use look mooshroom cow pocket edition bucket hold block data value corresponding place since bucket air place anything slot use milk bucket keep mind special bucket obtain external editor normal bucket sprite cauldron bowl glass bottle\n",
            "\n",
            "Topic: Potion\n",
            "Description: potion brewable item imbue consumer specific time limited effect minecraft witch drop potion heal fire resistance swiftness water breathing die drink potion water bottle may catch junk fish use glass bottle water source block cauldron turn water bottle use glass bottle cauldron also low water level cauldron 1 3 almost potion obtain brew start water bottle base potion different effect accord damage value exception revert potion identical base potion potion use press hold use similarly eat food upon use apply correspond status effect player potion four tier base extend level ii revert potion extend obtain add piece redstone potion brewing stand level ii require glowstone dust extend potion receive glowstone dust level ii potion receive piece redstone change effect available become reverted potion potion also corrupt use ferment spider eye usually invert effect example heal harm corrupt potion four tier normal potion tier usually keep corruption console edition bar underneath potion one mean weak second mean glowstone add third mean redstone add fourth mean creative base potion potion create first brew potion base potion effect drink note duration tier ii potion always half duration base potion duration extend tier potion 8 3 duration base class potion exist game code functional cannot brew extend empowered version exist potion brew process normally allow one two take precedence thus potion result custom data value place effect potion data value potion essentially value original potion add 96 e g data value potion strength 8201 96 8297 data value potion strength ii extend see table complete set include 30 unused potion leave behind beta 1 9 pre2 unused potion effect appear texture potion list name value potion obtain use command give player minecraft potion 1 damage value custompotioneffects add multiple 64 value result potion potion add value 16384 result splash version give potion value require custompotioneffects end command potion obtain status effect use give tag custompotioneffects array effect potion see item format potion effect information status effect list effect ids potion data value 373 id name minecraft potion use item data determine potion effect apply r revert potion bits 0 3 1 2 4 8 determine potion effect high legitimately available currently 14 decimal 1110 binary r revert potion bits 0 5 1 2 4 8 16 32 determine potion name r revert potion bit 5 32 true potion level ii potion case revert potion r revert potion bit 6 64 true potion extend potion case revert potion r revert potion potion bits 5 6 set true cannot brew r revert potion bits 13 14 8192 16384 determines whether potion drinkable potion splash potion bit 13 true drinkable 14 true splash potion r revert potion bits 7 12 15 ignore many potion distinct data value property take potion already effect another potion add onto effect time simply reset potion effect downgrade low level activate example player regeneration ii drink regular potion regeneration effect potion reach maximum tier 127 use effect command effect level reach 255 player drink two potion quickly switch another potion immediately drink one second drinking animation show instant damage potion iv powerful enough instantly kill player potion poison ii last 22 5 second display 22 second item hover display show round integer value potion renewable bottle obtain witch potion already fill one fish potion ingredient renewable ingredient provide block farmland water soul sand exist world potion effect glass bottle thick potion status effect mine fatigue duration 4 00 instant health ii brew beta 1 9 pre release 2 unavailable without command bubble appear player drink potion potion strength case night vision effect around 1800 hour invisible sheep wool still see invisibility potion intend feature happen use night vision potion nether brew stand potion display next minecraft potion visual guide\n",
            "\n",
            "Topic: Pickaxe\n",
            "Description: pickax one commonly used tool game require mine ore many type block iron pickax spawn inside chest abandon mine shafts stronghold village blacksmith bonus chest may contain wooden stone pickax tool smith villager sell enchant iron pickax 9 11 emerald one second tier trade enchant diamond pickax 12 15 emerald one third tier trade enchantment might obtain enchantment table level 5 19 pickax craft use 2 stick 3 unit tool material pickaxe use break stone metal base material faster block break use pickaxe pickaxe take 1 damage pickax different amount us base type golden 33 pickax different amount us base type wooden 60 pickax different amount us base type stone 132 pickax different amount us base type iron 251 pickax different amount us base type diamond 1562 different quality pickaxe require successfully harvest certain ore block example stone mine pickaxe gold ore must mine iron diamond pickaxe else player harvest ore different pickax also mine many material different speed see speed table hit mob hold pickaxe increase attack damage pickax take 2 damage use weapon deal different damage base type wooden golden 3 deal different damage base type stone 4 deal different damage base type iron 5 deal different damage base type diamond 6 follow table show time take break type block red background indicate block cannot harvest tool yellow background indicate block cannot harvest tool still drop something green background indicate block harvest tool pickaxe receive follow enchantment silk touch pickaxe receive follow enchantment efficiency pickaxe receive follow enchantment unbreaking pickaxe receive follow enchantment fortune note fortune silk touch mutually exclusive pickax item data field determine durability use five different id pickax use id determine grade pickax item data use determine damage pickaxe pickax data value 0 fully repair value increase every time take damage pickaxe use one use leave break instead increase damage data value pickaxe one use different base type golden 32 data value pickaxe one use different base type wooden 59 data value pickaxe one use different base type stone 131 data value pickaxe one use different base type iron 250 data value pickaxe one use different base type diamond 1561 high value act one use leave foam stone pickax official minecraft merchandise game naughty bear panic paradise buy diamond pickaxe accord game make kick notch pickax refer notch game elder scroll v skyrim find pickaxe call notched pickaxe evidently easter egg game offensive combat stone pickaxe use melee weapon name notch carver game bind isaac obtainable item name notched axe also draw 8 bit look use destroy rock notch axe also make return game remake bind isaac rebirth game borderlands 2 find secret area hide away block resemble minecraft dirt also inside fight creeper mother creeper get rare minecraft relate weapon naturally generate pickaxe\n",
            "\n",
            "Topic: Items\n",
            "Description: item object exist within player inventory hand mean cannot place game world item simply place block entity game world use thus item inventory block place example object exhibit property item frames turn entity place bed turn group block place equipped item block briefly display name hud item use item id block use block id use lot different purpose mainly create block item craft mob drop use consume cook create block item teleport play music ammo block weapon armor tool obtain pick item drop mob die mob drop certain item register kill player spider spider eye blaze blaze rod adult chicken lay eggs every 5 10 minute mineral use tool fuel furnace create block item trade dye work redstone contraption obtain pick item drop mine ore pickaxe right material take item get create smelt ore drag finish product inventory plant non block form examples seed sugarcane item version use create block type plant place farmland dirt sand side log grow give item game fully grow broken manufacture consume obtain pick item drop break block type version non block plant world find reward chest dye use color certain block item sheep get respective color wool shearing also use customize banner primary dye obtain similar mob drop mineral plant example ink sacs mob drop squid lapis lazuli mineral rise red output put red flower plant craft grid secondary tertiary dye obtain combine two primary secondary dye together craft grid example lime cyan purple gray dye secondary tertiary dye also craft put flower plant craft grid craft ingredient ingredient specific category non decoration purpose create block item craft smelt example flint bowls stick paper clay brick nether brick nether quartz obtain lot different cause brew ingredient ingredient necessary create potion examples blaze powder ghast tear glistering melon main ingredient potion water bottle nether wart except weakness potion create without nether wart make splash potion throw instead drink need add gunpowder potion get good potion effect need either add glowstone dust make tier two redstone extend duration two cannot legitimately combine together one potion enchant ingredient ingredient use enchant related thing example enchant book bottle enchant experience bottle obtain enchant trading villager use eat player get hunger point saturation eat wolf tame give health make dog pig breed food item give status effect player normal food apple bread melon pumpkin pie steak give back hunger point saturation without effect good food golden apple give player several good status effect regeneration absorption fire resistance resistance bad food raw chicken rotten flesh spider eye pufferfish give player several bad status effect hunger poison nausea starve food drink milk afterwards clear status effect use variety purpose mainly help player thing coordinate axes allow player break wood type block faster mine hand craft wood cobblestone iron gold diamond shovel allow player break sand type block faster mine hand craft wood cobblestone iron gold diamond pickax allow player break stone type block faster mine hand require different type material order make resource drop specific stone type block craft wood cobblestone iron gold diamond hoe allow player till dirt allow plant crop examples seed carrot pumpkin seed craft wood stone iron gold diamond bucket allow player transport liquid water lava get milk right click cow mooshroom shear allow player make sheep drop wool mooshrooms drop red mushroom cobwebs drop string silk touch enchantment actual cobweb make variety grass leave vine dead bush drop also use break collect tripwire without activate connect redstone dust flint steel allows player set block fire vary period time flammable block burn destroy without item drop process also allow player light nether portal fire nether portal block form inside fire charge effect use one use range projectile oppose tool fish rod allow player go fishing catch several type fish treasure trash well pull mob player closer carrot stick allow player control saddle pig informative tool assist player coordinating world map look make block render show colored pixel respective rendered block compass always point exactly red arrow player original spawn point player pre release alpha beta world may point shift spawn point cod region file derive seed clock show player time world locate nether end rapidly spin mostly use kill mob player faster strategically sword use kill mobs player faster block attack reduce type damage half break block little fast bow arrow use kill mobs player distance snowball use context knock player mob back give time run deal damage ender dragon blaze egg use context knock player mob back give time run deal damage entity fish rod use context knock player mob back give time run deal damage entity also pull mob player towards give people use range combat advantage ender pearl use context teleport away combat use player take 5 fall damage feather fall protection enchantment reduce flint steel fire charge lava bucket use context light player mob fire bucket use context steal player lava water give disadvantage use reduce damage mob player lava explosion armor enchants increase reduction helmet chestplates legging boot full set mob player armor reduces damage zombie skeleton rarely drop spawn wear player throw armor item zombie skeleton zombie pigman wither skeleton pick drop upon kind death horse armor use protect horse damage similar player armor worn tame horse water bucket use context put player fire quickly also used break long fall place right hit ground get rid lava order make escape milk use erase good bad status effect use allow move player mob item land water relative speed ease minecarts use travel much fast across rail also use store pick item work activate redstone circuitry place entity boat use travel much fast across water example oceans river lake place entity saddle carrots stick use need travel pig horse lead use right click passive mob follow mob get pull closer far away player get player distance far lead break drop place mob wheat carrot variety seed use make passive mob follow hold multiplayer player close stop follow player brew brew stand drinkable throwable item confer specific effect produce require resource nether sometimes overworld main ingredient water bottle nether wart use create every potion game exception potion weakness brew item nether wart redstone gunpowder use make splash potion throw mob player instead consume glowstone dust use make tier two potion redstone use extend duration potion glowstone dust redstone cannot legitimately combine together one potion musical item textured similar real life disc put jukebox play music obtain allow creeper kill arrow shot skeleton music disc cat 13 find dungeon reward chest twelve different disc game egg use spawn baby chicken thrown spawn egg textured eggs dot color similar respective mob use spawn mob game obtainable creative right click type spawn egg mob baby spawn baby mob place wolves passive mob baby like except squid bat mob ender dragon giant spawn eggs cheat must use summon use aesthetic purpose firework use beautiful scenery craft variety color shape sound used quickly fly air visually audibly explode book quill use write information story book use miscellaneous purpose name tag use name kind mob keep despawning name mob dinnerbone grumm turn upside name sheep jeb_ make wool color fade 16 color dye sheep although affect drop also name rabbit toast give special bunny item repair item durability item entity\n",
            "\n",
            "Topic: Water\n",
            "Description: water natural fluid water cannot obtain item matter retrieve bucket water naturally generate overworld ocean lakes river spring village desert well player water take 5 time normal amount time mine block ground 25 time ungrounded water spread across surface slightly realistic way cannot spread top another water block water source block create spring generates flow fall water spring destroy flowing water create slowly dry hole six block few point origin water tend flow direction source block fall water land solid block always flow least one direction unless restricted water travel distance 8 block counter reset 0 every time land low level block next water source block destroy water immediately flow direction unless block beneath destroy block block next water update calculates flow spread water extinguish fire wash plant snow torch carpet tripwire rail cobweb flow drop item water source block appear horizontally orthogonally next 2 source block top solid block water source block principle infinite water generator work dispenser empty bucket suck water source front activate fill bucket water snowy biome water source block chance turn ice also appear ice melt except nether ice revert water broken block underneath ice block current water block determines direction appear texture flow direction entity player boat float block horizontal current water block base vector sum flow block 4 horizontal neighbor example block receive water north send south east border solid block west edge current block south southeast 2 southward flow combine 1 eastward flow thus 16 horizontal direction possible branch channel 2 block wide entrance entity float rather continue straight line water current push mob speed 1 39 meter per second 25 block every 18 second water reduces light 2 every block addition normal dispersion visibility lower water get deep three way increase underwater visibility use helmet respiration enchantment use potion night vision water breathe water bucket variation bucket fill water fill bucket water use water source block block consume process use full bucket solid block place water source press side nether however water evaporate activate dispenser let water flow water bucket make water source block turn empty bucket cauldron fill water bucket water spends time stationary rather flow regardless level whether contains current downwards side specifically trigger block update water change flow update level change back stationary water spring generate flow ocean lakes river generate stationary happens type generate structure create main cause water glitch generate structure trigger block update let water flow bit 0x8 set liquid fall spread downward level low bit essentially ignore since block high fluid level lower three bit fluid block level 0x0 high fluid level necessarily fill block depend neighbor fluid block upper corner block data value increase fluid level block drop 0x1 next high 0x2 low 0x7 low fluid level along line flat plane water drop one level per meter source note video state infinite water source find world shallower area ever since 1 5 update long case water source block form even solid block long water source block mean even deep body water use infinite water source underwater player fov field vision lower 10 simulate light refraction old water texture still find asset use game underwater default water animation appear since redstone update 1 8 underwater particle bubble leaky roof notice particle drip block water underground still part 2 different biome color split geyser vertical column fall water leave behind large tnt explosion apparent source water flow cave bubble appear hunger bar player head water bubble pop heart damage deal every second air refill naturally occur waterfall image appear underwater us old water texture info see trivia\n",
            "\n"
          ]
        }
      ]
    },
    {
      "cell_type": "code",
      "source": [
        "import nltk\n",
        "\n",
        "question = \"What is the use of a redstone comparator in Minecraft?\"\n",
        "\n",
        "tokens = nltk.word_tokenize(question)"
      ],
      "metadata": {
        "id": "jsxfKACMgr_j"
      },
      "execution_count": null,
      "outputs": []
    },
    {
      "cell_type": "code",
      "source": [
        "pos_tags = nltk.pos_tag(tokens)"
      ],
      "metadata": {
        "id": "g6Dahn3jLYS-"
      },
      "execution_count": null,
      "outputs": []
    },
    {
      "cell_type": "code",
      "source": [
        "keywords = [word for word, pos in pos_tags if pos in ('NN', 'NNS', 'NNP', 'NNPS', 'VB', 'VBD', 'VBG', 'VBN', 'VBP', 'VBZ')]"
      ],
      "metadata": {
        "id": "jeBIJabjLaOp"
      },
      "execution_count": null,
      "outputs": []
    },
    {
      "cell_type": "code",
      "source": [
        "index_name = 'minecraft'\n",
        "\n",
        "def fetch_indexed_data(index_name):\n",
        "    indexed_data = {}\n",
        "\n",
        "    result = es.search(index=index_name, scroll='1m', size=1000)\n",
        "    scroll_id = result['_scroll_id']\n",
        "    while len(result['hits']['hits']):\n",
        "        for hit in result['hits']['hits']:\n",
        "            doc_id = hit['_id']\n",
        "            doc_source = hit['_source']\n",
        "            indexed_data[doc_id] = doc_source\n",
        "        result = es.scroll(scroll_id=scroll_id, scroll='1m')\n",
        "        scroll_id = result['_scroll_id']\n",
        "\n",
        "    return indexed_data\n",
        "\n",
        "indexed_data = fetch_indexed_data(index_name)"
      ],
      "metadata": {
        "colab": {
          "base_uri": "https://localhost:8080/"
        },
        "id": "D0llQKmvMHs9",
        "outputId": "5f2ac40b-e58c-45ff-adc8-2db77d92b29a"
      },
      "execution_count": null,
      "outputs": [
        {
          "output_type": "stream",
          "name": "stderr",
          "text": [
            "/usr/local/lib/python3.10/dist-packages/urllib3/connectionpool.py:1100: InsecureRequestWarning: Unverified HTTPS request is being made to host '134.209.74.243'. Adding certificate verification is strongly advised. See: https://urllib3.readthedocs.io/en/latest/advanced-usage.html#tls-warnings\n",
            "  warnings.warn(\n",
            "/usr/local/lib/python3.10/dist-packages/urllib3/connectionpool.py:1100: InsecureRequestWarning: Unverified HTTPS request is being made to host '134.209.74.243'. Adding certificate verification is strongly advised. See: https://urllib3.readthedocs.io/en/latest/advanced-usage.html#tls-warnings\n",
            "  warnings.warn(\n"
          ]
        }
      ]
    },
    {
      "cell_type": "code",
      "source": [
        "keywords = [keyword.lower() for keyword in keywords]\n",
        "\n",
        "# Check if any of the keywords match the keys in your indexed data\n",
        "matching_entities = [entity for entity in indexed_data if any(keyword in entity.lower() for keyword in keywords)]\n",
        "relevant_data = {entity: indexed_data[entity] for entity in matching_entities}"
      ],
      "metadata": {
        "id": "1D_KdjCaLbbf"
      },
      "execution_count": null,
      "outputs": []
    },
    {
      "cell_type": "code",
      "source": [
        "from sklearn.feature_extraction.text import TfidfVectorizer\n",
        "from sklearn.metrics.pairwise import linear_kernel\n",
        "\n",
        "documents = [data['description'] for data in relevant_data.values()]\n",
        "\n",
        "texts = [question] + documents\n",
        "\n",
        "vectorizer = TfidfVectorizer()\n",
        "tfidf_matrix = vectorizer.fit_transform(texts)\n",
        "\n",
        "cosine_similarities = linear_kernel(tfidf_matrix[0:1], tfidf_matrix).flatten()\n",
        "\n",
        "document_ranking = [documents[i - 1] for i in cosine_similarities.argsort()[::-1] if i != 0]\n",
        "\n"
      ],
      "metadata": {
        "id": "VMMaIPWrLxHL"
      },
      "execution_count": null,
      "outputs": []
    },
    {
      "cell_type": "code",
      "source": [
        "import re\n",
        "from nltk.tokenize import sent_tokenize\n",
        "\n",
        "# Function to extract keywords from a text\n",
        "def extract_keywords(text):\n",
        "    return set(re.findall(r'\\b\\w+\\b', text.lower()))\n",
        "\n",
        "# Get the keywords from the user's question\n",
        "question_keywords = extract_keywords(question)\n",
        "\n",
        "# Initialize an empty list to store sentences and their scores\n",
        "candidate_answers = []\n",
        "\n",
        "# Go through each document in the ranked list\n",
        "for doc in document_ranking:\n",
        "    # Tokenize the document into sentences\n",
        "    sentences = sent_tokenize(doc)\n",
        "\n",
        "    # Go through each sentence in the document\n",
        "    for sentence in sentences:\n",
        "        # Get the keywords in the sentence\n",
        "        sentence_keywords = extract_keywords(sentence)\n",
        "\n",
        "        # Compute a score based on keyword overlap\n",
        "        score = len(question_keywords.intersection(sentence_keywords))\n",
        "\n",
        "        # Append the sentence and its score to the list of candidates\n",
        "        candidate_answers.append((sentence, score))\n",
        "\n",
        "# Sort the candidate answers by their scores in descending order\n",
        "candidate_answers.sort(key=lambda x: x[1], reverse=True)\n",
        "\n",
        "# The top-ranked sentence is your answer (or you could return the top N sentences)\n",
        "answer = candidate_answers[0][0]\n",
        "\n",
        "# Print the answer\n",
        "print(answer)"
      ],
      "metadata": {
        "colab": {
          "base_uri": "https://localhost:8080/",
          "height": 249
        },
        "id": "GaZuNYO2MnLR",
        "outputId": "5cefcdd2-8c83-4eda-b4cd-e1c454d5f21e"
      },
      "execution_count": null,
      "outputs": [
        {
          "output_type": "error",
          "ename": "NameError",
          "evalue": "ignored",
          "traceback": [
            "\u001b[0;31m---------------------------------------------------------------------------\u001b[0m",
            "\u001b[0;31mNameError\u001b[0m                                 Traceback (most recent call last)",
            "\u001b[0;32m<ipython-input-2-7a91874eb24a>\u001b[0m in \u001b[0;36m<cell line: 9>\u001b[0;34m()\u001b[0m\n\u001b[1;32m      7\u001b[0m \u001b[0;34m\u001b[0m\u001b[0m\n\u001b[1;32m      8\u001b[0m \u001b[0;31m# Get the keywords from the user's question\u001b[0m\u001b[0;34m\u001b[0m\u001b[0;34m\u001b[0m\u001b[0m\n\u001b[0;32m----> 9\u001b[0;31m \u001b[0mquestion_keywords\u001b[0m \u001b[0;34m=\u001b[0m \u001b[0mextract_keywords\u001b[0m\u001b[0;34m(\u001b[0m\u001b[0mquestion\u001b[0m\u001b[0;34m)\u001b[0m\u001b[0;34m\u001b[0m\u001b[0;34m\u001b[0m\u001b[0m\n\u001b[0m\u001b[1;32m     10\u001b[0m \u001b[0;34m\u001b[0m\u001b[0m\n\u001b[1;32m     11\u001b[0m \u001b[0;31m# Initialize an empty list to store sentences and their scores\u001b[0m\u001b[0;34m\u001b[0m\u001b[0;34m\u001b[0m\u001b[0m\n",
            "\u001b[0;31mNameError\u001b[0m: name 'question' is not defined"
          ]
        }
      ]
    },
    {
      "cell_type": "code",
      "source": [
        "!pip install transformers"
      ],
      "metadata": {
        "colab": {
          "base_uri": "https://localhost:8080/"
        },
        "id": "sfbAvcvFPTcY",
        "outputId": "134663fe-7809-4bf6-d509-11de372ace37"
      },
      "execution_count": null,
      "outputs": [
        {
          "output_type": "stream",
          "name": "stdout",
          "text": [
            "Requirement already satisfied: transformers in /usr/local/lib/python3.10/dist-packages (4.34.1)\n",
            "Requirement already satisfied: filelock in /usr/local/lib/python3.10/dist-packages (from transformers) (3.12.4)\n",
            "Requirement already satisfied: huggingface-hub<1.0,>=0.16.4 in /usr/local/lib/python3.10/dist-packages (from transformers) (0.17.3)\n",
            "Requirement already satisfied: numpy>=1.17 in /usr/local/lib/python3.10/dist-packages (from transformers) (1.23.5)\n",
            "Requirement already satisfied: packaging>=20.0 in /usr/local/lib/python3.10/dist-packages (from transformers) (23.2)\n",
            "Requirement already satisfied: pyyaml>=5.1 in /usr/local/lib/python3.10/dist-packages (from transformers) (6.0.1)\n",
            "Requirement already satisfied: regex!=2019.12.17 in /usr/local/lib/python3.10/dist-packages (from transformers) (2023.6.3)\n",
            "Requirement already satisfied: requests in /usr/local/lib/python3.10/dist-packages (from transformers) (2.31.0)\n",
            "Requirement already satisfied: tokenizers<0.15,>=0.14 in /usr/local/lib/python3.10/dist-packages (from transformers) (0.14.1)\n",
            "Requirement already satisfied: safetensors>=0.3.1 in /usr/local/lib/python3.10/dist-packages (from transformers) (0.4.0)\n",
            "Requirement already satisfied: tqdm>=4.27 in /usr/local/lib/python3.10/dist-packages (from transformers) (4.66.1)\n",
            "Requirement already satisfied: fsspec in /usr/local/lib/python3.10/dist-packages (from huggingface-hub<1.0,>=0.16.4->transformers) (2023.6.0)\n",
            "Requirement already satisfied: typing-extensions>=3.7.4.3 in /usr/local/lib/python3.10/dist-packages (from huggingface-hub<1.0,>=0.16.4->transformers) (4.5.0)\n",
            "Requirement already satisfied: charset-normalizer<4,>=2 in /usr/local/lib/python3.10/dist-packages (from requests->transformers) (3.3.1)\n",
            "Requirement already satisfied: idna<4,>=2.5 in /usr/local/lib/python3.10/dist-packages (from requests->transformers) (3.4)\n",
            "Requirement already satisfied: urllib3<3,>=1.21.1 in /usr/local/lib/python3.10/dist-packages (from requests->transformers) (2.0.7)\n",
            "Requirement already satisfied: certifi>=2017.4.17 in /usr/local/lib/python3.10/dist-packages (from requests->transformers) (2023.7.22)\n"
          ]
        }
      ]
    },
    {
      "cell_type": "code",
      "source": [
        "from transformers import BertTokenizer, BertForQuestionAnswering\n",
        "import torch\n",
        "\n",
        "# Load the pretrained BERT model and tokenizer\n",
        "tokenizer = BertTokenizer.from_pretrained('bert-large-uncased-whole-word-masking-finetuned-squad')\n",
        "model = BertForQuestionAnswering.from_pretrained('bert-large-uncased-whole-word-masking-finetuned-squad')\n",
        "\n",
        "def get_answer(question, context):\n",
        "    # Tokenize the input\n",
        "    input_text = \"[CLS] \" + question + \" [SEP] \" + context + \" [SEP]\"\n",
        "    input_ids = tokenizer.encode(input_text)\n",
        "    token_type_ids = [0 if i <= input_ids.index(102) else 1 for i in range(len(input_ids))]\n",
        "\n",
        "    # Convert to PyTorch tensors and run the model\n",
        "    input_ids = torch.tensor([input_ids])\n",
        "    token_type_ids = torch.tensor([token_type_ids])\n",
        "    with torch.no_grad():\n",
        "        outputs = model(input_ids, token_type_ids=token_type_ids)\n",
        "\n",
        "    # Get the most likely start and end positions for the answer\n",
        "    answer_start = torch.argmax(outputs.start_logits)\n",
        "    answer_end = torch.argmax(outputs.end_logits)\n",
        "\n",
        "    # Get the answer text\n",
        "    answer = tokenizer.convert_tokens_to_string(tokenizer.convert_ids_to_tokens(input_ids[0][answer_start:answer_end+1]))\n",
        "\n",
        "    return answer\n",
        "\n",
        "# Assume the first document in the ranking is the most relevant\n",
        "most_relevant_doc = document_ranking[0]\n",
        "\n",
        "# Get the answer from the most relevant document\n",
        "answer = get_answer(question, most_relevant_doc)\n",
        "print(answer)"
      ],
      "metadata": {
        "colab": {
          "base_uri": "https://localhost:8080/"
        },
        "id": "7n-QcE2JOR30",
        "outputId": "6c1a1410-1dc4-470a-cdcc-3f7a7bfed724"
      },
      "execution_count": null,
      "outputs": [
        {
          "output_type": "stream",
          "name": "stderr",
          "text": [
            "Some weights of the model checkpoint at bert-large-uncased-whole-word-masking-finetuned-squad were not used when initializing BertForQuestionAnswering: ['bert.pooler.dense.weight', 'bert.pooler.dense.bias']\n",
            "- This IS expected if you are initializing BertForQuestionAnswering from the checkpoint of a model trained on another task or with another architecture (e.g. initializing a BertForSequenceClassification model from a BertForPreTraining model).\n",
            "- This IS NOT expected if you are initializing BertForQuestionAnswering from the checkpoint of a model that you expect to be exactly identical (initializing a BertForSequenceClassification model from a BertForSequenceClassification model).\n"
          ]
        },
        {
          "output_type": "stream",
          "name": "stdout",
          "text": [
            "pickaxe mine without pickaxe drop nothing\n"
          ]
        }
      ]
    },
    {
      "cell_type": "code",
      "source": [],
      "metadata": {
        "id": "75IaKBNSPR2Z"
      },
      "execution_count": null,
      "outputs": []
    }
  ],
  "metadata": {
    "accelerator": "GPU",
    "colab": {
      "machine_shape": "hm",
      "provenance": [],
      "gpuType": "V100"
    },
    "kernelspec": {
      "display_name": "Python 3",
      "name": "python3"
    },
    "language_info": {
      "name": "python"
    }
  },
  "nbformat": 4,
  "nbformat_minor": 0
}