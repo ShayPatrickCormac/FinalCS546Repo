{
 "cells": [
  {
   "cell_type": "code",
   "execution_count": 8,
   "metadata": {},
   "outputs": [],
   "source": [
    "import json\n",
    "\n",
    "def load_json_file(file_path):\n",
    "    with open(file_path, 'r', encoding='utf-8') as file:\n",
    "        data = json.load(file)\n",
    "    return data\n",
    "\n",
    "file_path = './part_scraped_final_minecraft_dataset(1).json'\n",
    "data = load_json_file(file_path)\n",
    "\n"
   ]
  },
  {
   "cell_type": "code",
   "execution_count": 31,
   "metadata": {},
   "outputs": [
    {
     "name": "stdout",
     "output_type": "stream",
     "text": [
      "{'how can': 187, 'where can': 15, 'what is': 304, 'what are': 80, 'which blocks': 3, 'how are': 10, 'what happens': 69, 'how does': 36, 'what can': 28, 'what do': 5, 'what types': 2, 'what sound': 53, 'where does': 6, 'what must': 6, 'in which': 12, 'what items': 7, 'how do': 20, 'what effect': 14, 'where do': 26, 'what tool': 35, 'what type': 5, 'at what': 2, 'how many': 24, 'what exception': 1, 'what drops': 1, 'can sea': 1, 'what materials': 8, 'what percentage': 1, 'on which': 3, 'what special': 2, 'what ore': 2, 'at which': 3, 'can reinforced': 1, 'what two': 1, 'how much': 9, 'how is': 18, 'what rule': 1, 'in what': 2, 'on what': 2, 'what item': 3, 'what sounds': 2, 'what benefit': 1, 'when used': 1, 'which tool': 5, 'what action': 1, 'what light': 2, 'what elements': 1, 'what function': 2, 'what purpose': 1, 'what natural': 1, 'which block': 1, 'what blocks': 4, 'which types': 1, 'what chance': 1, 'can sniffer': 1, 'where is': 1, 'what dimension': 1, 'what block': 2, 'what unique': 2, 'what structures': 1, 'can barrels': 1, 'how long': 5, 'under what': 2, 'can rain': 1, 'what impact': 1, 'where are': 1, 'can piglins': 1, 'what creatures': 1, 'what will': 3, 'what kind': 2, 'can you': 1, 'which type': 1, 'what does': 5, 'which item': 1, 'what biomes': 1, 'in addition': 1, 'how fast': 1, 'what enchantment': 1, 'are bells': 1, 'what material': 1, 'where in': 1, 'what layers': 1, 'what components': 1, 'which mobs': 1, 'which commands': 1, 'can fire': 1, 'what colors': 1, 'what three': 1, 'why might': 1, 'can frosted': 1, 'during which': 1, 'how were': 1, 'what was': 1, 'how could': 1, 'can the': 1}\n",
      "[('what is', 304), ('how can', 187), ('what are', 80), ('what happens', 69), ('what sound', 53), ('how does', 36), ('what tool', 35), ('what can', 28), ('where do', 26), ('how many', 24), ('how do', 20), ('how is', 18), ('where can', 15), ('what effect', 14), ('in which', 12), ('how are', 10), ('how much', 9), ('what materials', 8), ('what items', 7), ('where does', 6), ('what must', 6), ('what do', 5), ('what type', 5), ('which tool', 5), ('how long', 5), ('what does', 5), ('what blocks', 4), ('which blocks', 3), ('on which', 3), ('at which', 3), ('what item', 3), ('what will', 3), ('what types', 2), ('at what', 2), ('what special', 2), ('what ore', 2), ('in what', 2), ('on what', 2), ('what sounds', 2), ('what light', 2), ('what function', 2), ('what block', 2), ('what unique', 2), ('under what', 2), ('what kind', 2), ('what exception', 1), ('what drops', 1), ('can sea', 1), ('what percentage', 1), ('can reinforced', 1), ('what two', 1), ('what rule', 1), ('what benefit', 1), ('when used', 1), ('what action', 1), ('what elements', 1), ('what purpose', 1), ('what natural', 1), ('which block', 1), ('which types', 1), ('what chance', 1), ('can sniffer', 1), ('where is', 1), ('what dimension', 1), ('what structures', 1), ('can barrels', 1), ('can rain', 1), ('what impact', 1), ('where are', 1), ('can piglins', 1), ('what creatures', 1), ('can you', 1), ('which type', 1), ('which item', 1), ('what biomes', 1), ('in addition', 1), ('how fast', 1), ('what enchantment', 1), ('are bells', 1), ('what material', 1), ('where in', 1), ('what layers', 1), ('what components', 1), ('which mobs', 1), ('which commands', 1), ('can fire', 1), ('what colors', 1), ('what three', 1), ('why might', 1), ('can frosted', 1), ('during which', 1), ('how were', 1), ('what was', 1), ('how could', 1), ('can the', 1)]\n",
      "{'how': 312, 'what': 678, 'which': 33, 'where': 50, 'can': 10, 'other': 4}\n",
      "1087\n",
      "{'how': 28.702851885924563, 'what': 62.37350505979761, 'which': 3.035878564857406, 'where': 4.599816007359705, 'can': 0.9199632014719411, 'other': 0.36798528058877644}\n"
     ]
    }
   ],
   "source": [
    "question_types = {}\n",
    "for article in data['data']:\n",
    "        for paragraph in article['paragraphs']:\n",
    "            for qa in paragraph['qas']:\n",
    "                question = qa['question']\n",
    "                words = question.split()[:2]\n",
    "                question_type = f\"{words[0].lower()} {words[1].lower()}\"\n",
    "                if question_type in question_types:\n",
    "                    question_types[question_type] += 1\n",
    "                else:\n",
    "                    question_types[question_type] = 1\n",
    "                    #print(question)\n",
    "print(question_types)\n",
    "sorted_question_types = sorted(question_types.items(), key=lambda x: x[1], reverse=True)\n",
    "print(sorted_question_types)\n",
    "\n",
    "question_types_leading_word = {'how': 0, 'what': 0, 'which': 0, 'where': 0, 'can': 0, 'other': 0}\n",
    "for question_type, count in sorted_question_types:\n",
    "    words = question_type.split()[:2]\n",
    "    if words[0] in question_types_leading_word:\n",
    "        question_types_leading_word[words[0]] += count\n",
    "    elif words[1] in question_types_leading_word:\n",
    "        question_types_leading_word[words[1]] += count\n",
    "    else:\n",
    "        question_types_leading_word['other'] += count\n",
    "print(question_types_leading_word)\n",
    "\n",
    "total_count = sum(question_types_leading_word.values())\n",
    "print(total_count)\n",
    "question_percentages = {question_type: (count / total_count) * 100 for question_type, count in question_types_leading_word.items()}\n",
    "print(question_percentages)"
   ]
  }
 ],
 "metadata": {
  "language_info": {
   "name": "python"
  }
 },
 "nbformat": 4,
 "nbformat_minor": 2
}
